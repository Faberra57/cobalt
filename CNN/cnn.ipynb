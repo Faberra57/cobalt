{
 "cells": [
  {
   "cell_type": "markdown",
   "metadata": {},
   "source": [
    "This fil is for CNN application"
   ]
  },
  {
   "cell_type": "code",
   "execution_count": 1,
   "metadata": {},
   "outputs": [],
   "source": [
    "#pip install opencv-python"
   ]
  },
  {
   "cell_type": "code",
   "execution_count": 2,
   "metadata": {},
   "outputs": [],
   "source": [
    " #import libraries \n",
    "import sys\n",
    "import os\n",
    "# the pah to a repository containing tool_kit \n",
    "path_to_tool_kit = os.path.abspath('..')\n",
    "if path_to_tool_kit not in sys.path:\n",
    "    sys.path.append(path_to_tool_kit)\n",
    "import tool_kit as tk\n",
    "import numpy as np\n",
    "import pandas as pd\n",
    "import torchvision.transforms as transforms\n",
    "import matplotlib.pyplot as plt\n"
   ]
  },
  {
   "cell_type": "code",
   "execution_count": 3,
   "metadata": {},
   "outputs": [
    {
     "name": "stdout",
     "output_type": "stream",
     "text": [
      "e:\\Cobalt\\cobalt\n"
     ]
    }
   ],
   "source": [
    "print(path_to_tool_kit)"
   ]
  },
  {
   "cell_type": "code",
   "execution_count": 4,
   "metadata": {},
   "outputs": [
    {
     "name": "stdout",
     "output_type": "stream",
     "text": [
      " images =\n",
      "                             image_id  nb_cells mask  blur\n",
      "0  SIMCEPImages_A01_C1_F1_s01_w1.TIF         1  yes     1\n",
      "1  SIMCEPImages_A01_C1_F1_s01_w2.TIF         1  yes     1\n",
      "2  SIMCEPImages_A01_C1_F1_s02_w1.TIF         1  yes     1\n",
      "3  SIMCEPImages_A01_C1_F1_s02_w2.TIF         1  yes     1\n",
      "4  SIMCEPImages_A01_C1_F1_s03_w1.TIF         1  yes     1\n",
      " mask =\n",
      "                             image_id  nb_cells\n",
      "0  SIMCEPImages_A01_C1_F1_s01_w1.TIF         1\n",
      "1  SIMCEPImages_A01_C1_F1_s01_w2.TIF         1\n",
      "2  SIMCEPImages_A01_C1_F1_s02_w1.TIF         1\n",
      "3  SIMCEPImages_A01_C1_F1_s02_w2.TIF         1\n",
      "4  SIMCEPImages_A01_C1_F1_s03_w1.TIF         1\n"
     ]
    }
   ],
   "source": [
    "tk.set_path_to_dataset('..')\n",
    "images = tk.load_data_image()\n",
    "mask = tk.load_data_mask()\n",
    "print(' images =\\n',images.head())\n",
    "print(' mask =\\n',mask .head())\n",
    "# mask is a data frame of type pandas that coontains images id and the number of the cells in the image\n",
    "# images is a data frame of type pandas that contains the images id , the  number of the cells in the imamage , the boolean of the mask and blur"
   ]
  },
  {
   "cell_type": "markdown",
   "metadata": {},
   "source": [
    "Select the data frame that you want to use "
   ]
  },
  {
   "cell_type": "code",
   "execution_count": 5,
   "metadata": {},
   "outputs": [
    {
     "data": {
      "text/html": [
       "<div>\n",
       "<style scoped>\n",
       "    .dataframe tbody tr th:only-of-type {\n",
       "        vertical-align: middle;\n",
       "    }\n",
       "\n",
       "    .dataframe tbody tr th {\n",
       "        vertical-align: top;\n",
       "    }\n",
       "\n",
       "    .dataframe thead th {\n",
       "        text-align: right;\n",
       "    }\n",
       "</style>\n",
       "<table border=\"1\" class=\"dataframe\">\n",
       "  <thead>\n",
       "    <tr style=\"text-align: right;\">\n",
       "      <th></th>\n",
       "      <th>image_id</th>\n",
       "      <th>nb_cells</th>\n",
       "    </tr>\n",
       "  </thead>\n",
       "  <tbody>\n",
       "    <tr>\n",
       "      <th>0</th>\n",
       "      <td>SIMCEPImages_A01_C1_F1_s01_w1.TIF</td>\n",
       "      <td>1</td>\n",
       "    </tr>\n",
       "    <tr>\n",
       "      <th>2</th>\n",
       "      <td>SIMCEPImages_A01_C1_F1_s02_w1.TIF</td>\n",
       "      <td>1</td>\n",
       "    </tr>\n",
       "    <tr>\n",
       "      <th>4</th>\n",
       "      <td>SIMCEPImages_A01_C1_F1_s03_w1.TIF</td>\n",
       "      <td>1</td>\n",
       "    </tr>\n",
       "    <tr>\n",
       "      <th>6</th>\n",
       "      <td>SIMCEPImages_A01_C1_F1_s04_w1.TIF</td>\n",
       "      <td>1</td>\n",
       "    </tr>\n",
       "    <tr>\n",
       "      <th>8</th>\n",
       "      <td>SIMCEPImages_A01_C1_F1_s05_w1.TIF</td>\n",
       "      <td>1</td>\n",
       "    </tr>\n",
       "    <tr>\n",
       "      <th>...</th>\n",
       "      <td>...</td>\n",
       "      <td>...</td>\n",
       "    </tr>\n",
       "    <tr>\n",
       "      <th>1190</th>\n",
       "      <td>SIMCEPImages_A24_C100_F1_s21_w1.TIF</td>\n",
       "      <td>100</td>\n",
       "    </tr>\n",
       "    <tr>\n",
       "      <th>1192</th>\n",
       "      <td>SIMCEPImages_A24_C100_F1_s22_w1.TIF</td>\n",
       "      <td>100</td>\n",
       "    </tr>\n",
       "    <tr>\n",
       "      <th>1194</th>\n",
       "      <td>SIMCEPImages_A24_C100_F1_s23_w1.TIF</td>\n",
       "      <td>100</td>\n",
       "    </tr>\n",
       "    <tr>\n",
       "      <th>1196</th>\n",
       "      <td>SIMCEPImages_A24_C100_F1_s24_w1.TIF</td>\n",
       "      <td>100</td>\n",
       "    </tr>\n",
       "    <tr>\n",
       "      <th>1198</th>\n",
       "      <td>SIMCEPImages_A24_C100_F1_s25_w1.TIF</td>\n",
       "      <td>100</td>\n",
       "    </tr>\n",
       "  </tbody>\n",
       "</table>\n",
       "<p>600 rows × 2 columns</p>\n",
       "</div>"
      ],
      "text/plain": [
       "                                 image_id  nb_cells\n",
       "0       SIMCEPImages_A01_C1_F1_s01_w1.TIF         1\n",
       "2       SIMCEPImages_A01_C1_F1_s02_w1.TIF         1\n",
       "4       SIMCEPImages_A01_C1_F1_s03_w1.TIF         1\n",
       "6       SIMCEPImages_A01_C1_F1_s04_w1.TIF         1\n",
       "8       SIMCEPImages_A01_C1_F1_s05_w1.TIF         1\n",
       "...                                   ...       ...\n",
       "1190  SIMCEPImages_A24_C100_F1_s21_w1.TIF       100\n",
       "1192  SIMCEPImages_A24_C100_F1_s22_w1.TIF       100\n",
       "1194  SIMCEPImages_A24_C100_F1_s23_w1.TIF       100\n",
       "1196  SIMCEPImages_A24_C100_F1_s24_w1.TIF       100\n",
       "1198  SIMCEPImages_A24_C100_F1_s25_w1.TIF       100\n",
       "\n",
       "[600 rows x 2 columns]"
      ]
     },
     "execution_count": 5,
     "metadata": {},
     "output_type": "execute_result"
    }
   ],
   "source": [
    "mask_or_image='mask'\n",
    "if mask_or_image=='mask':\n",
    "    df=mask\n",
    "    # Filtrer les lignes du DataFrame où 'image_id' contient 'w2'\n",
    "    df = df[df['image_id'].str.contains(\"w1\", case=False, na=False)]\n",
    "\n",
    "else:\n",
    "    df=images.copy()\n",
    "    df.drop(columns=['blur', 'mask'],inplace=True) \n",
    "df"
   ]
  },
  {
   "cell_type": "markdown",
   "metadata": {},
   "source": [
    "## Separation test set et train set"
   ]
  },
  {
   "cell_type": "code",
   "execution_count": 6,
   "metadata": {},
   "outputs": [
    {
     "name": "stdout",
     "output_type": "stream",
     "text": [
      "len(df) = 600\n",
      "len(df_train) = 480\n",
      "len(df_test) = 120\n",
      "df_train =\n",
      " <bound method NDFrame.head of                                 image_id  nb_cells\n",
      "192   SIMCEPImages_A04_C14_F1_s22_w1.TIF        14\n",
      "1022  SIMCEPImages_A21_C87_F1_s12_w1.TIF        87\n",
      "976   SIMCEPImages_A20_C83_F1_s14_w1.TIF        83\n",
      "692   SIMCEPImages_A14_C57_F1_s22_w1.TIF        57\n",
      "990   SIMCEPImages_A20_C83_F1_s21_w1.TIF        83\n",
      "...                                  ...       ...\n",
      "272   SIMCEPImages_A06_C23_F1_s12_w1.TIF        23\n",
      "676   SIMCEPImages_A14_C57_F1_s14_w1.TIF        57\n",
      "870   SIMCEPImages_A18_C74_F1_s11_w1.TIF        74\n",
      "1066  SIMCEPImages_A22_C91_F1_s09_w1.TIF        91\n",
      "260   SIMCEPImages_A06_C23_F1_s06_w1.TIF        23\n",
      "\n",
      "[480 rows x 2 columns]>\n",
      "df_test =\n",
      "                                 image_id  nb_cells\n",
      "220   SIMCEPImages_A05_C18_F1_s11_w1.TIF        18\n",
      "838   SIMCEPImages_A17_C70_F1_s20_w1.TIF        70\n",
      "1130  SIMCEPImages_A23_C96_F1_s16_w1.TIF        96\n",
      "154   SIMCEPImages_A04_C14_F1_s03_w1.TIF        14\n",
      "362   SIMCEPImages_A08_C31_F1_s07_w1.TIF        31\n"
     ]
    }
   ],
   "source": [
    "frac=0.2\n",
    "df_test= df.sample( frac=frac, replace=False, random_state=42)\n",
    "df_train = df.drop(df_test.index).sample(frac=1, random_state=42)\n",
    "\n",
    "print('len(df) =',len(df))\n",
    "print('len(df_train) =',len(df_train))\n",
    "print('len(df_test) =',len(df_test))\n",
    "print( 'df_train =\\n',df_train.head)\n",
    "print( 'df_test =\\n',df_test.head())    \n",
    "\n"
   ]
  },
  {
   "cell_type": "markdown",
   "metadata": {},
   "source": [
    "## Test d'affichage d'images et de nombre de cellules dedans  \n"
   ]
  },
  {
   "cell_type": "code",
   "execution_count": 7,
   "metadata": {},
   "outputs": [
    {
     "data": {
      "text/plain": [
       "'IMG_HEIGHT = 128*2\\nIMG_WIDTH = 128*2\\ndf_train = tk.data_to_numpy(df=df_train,img_width=IMG_HEIGHT,img_height=IMG_WIDTH,mask_or_image=mask_or_image)\\ndf_test = tk.data_to_numpy(df=df_test,img_width=IMG_HEIGHT,img_height=IMG_WIDTH,mask_or_image=mask_or_image)\\ndf_train=df.to_numpy()\\ndf_test=df.to_numpy()'"
      ]
     },
     "execution_count": 7,
     "metadata": {},
     "output_type": "execute_result"
    }
   ],
   "source": [
    "\"\"\"IMG_HEIGHT = 128*2\n",
    "IMG_WIDTH = 128*2\n",
    "df_train = tk.data_to_numpy(df=df_train,img_width=IMG_HEIGHT,img_height=IMG_WIDTH,mask_or_image=mask_or_image)\n",
    "df_test = tk.data_to_numpy(df=df_test,img_width=IMG_HEIGHT,img_height=IMG_WIDTH,mask_or_image=mask_or_image)\n",
    "df_train=df.to_numpy()\n",
    "df_test=df.to_numpy()\"\"\""
   ]
  },
  {
   "cell_type": "code",
   "execution_count": 8,
   "metadata": {},
   "outputs": [
    {
     "data": {
      "text/plain": [
       "(600, 2)"
      ]
     },
     "execution_count": 8,
     "metadata": {},
     "output_type": "execute_result"
    }
   ],
   "source": [
    "df.shape"
   ]
  },
  {
   "cell_type": "code",
   "execution_count": 9,
   "metadata": {},
   "outputs": [
    {
     "name": "stdout",
     "output_type": "stream",
     "text": [
      "480\n"
     ]
    }
   ],
   "source": [
    "print( len(df_train))"
   ]
  },
  {
   "cell_type": "code",
   "execution_count": 10,
   "metadata": {},
   "outputs": [
    {
     "data": {
      "image/png": "[encoded data removed]",
      "text/plain": [
       "<Figure size 1500x500 with 4 Axes>"
      ]
     },
     "metadata": {},
     "output_type": "display_data"
    }
   ],
   "source": [
    "\n",
    "IMG_HEIGHT = 128\n",
    "IMG_WIDTH = 128\n",
    "Matrix=df_train\n",
    "n_img_to_show = 4\n",
    "fig = plt.figure(figsize=(15,5))\n",
    "indices=list(range(len(Matrix)))\n",
    "np.random.shuffle(indices)\n",
    "\n",
    "for i in range(n_img_to_show):\n",
    "    ax=fig.add_subplot(2, n_img_to_show//2 , i+1 , xticks=[], yticks=[])\n",
    "    ax.imshow(np.squeeze(tk.get_image(img_id=Matrix['image_id'].iloc[indices[i]],img_height=IMG_HEIGHT, img_width=IMG_WIDTH, mask_or_image= mask_or_image)),cmap='gray')\n",
    "    \n",
    "    ax.set_title(f'image {indices[i]} from the folder {mask_or_image} containing {Matrix['nb_cells'].iloc[indices[i]]} cells')\n",
    "plt.show()"
   ]
  },
  {
   "cell_type": "markdown",
   "metadata": {},
   "source": [
    "## convertit les données pour pytorch"
   ]
  },
  {
   "cell_type": "code",
   "execution_count": 11,
   "metadata": {},
   "outputs": [],
   "source": [
    "import torch\n",
    "from torch.utils.data.sampler import SubsetRandomSampler\n",
    "import numpy as np\n",
    "\n",
    "batch_size = 20 # how many samples per batch to load\n",
    "valid_size = 0.2 # percentage of training set to use as validation\n",
    "\n",
    "def create_data_loaders(batch_size, valid_size, train_data, test_data):\n",
    "  test_loader = torch.utils.data.DataLoader(test_data, batch_size = batch_size)\n",
    "  indices= list( range(len(train_data)))\n",
    "  np.random.shuffle(indices)\n",
    "  split= int( np.floor(valid_size * len(train_data)))\n",
    "  train_indexes, valid_indexes = indices[split:], indices[:split]\n",
    "  valid_samplers= SubsetRandomSampler(valid_indexes)\n",
    "  train_samplers= SubsetRandomSampler(train_indexes)\n",
    "  valid_loader =torch.utils.data.DataLoader( train_data, batch_size = batch_size, sampler = valid_samplers)\n",
    "  train_loader= torch.utils.data.DataLoader(train_data, batch_size = batch_size, sampler= train_samplers)\n",
    "  return train_loader, valid_loader, test_loader\n"
   ]
  },
  {
   "cell_type": "code",
   "execution_count": 12,
   "metadata": {},
   "outputs": [
    {
     "data": {
      "text/plain": [
       "pandas.core.frame.DataFrame"
      ]
     },
     "execution_count": 12,
     "metadata": {},
     "output_type": "execute_result"
    }
   ],
   "source": [
    "type(df_train)"
   ]
  },
  {
   "cell_type": "code",
   "execution_count": 13,
   "metadata": {},
   "outputs": [],
   "source": [
    "from costumize_data import CustomDataset \n",
    "transform = transforms.Compose([\n",
    "    \n",
    "    transforms.ToTensor(),\n",
    "    transforms.Resize((IMG_HEIGHT, IMG_WIDTH)) # Resize to desired dimensions\n",
    "])\n",
    "train_data= CustomDataset(df_train,transform=transform)\n",
    "train_data.set_path_to_dataset('..')\n",
    "test_data= CustomDataset(df_test,transform=transform)\n",
    "test_data.set_path_to_dataset('..')\n",
    "train_loader, valid_loader, test_loader =create_data_loaders(batch_size, valid_size, train_data, test_data)"
   ]
  },
  {
   "cell_type": "code",
   "execution_count": 14,
   "metadata": {},
   "outputs": [
    {
     "name": "stdout",
     "output_type": "stream",
     "text": [
      "torch.Size([1, 128, 128])\n"
     ]
    }
   ],
   "source": [
    "print( train_data.__getitem__(200)[0].shape)"
   ]
  },
  {
   "cell_type": "markdown",
   "metadata": {},
   "source": [
    "## Image et mask correspondant généré avec u-net"
   ]
  },
  {
   "cell_type": "code",
   "execution_count": 15,
   "metadata": {},
   "outputs": [],
   "source": [
    "import torch\n",
    "import torch.nn as nn\n",
    "import torch.nn.functional as F\n",
    "\n",
    "dropout = 0.2\n",
    "nb_filtre = 8\n",
    "\n",
    "p = 1  # for padding \n",
    "k = 3  # for kernel size\n",
    "s = 1  # for stride\n",
    "pool_k = 2\n",
    "pool_s = 2\n",
    "n_conv= [1 , 1 , 1 , 0]\n",
    "do_pool= [1 , 1 , 0 ,0]  \n",
    "\n",
    "class CNN(nn.Module):\n",
    "    def __init__(self, img_height, img_width):\n",
    "        super(CNN, self).__init__()\n",
    "\n",
    "        self.im_height = img_height\n",
    "        self.im_width = img_width\n",
    "        \n",
    "        self.size= 0\n",
    "        self.conv1 = self.conv_block(in_channels=1, out_channels=nb_filtre*(2**0))\n",
    "        self.conv2 = self.conv_block(in_channels=nb_filtre*(2**0), out_channels=nb_filtre *(2**1))\n",
    "        self.conv3 = self.conv_block(in_channels=nb_filtre *(2**1), out_channels=nb_filtre *(2**2))\n",
    "        self.conv4 = self.conv_block(in_channels=nb_filtre *(2**2), out_channels=nb_filtre *(2**3))\n",
    "\n",
    "        self.pool = nn.MaxPool2d(kernel_size=pool_k, stride=pool_s)\n",
    "\n",
    "        # Calculate output dimensions after all convolutions and pooling\n",
    "        self.calculate_output_dims()\n",
    "        print( self.size)\n",
    "        #print(self.size)\n",
    "        # First dense layer\n",
    "        self.dense1 = self.dense_layer(size=self.size)\n",
    "\n",
    "        # Second dense layer\n",
    "        self.size //= 4  # Adjust size for the second dense layer\n",
    "        self.dense2 = self.dense_layer(size=self.size)\n",
    "        self.size//= 4\n",
    "        # Final fully connected layer\n",
    "        self.fc = nn.Linear(self.size, 1)  # Adjusted for output size\n",
    "\n",
    "    def calculate_output_dims(self):\n",
    "        # Recalculate height and width after each convolution and pooling layer\n",
    "        current_filters = nb_filtre\n",
    "        for i in range(sum(n_conv)):\n",
    "            # After convolution\n",
    "            self.im_height = (self.im_height + 2 * p - k) // s + 1\n",
    "            self.im_width = (self.im_width + 2 * p - k) // s + 1\n",
    "            self.im_height = (self.im_height + 2 * p - k) // s + 1\n",
    "            self.im_width = (self.im_width + 2 * p - k) // s + 1\n",
    "            current_filters = nb_filtre * (2 ** i)\n",
    "        for i in do_pool:\n",
    "            if i ==1:\n",
    "                # After pooling\n",
    "                self.im_height//= pool_k\n",
    "                self.im_width //= pool_k\n",
    "                \n",
    "                \n",
    "\n",
    "        # Flattened size for dense layers\n",
    "        # Note: Using the final number of filters (nb_filtre * (2**n_con))\n",
    "        self.size = self.im_height * self.im_width * current_filters \n",
    "        #note = consider pooling\n",
    "        \n",
    "\n",
    "\n",
    "    def dense_layer(self , size ):\n",
    "        \n",
    "        block = nn.Sequential(\n",
    "            nn.Linear(size, size // 2),\n",
    "            nn.ReLU(inplace=True),\n",
    "            nn.Dropout(dropout),\n",
    "            nn.Linear(size // 2, size // 4),\n",
    "            nn.ReLU(inplace=True)\n",
    "        )\n",
    "        return block\n",
    "\n",
    "    def conv_block(self, in_channels, out_channels):\n",
    "        \"\"\"\n",
    "        Convolutional Block: Conv2d -> ReLU -> Dropout -> Conv2d -> ReLU -> Dropout\n",
    "        \"\"\"\n",
    "        block = nn.Sequential(\n",
    "            nn.Conv2d(in_channels, out_channels, kernel_size=k, padding=p),\n",
    "            nn.ReLU(inplace=True),\n",
    "            nn.Dropout(dropout),  # Dropout after each conv layer\n",
    "            nn.Conv2d(out_channels, out_channels, kernel_size=k, padding=p),\n",
    "            nn.ReLU(inplace=True),\n",
    "            nn.Dropout(dropout)\n",
    "        )\n",
    "        return block\n",
    "    def forward(self, x):\n",
    "        \"\"\"\n",
    "        The forward path is : conv_block --> conv_block --> conv_block --> conv_block --> layer\n",
    "        \"\"\"\n",
    "        if n_conv[0] == 1: \n",
    "            x = self.conv1(x)\n",
    "        if do_pool[0]==1: \n",
    "            x=self.pool(x)\n",
    "        if n_conv[1] == 1: \n",
    "            x = self.conv2(x)\n",
    "        if do_pool[1]==1: \n",
    "            x=self.pool(x)\n",
    "        if n_conv[2] == 1 : \n",
    "            x = self.conv3(x)\n",
    "        if do_pool[3]==1: \n",
    "            x=self.pool(x)\n",
    "        if n_conv[3] == 1: \n",
    "            x = self.conv4(x)\n",
    "        if do_pool[3]==1: \n",
    "            x=self.pool(x)\n",
    "        \n",
    "        print('At the end of the convolution layer x shape =', x.shape)\n",
    "        # Flatten before dense layers\n",
    "        x = x.view(x.size(0), -1)  # Keep batch size intact\n",
    "        #print( x.shape)\n",
    "        x = self.dense1(x)\n",
    "        \n",
    "        # Uncomment if you have a second dense layer\n",
    "        x = self.dense2(x)\n",
    "        #print(f\"Dense2 shape: {x.shape}\")  # Debug: check shape\n",
    "        #out put layer \n",
    "        x = self.fc(x)\n",
    "        \n",
    "        return x\n"
   ]
  },
  {
   "cell_type": "code",
   "execution_count": 28,
   "metadata": {},
   "outputs": [],
   "source": [
    "import torch\n",
    "import torch.nn as nn\n",
    "import torch.nn.functional as F\n",
    "\n",
    "dropout = 0.2\n",
    "nb_filtre = 4\n",
    "\n",
    "p = 1  # for padding \n",
    "k = 3  # for kernel size\n",
    "s = 1  # for stride\n",
    "pool_k = 2\n",
    "pool_s = 2\n",
    "n_conv= [1 , 1, 1 , 1]\n",
    "do_pool= [1 , 1 , 1 ,0]  \n",
    "\n",
    "class CNN(nn.Module):\n",
    "    def __init__(self, img_height, img_width):\n",
    "        super(CNN, self).__init__()\n",
    "\n",
    "        self.im_height = img_height\n",
    "        self.im_width = img_width\n",
    "        \n",
    "        self.size= 0\n",
    "        self.conv1 = self.conv_block(in_channels=1, out_channels=nb_filtre*(2**0))\n",
    "        self.conv2 = self.conv_block(in_channels=nb_filtre*(2**0), out_channels=nb_filtre *(2**1))\n",
    "        self.conv3 = self.conv_block(in_channels=nb_filtre *(2**1), out_channels=nb_filtre *(2**2))\n",
    "        self.conv4 = self.conv_block(in_channels=nb_filtre *(2**2), out_channels=nb_filtre *(2**3))\n",
    "\n",
    "        self.pool = nn.MaxPool2d(kernel_size=pool_k, stride=pool_s)\n",
    "\n",
    "        # Calculate output dimensions after all convolutions and pooling\n",
    "        self.calculate_output_dims()\n",
    "        #print( 'self size=', self.size)\n",
    "        #print(self.size)\n",
    "        # First dense layer\n",
    "        self.dense1 = self.dense_layer(size=self.size)\n",
    "\n",
    "        # Second dense layer\n",
    "        self.size //= 4  # Adjust size for the second dense layer\n",
    "        self.dense2 = self.dense_layer(size=self.size)\n",
    "        self.size//= 4\n",
    "        # Final fully connected layer\n",
    "        self.fc = nn.Linear(self.size, 1)  # Adjusted for output size\n",
    "\n",
    "    def calculate_output_dims(self):\n",
    "        # Recalculate height and width after each convolution and pooling layer\n",
    "        current_filters = nb_filtre\n",
    "        for i in range(sum(n_conv)):\n",
    "            # After convolution\n",
    "            self.im_height = (self.im_height + 2 * p - k) // s + 1\n",
    "            self.im_width = (self.im_width + 2 * p - k) // s + 1\n",
    "            self.im_height = (self.im_height + 2 * p - k) // s + 1\n",
    "            self.im_width = (self.im_width + 2 * p - k) // s + 1\n",
    "            current_filters = nb_filtre * (2 ** (i))\n",
    "        for i in do_pool:\n",
    "            if i == 1:\n",
    "         #       print( 'im a in i')\n",
    "                # After pooling\n",
    "                self.im_height//= pool_k\n",
    "                self.im_width //= pool_k\n",
    "            \n",
    "                \n",
    "\n",
    "        # Flattened size for dense layers\n",
    "        # Note: Using the final number of filters (nb_filtre * (2**n_con))\n",
    "        self.size = self.im_height * self.im_width * current_filters \n",
    "        #note = consider pooling\n",
    "        \n",
    "\n",
    "\n",
    "    def dense_layer(self , size ):\n",
    "        \n",
    "        block = nn.Sequential(\n",
    "            nn.Linear(size, size // 2),\n",
    "            #nn.ReLU(inplace=True),\n",
    "            nn.Dropout(dropout),\n",
    "            nn.Linear(size // 2, size // 4),\n",
    "            #nn.ReLU(inplace=True)\n",
    "        )\n",
    "        return block\n",
    "\n",
    "    def conv_block(self, in_channels, out_channels):\n",
    "        \"\"\"\n",
    "        Convolutional Block: Conv2d -> ReLU -> Dropout -> Conv2d -> ReLU -> Dropout\n",
    "        \"\"\"\n",
    "        block = nn.Sequential(\n",
    "            nn.Conv2d(in_channels, out_channels, kernel_size=k, padding=p),\n",
    "            #nn.ReLU(inplace=True),\n",
    "            #nn.Dropout(dropout),  # Dropout after each conv layer\n",
    "            \n",
    "        )\n",
    "        return block\n",
    "    def forward(self, x):\n",
    "        \"\"\"\n",
    "        The forward path is : conv_block --> conv_block --> conv_block --> conv_block --> layer\n",
    "        \"\"\"\n",
    "        if n_conv[0] == 1: \n",
    "            x = self.conv1(x)\n",
    "        if do_pool[0]==1: \n",
    "            x=self.pool(x)\n",
    "        if n_conv[1] == 1: \n",
    "            x = self.conv2(x)\n",
    "        if do_pool[1]==1: \n",
    "            x=self.pool(x)\n",
    "        if n_conv[2] == 1 : \n",
    "            x = self.conv3(x)\n",
    "        if do_pool[2]==1: \n",
    "            x=self.pool(x)\n",
    "        if n_conv[3] == 1: \n",
    "            x = self.conv4(x)\n",
    "        if do_pool[3]==1: \n",
    "            x=self.pool(x)\n",
    "        \n",
    "        #print( 'size=', self.size )\n",
    "        \n",
    "        #print('At the end of the convolution layer x shape =', x.shape)\n",
    "        # Flatten before dense layers\n",
    "        x = x.view(x.size(0), -1)  # Keep batch size intac\n",
    "        #print ('x=', x.shape)\n",
    "        #print( x.shape)\n",
    "        x = self.dense1(x)\n",
    "        \n",
    "        # Uncomment if you have a second dense layer\n",
    "        x = self.dense2(x)\n",
    "        #print(f\"Dense2 shape: {x.shape}\")  # Debug: check shape\n",
    "        #out put layer \n",
    "        x = self.fc(x)\n",
    "        \n",
    "        return x\n"
   ]
  },
  {
   "cell_type": "code",
   "execution_count": 29,
   "metadata": {},
   "outputs": [
    {
     "name": "stdout",
     "output_type": "stream",
     "text": [
      "Using device cpu\n"
     ]
    }
   ],
   "source": [
    "device = torch.device('cuda' if torch.cuda.is_available() else 'cpu')\n",
    "print('Using device '+str(device))"
   ]
  },
  {
   "cell_type": "code",
   "execution_count": 30,
   "metadata": {},
   "outputs": [
    {
     "data": {
      "text/plain": [
       "CNN(\n",
       "  (conv1): Sequential(\n",
       "    (0): Conv2d(1, 4, kernel_size=(3, 3), stride=(1, 1), padding=(1, 1))\n",
       "  )\n",
       "  (conv2): Sequential(\n",
       "    (0): Conv2d(4, 8, kernel_size=(3, 3), stride=(1, 1), padding=(1, 1))\n",
       "  )\n",
       "  (conv3): Sequential(\n",
       "    (0): Conv2d(8, 16, kernel_size=(3, 3), stride=(1, 1), padding=(1, 1))\n",
       "  )\n",
       "  (conv4): Sequential(\n",
       "    (0): Conv2d(16, 32, kernel_size=(3, 3), stride=(1, 1), padding=(1, 1))\n",
       "  )\n",
       "  (pool): MaxPool2d(kernel_size=2, stride=2, padding=0, dilation=1, ceil_mode=False)\n",
       "  (dense1): Sequential(\n",
       "    (0): Linear(in_features=8192, out_features=4096, bias=True)\n",
       "    (1): Dropout(p=0.2, inplace=False)\n",
       "    (2): Linear(in_features=4096, out_features=2048, bias=True)\n",
       "  )\n",
       "  (dense2): Sequential(\n",
       "    (0): Linear(in_features=2048, out_features=1024, bias=True)\n",
       "    (1): Dropout(p=0.2, inplace=False)\n",
       "    (2): Linear(in_features=1024, out_features=512, bias=True)\n",
       "  )\n",
       "  (fc): Linear(in_features=512, out_features=1, bias=True)\n",
       ")"
      ]
     },
     "execution_count": 30,
     "metadata": {},
     "output_type": "execute_result"
    }
   ],
   "source": [
    "CNN_1 = CNN( img_height=IMG_HEIGHT, img_width=IMG_WIDTH )\n",
    "CNN_1.to(device=device)  "
   ]
  },
  {
   "cell_type": "code",
   "execution_count": 31,
   "metadata": {},
   "outputs": [
    {
     "data": {
      "text/plain": [
       "torch.Size([1, 128, 128])"
      ]
     },
     "execution_count": 31,
     "metadata": {},
     "output_type": "execute_result"
    }
   ],
   "source": [
    "#CNN(train_data.__getitem__(0)[0])\n",
    "train_data.__getitem__(0)[0].shape"
   ]
  },
  {
   "cell_type": "code",
   "execution_count": 32,
   "metadata": {},
   "outputs": [
    {
     "name": "stdout",
     "output_type": "stream",
     "text": [
      "tensor([[-0.0557]], grad_fn=<AddmmBackward0>)\n"
     ]
    }
   ],
   "source": [
    "single_batch = torch.randn(1, 1, IMG_HEIGHT, IMG_WIDTH)\n",
    "output = CNN_1(single_batch)\n",
    "print( output)"
   ]
  },
  {
   "cell_type": "code",
   "execution_count": 33,
   "metadata": {},
   "outputs": [
    {
     "name": "stdout",
     "output_type": "stream",
     "text": [
      "----------------------------------------------------------------\n",
      "        Layer (type)               Output Shape         Param #\n",
      "================================================================\n",
      "            Conv2d-1          [-1, 4, 128, 128]              40\n",
      "         MaxPool2d-2            [-1, 4, 64, 64]               0\n",
      "            Conv2d-3            [-1, 8, 64, 64]             296\n",
      "         MaxPool2d-4            [-1, 8, 32, 32]               0\n",
      "            Conv2d-5           [-1, 16, 32, 32]           1,168\n",
      "         MaxPool2d-6           [-1, 16, 16, 16]               0\n",
      "            Conv2d-7           [-1, 32, 16, 16]           4,640\n",
      "            Linear-8                 [-1, 4096]      33,558,528\n",
      "           Dropout-9                 [-1, 4096]               0\n",
      "           Linear-10                 [-1, 2048]       8,390,656\n",
      "           Linear-11                 [-1, 1024]       2,098,176\n",
      "          Dropout-12                 [-1, 1024]               0\n",
      "           Linear-13                  [-1, 512]         524,800\n",
      "           Linear-14                    [-1, 1]             513\n",
      "================================================================\n",
      "Total params: 44,578,817\n",
      "Trainable params: 44,578,817\n",
      "Non-trainable params: 0\n",
      "----------------------------------------------------------------\n",
      "Input size (MB): 0.06\n",
      "Forward/backward pass size (MB): 1.25\n",
      "Params size (MB): 170.05\n",
      "Estimated Total Size (MB): 171.37\n",
      "----------------------------------------------------------------\n"
     ]
    }
   ],
   "source": [
    "from torchsummary import summary\n",
    "summary(CNN_1, input_size=(1, IMG_HEIGHT, IMG_WIDTH))  # Explicitly set batch_size=1 # channels, height, width )"
   ]
  },
  {
   "cell_type": "code",
   "execution_count": 34,
   "metadata": {},
   "outputs": [],
   "source": [
    "criterion =nn.MSELoss()\n",
    "#criterion = nn.SmoothL1Loss()\n",
    "optimizer = torch.optim.Adam(CNN_1.parameters(), lr=0.01)"
   ]
  },
  {
   "cell_type": "code",
   "execution_count": 35,
   "metadata": {},
   "outputs": [],
   "source": [
    "n_epochs = 20 # number of epochs to train the model\n",
    "\n",
    "def training(n_epochs, train_loader, valid_loader, model, criterion, optimizer):\n",
    "\n",
    "  train_losses, valid_losses = [], []\n",
    "  # initialize tracker for minimum validation loss\n",
    "  valid_loss_min = np.inf  # set initial \"min\" to infinity\n",
    "\n",
    "  for epoch in range(n_epochs):\n",
    "      \n",
    "      train_loss, valid_loss = 0, 0 # monitor losses\n",
    "\n",
    "      # train the model\n",
    "      model.train() # prep model for training\n",
    "      for data, label in train_loader:\n",
    "          \n",
    "          data = data.to(device=device, dtype=torch.float32)\n",
    "          label = label.to(device=device, dtype=torch.float32)\n",
    "          optimizer.zero_grad()\n",
    "          output=model(data)\n",
    "          \n",
    "          loss=criterion(output,label)\n",
    "          loss.backward()\n",
    "          optimizer.step()\n",
    "          train_loss += loss.item() * data.size(0) # update running training loss\n",
    "      \n",
    "      # validate the model\n",
    "      model.eval()\n",
    "      for data, label in valid_loader:\n",
    "          \n",
    "          \n",
    "          data = data.to(device=device, dtype=torch.float32)\n",
    "          label = label.to(device=device, dtype=torch.float32)\n",
    "          with torch.no_grad():\n",
    "              output=model( data)\n",
    "          loss=criterion(output,label)\n",
    "          valid_loss += loss.item() * data.size(0)\n",
    "    \n",
    "      # calculate average loss over an epoch\n",
    "      train_loss /= len(train_loader.sampler)\n",
    "      valid_loss /= len(valid_loader.sampler)\n",
    "      train_losses.append(train_loss)\n",
    "      valid_losses.append(valid_loss)\n",
    "\n",
    "      print('epoch: {} \\ttraining Loss: {:.6f} \\tvalidation Loss: {:.6f}'.format(epoch+1, train_loss, valid_loss))\n",
    "\n",
    "      # save model if validation loss has decreased\n",
    "      if valid_loss <= valid_loss_min:\n",
    "          print('validation loss decreased ({:.6f} --> {:.6f}).  Saving model ...'.format(\n",
    "          valid_loss_min,\n",
    "          valid_loss))\n",
    "          torch.save(model.state_dict(), 'model.pt')\n",
    "          valid_loss_min = valid_loss\n",
    "\n",
    "  return train_losses, valid_losses"
   ]
  },
  {
   "cell_type": "code",
   "execution_count": 36,
   "metadata": {},
   "outputs": [
    {
     "name": "stdout",
     "output_type": "stream",
     "text": [
      "epoch: 1 \ttraining Loss: 49336076175.484535 \tvalidation Loss: 28862590976.000000\n",
      "validation loss decreased (inf --> 28862590976.000000).  Saving model ...\n",
      "epoch: 2 \ttraining Loss: 531546125094.666687 \tvalidation Loss: 29976973568.000000\n",
      "epoch: 3 \ttraining Loss: 27907950826.166668 \tvalidation Loss: 3264560096.000000\n",
      "validation loss decreased (28862590976.000000 --> 3264560096.000000).  Saving model ...\n",
      "epoch: 4 \ttraining Loss: 1849981425.666667 \tvalidation Loss: 579226957.333333\n",
      "validation loss decreased (3264560096.000000 --> 579226957.333333).  Saving model ...\n",
      "epoch: 5 \ttraining Loss: 163075108.416667 \tvalidation Loss: 33141500.083333\n",
      "validation loss decreased (579226957.333333 --> 33141500.083333).  Saving model ...\n",
      "epoch: 6 \ttraining Loss: 51586134.281250 \tvalidation Loss: 5320928.656250\n",
      "validation loss decreased (33141500.083333 --> 5320928.656250).  Saving model ...\n",
      "epoch: 7 \ttraining Loss: 22494979.697917 \tvalidation Loss: 2100060.015625\n",
      "validation loss decreased (5320928.656250 --> 2100060.015625).  Saving model ...\n",
      "epoch: 8 \ttraining Loss: 21096134.447917 \tvalidation Loss: 1994916.395833\n",
      "validation loss decreased (2100060.015625 --> 1994916.395833).  Saving model ...\n",
      "epoch: 9 \ttraining Loss: 16289733.750000 \tvalidation Loss: 2146365.390625\n",
      "epoch: 10 \ttraining Loss: 18715208.468750 \tvalidation Loss: 2154910.343750\n",
      "epoch: 11 \ttraining Loss: 17231429.348958 \tvalidation Loss: 2186758.416667\n",
      "epoch: 12 \ttraining Loss: 15551870.619792 \tvalidation Loss: 1720318.046875\n",
      "validation loss decreased (1994916.395833 --> 1720318.046875).  Saving model ...\n",
      "epoch: 13 \ttraining Loss: 12632727.515625 \tvalidation Loss: 1622547.171875\n",
      "validation loss decreased (1720318.046875 --> 1622547.171875).  Saving model ...\n",
      "epoch: 14 \ttraining Loss: 11049660.479167 \tvalidation Loss: 1479911.255208\n",
      "validation loss decreased (1622547.171875 --> 1479911.255208).  Saving model ...\n",
      "epoch: 15 \ttraining Loss: 10710200.057292 \tvalidation Loss: 1361940.958333\n",
      "validation loss decreased (1479911.255208 --> 1361940.958333).  Saving model ...\n",
      "epoch: 16 \ttraining Loss: 9731111.705729 \tvalidation Loss: 1392342.273438\n",
      "epoch: 17 \ttraining Loss: 9465739.932292 \tvalidation Loss: 1106650.541667\n",
      "validation loss decreased (1361940.958333 --> 1106650.541667).  Saving model ...\n",
      "epoch: 18 \ttraining Loss: 8551057.403646 \tvalidation Loss: 1069534.075521\n",
      "validation loss decreased (1106650.541667 --> 1069534.075521).  Saving model ...\n",
      "epoch: 19 \ttraining Loss: 8155583.236979 \tvalidation Loss: 887208.598958\n",
      "validation loss decreased (1069534.075521 --> 887208.598958).  Saving model ...\n",
      "epoch: 20 \ttraining Loss: 7102090.210938 \tvalidation Loss: 848882.411458\n",
      "validation loss decreased (887208.598958 --> 848882.411458).  Saving model ...\n"
     ]
    }
   ],
   "source": [
    "train_losses, valid_losses=training(n_epochs, train_loader, valid_loader, CNN_1, criterion, optimizer)"
   ]
  },
  {
   "cell_type": "code",
   "execution_count": 25,
   "metadata": {},
   "outputs": [
    {
     "data": {
      "text/plain": [
       "Text(0, 0.5, 'loss value')"
      ]
     },
     "execution_count": 25,
     "metadata": {},
     "output_type": "execute_result"
    },
    {
     "data": {
      "image/png": "[encoded data removed]",
      "text/plain": [
       "<Figure size 640x480 with 1 Axes>"
      ]
     },
     "metadata": {},
     "output_type": "display_data"
    }
   ],
   "source": [
    "plt.plot(range(n_epochs), train_losses)\n",
    "plt.plot(range(n_epochs), valid_losses)\n",
    "plt.legend(['train', 'validation'], prop={'size': 10})\n",
    "plt.title('loss function', size=10)\n",
    "plt.xlabel('epoch', size=10)\n",
    "plt.ylabel('loss value', size=10)"
   ]
  },
  {
   "cell_type": "code",
   "execution_count": 26,
   "metadata": {},
   "outputs": [],
   "source": [
    "def evaluation(model, test_loader, criterion):\n",
    "\n",
    "  # initialize lists to monitor test loss and accuracy\n",
    "  test_loss = 0.0\n",
    "  class_correct = list(0. for i in range(101))\n",
    "  class_total = list(0. for i in range(101))\n",
    "  #creat a empty dict of 101 elements\n",
    "  dict={}\n",
    "  for i in range(1,101):\n",
    "      dict[i]=[]\n",
    "  model.eval() # prep model for evaluation\n",
    "  for data, label in test_loader:\n",
    "      data = data.to(device=device, dtype=torch.float32)\n",
    "      label = label.to(device=device, dtype=torch.long)\n",
    "      with torch.no_grad():\n",
    "          output = model(data) # forward pass: compute predicted outputs by passing inputs to the model\n",
    "      loss = criterion(output, label)\n",
    "\n",
    "      test_loss += loss.item()*data.size(0)\n",
    "      \n",
    "      pred = torch.floor(output) # convert output probabilities to predicted class\n",
    "      correct = np.squeeze(pred.eq(label.data.view_as(pred))) # compare predictions to true label\n",
    "      # calculate test accuracy for each object class\n",
    "      for i in range(len(label)):\n",
    "          number_expected = label.data[i]\n",
    "          class_correct[number_expected] += correct[i].item()\n",
    "          class_total[number_expected] += 1\n",
    "          number_expected = int(number_expected)\n",
    "          dict[number_expected].append(int(pred[i]))\n",
    "      \n",
    "  \n",
    "  #print and return the results\n",
    "  for i in range(100):\n",
    "     if class_total[i] > 0 : \n",
    "        print( 'For the true value ', i, 'the predicted values are ', dict[i])\n",
    "  # calculate and print avg test loss\n",
    "  test_loss = test_loss/len(test_loader.sampler)\n",
    "  print('test Loss: {:.6f}\\n'.format(test_loss))\n",
    "  for i in range(100):\n",
    "      if class_total[i] > 0:\n",
    "        accuracy = 100 * class_correct[i] / class_total[i]\n",
    "        print('Test accuracy of %1s: %2.2f%% (%2d/%2d)' % (str(i), accuracy, np.sum(class_correct[i]), np.sum(class_total[i])))\n",
    "      #else: \n",
    "        #print('Test accuracy of %1s: N/A (0/0)' % str(i))\n",
    "\n",
    "  print('\\ntest accuracy (overall): %2.2f%% (%2d/%2d)' % (100. * np.sum(class_correct) / np.sum(class_total), np.sum(class_correct), np.sum(class_total)))"
   ]
  },
  {
   "cell_type": "code",
   "execution_count": 27,
   "metadata": {},
   "outputs": [
    {
     "name": "stdout",
     "output_type": "stream",
     "text": [
      "For the true value  1 the predicted values are  [49, 50, 49, 50, 50]\n",
      "For the true value  5 the predicted values are  [49, 47, 46]\n",
      "For the true value  10 the predicted values are  [43, 46, 45, 47, 54, 46]\n",
      "For the true value  14 the predicted values are  [46, 47, 48, 50, 48, 44, 46, 45, 48]\n",
      "For the true value  18 the predicted values are  [43, 42, 44, 42, 43]\n",
      "For the true value  23 the predicted values are  [39, 44, 49, 41, 47]\n",
      "For the true value  27 the predicted values are  [43, 48, 41]\n",
      "For the true value  31 the predicted values are  [43, 49, 44, 46, 48, 42, 43]\n",
      "For the true value  35 the predicted values are  [50, 39, 52, 47, 44]\n",
      "For the true value  40 the predicted values are  [45, 50, 47, 44, 51, 46]\n",
      "For the true value  44 the predicted values are  [46, 49, 49]\n",
      "For the true value  48 the predicted values are  [50, 46, 43, 53, 45]\n",
      "For the true value  53 the predicted values are  [41, 56, 47, 55]\n",
      "For the true value  57 the predicted values are  [50, 46, 54, 46]\n",
      "For the true value  61 the predicted values are  [50, 50, 56, 56, 46, 46, 45, 44]\n",
      "For the true value  66 the predicted values are  [49]\n",
      "For the true value  70 the predicted values are  [45, 48, 43, 59]\n",
      "For the true value  74 the predicted values are  [50, 44, 50, 58, 53, 45, 50]\n",
      "For the true value  78 the predicted values are  [44, 52, 43, 44]\n",
      "For the true value  83 the predicted values are  [50, 45]\n",
      "For the true value  87 the predicted values are  [52, 48]\n",
      "For the true value  91 the predicted values are  [54, 51, 52, 44, 51, 52, 57]\n",
      "For the true value  96 the predicted values are  [50, 44, 53, 52, 53, 57]\n",
      "test Loss: 986.911306\n",
      "\n",
      "Test accuracy of 1: 0.00% ( 0/ 5)\n",
      "Test accuracy of 5: 0.00% ( 0/ 3)\n",
      "Test accuracy of 10: 0.00% ( 0/ 6)\n",
      "Test accuracy of 14: 0.00% ( 0/ 9)\n",
      "Test accuracy of 18: 0.00% ( 0/ 5)\n",
      "Test accuracy of 23: 0.00% ( 0/ 5)\n",
      "Test accuracy of 27: 0.00% ( 0/ 3)\n",
      "Test accuracy of 31: 0.00% ( 0/ 7)\n",
      "Test accuracy of 35: 0.00% ( 0/ 5)\n",
      "Test accuracy of 40: 0.00% ( 0/ 6)\n",
      "Test accuracy of 44: 0.00% ( 0/ 3)\n",
      "Test accuracy of 48: 0.00% ( 0/ 5)\n",
      "Test accuracy of 53: 0.00% ( 0/ 4)\n",
      "Test accuracy of 57: 0.00% ( 0/ 4)\n",
      "Test accuracy of 61: 0.00% ( 0/ 8)\n",
      "Test accuracy of 66: 0.00% ( 0/ 1)\n",
      "Test accuracy of 70: 0.00% ( 0/ 4)\n",
      "Test accuracy of 74: 0.00% ( 0/ 7)\n",
      "Test accuracy of 78: 0.00% ( 0/ 4)\n",
      "Test accuracy of 83: 0.00% ( 0/ 2)\n",
      "Test accuracy of 87: 0.00% ( 0/ 2)\n",
      "Test accuracy of 91: 0.00% ( 0/ 7)\n",
      "Test accuracy of 96: 0.00% ( 0/ 6)\n",
      "\n",
      "test accuracy (overall): 0.00% ( 0/120)\n"
     ]
    }
   ],
   "source": [
    "evaluation( CNN_1, test_loader, criterion)"
   ]
  }
 ],
 "metadata": {
  "kernelspec": {
   "display_name": "base",
   "language": "python",
   "name": "python3"
  },
  "language_info": {
   "codemirror_mode": {
    "name": "ipython",
    "version": 3
   },
   "file_extension": ".py",
   "mimetype": "text/x-python",
   "name": "python",
   "nbconvert_exporter": "python",
   "pygments_lexer": "ipython3",
   "version": "3.12.3"
  }
 },
 "nbformat": 4,
 "nbformat_minor": 2
}
