{
 "cells": [
  {
   "cell_type": "markdown",
   "metadata": {},
   "source": [
    "This fil is for CNN application"
   ]
  },
  {
   "cell_type": "code",
   "execution_count": 83,
   "metadata": {},
   "outputs": [],
   "source": [
    "#pip install opencv-python"
   ]
  },
  {
   "cell_type": "code",
   "execution_count": 84,
   "metadata": {},
   "outputs": [],
   "source": [
    " #import libraries \n",
    "import sys\n",
    "import os\n",
    "# the pah to a repository containing tool_kit \n",
    "path_to_tool_kit = os.path.abspath('..')\n",
    "if path_to_tool_kit not in sys.path:\n",
    "    sys.path.append(path_to_tool_kit)\n",
    "import tool_kit as tk\n",
    "import numpy as np\n",
    "import pandas as pd\n",
    "import torchvision.transforms as transforms\n",
    "import matplotlib.pyplot as plt\n"
   ]
  },
  {
   "cell_type": "code",
   "execution_count": 85,
   "metadata": {},
   "outputs": [
    {
     "name": "stdout",
     "output_type": "stream",
     "text": [
      "e:\\Cobalt\\cobalt\n"
     ]
    }
   ],
   "source": [
    "print(path_to_tool_kit)"
   ]
  },
  {
   "cell_type": "code",
   "execution_count": 86,
   "metadata": {},
   "outputs": [
    {
     "name": "stdout",
     "output_type": "stream",
     "text": [
      " images =\n",
      "                             image_id  nb_cells mask  blur\n",
      "0  SIMCEPImages_A01_C1_F1_s01_w1.TIF         1  yes     1\n",
      "1  SIMCEPImages_A01_C1_F1_s01_w2.TIF         1  yes     1\n",
      "2  SIMCEPImages_A01_C1_F1_s02_w1.TIF         1  yes     1\n",
      "3  SIMCEPImages_A01_C1_F1_s02_w2.TIF         1  yes     1\n",
      "4  SIMCEPImages_A01_C1_F1_s03_w1.TIF         1  yes     1\n",
      " mask =\n",
      "                             image_id  nb_cells\n",
      "0  SIMCEPImages_A01_C1_F1_s01_w1.TIF         1\n",
      "1  SIMCEPImages_A01_C1_F1_s01_w2.TIF         1\n",
      "2  SIMCEPImages_A01_C1_F1_s02_w1.TIF         1\n",
      "3  SIMCEPImages_A01_C1_F1_s02_w2.TIF         1\n",
      "4  SIMCEPImages_A01_C1_F1_s03_w1.TIF         1\n"
     ]
    }
   ],
   "source": [
    "tk.set_path_to_dataset('..')\n",
    "images = tk.load_data_image()\n",
    "mask = tk.load_data_mask()\n",
    "print(' images =\\n',images.head())\n",
    "print(' mask =\\n',mask .head())\n",
    "# mask is a data frame of type pandas that coontains images id and the number of the cells in the image\n",
    "# images is a data frame of type pandas that contains the images id , the  number of the cells in the imamage , the boolean of the mask and blur"
   ]
  },
  {
   "cell_type": "markdown",
   "metadata": {},
   "source": [
    "Select the data frame that you want to use "
   ]
  },
  {
   "cell_type": "code",
   "execution_count": 87,
   "metadata": {},
   "outputs": [
    {
     "data": {
      "text/html": [
       "<div>\n",
       "<style scoped>\n",
       "    .dataframe tbody tr th:only-of-type {\n",
       "        vertical-align: middle;\n",
       "    }\n",
       "\n",
       "    .dataframe tbody tr th {\n",
       "        vertical-align: top;\n",
       "    }\n",
       "\n",
       "    .dataframe thead th {\n",
       "        text-align: right;\n",
       "    }\n",
       "</style>\n",
       "<table border=\"1\" class=\"dataframe\">\n",
       "  <thead>\n",
       "    <tr style=\"text-align: right;\">\n",
       "      <th></th>\n",
       "      <th>image_id</th>\n",
       "      <th>nb_cells</th>\n",
       "    </tr>\n",
       "  </thead>\n",
       "  <tbody>\n",
       "    <tr>\n",
       "      <th>0</th>\n",
       "      <td>SIMCEPImages_A01_C1_F1_s01_w1.TIF</td>\n",
       "      <td>1</td>\n",
       "    </tr>\n",
       "    <tr>\n",
       "      <th>1</th>\n",
       "      <td>SIMCEPImages_A01_C1_F1_s01_w2.TIF</td>\n",
       "      <td>1</td>\n",
       "    </tr>\n",
       "    <tr>\n",
       "      <th>2</th>\n",
       "      <td>SIMCEPImages_A01_C1_F1_s02_w1.TIF</td>\n",
       "      <td>1</td>\n",
       "    </tr>\n",
       "    <tr>\n",
       "      <th>3</th>\n",
       "      <td>SIMCEPImages_A01_C1_F1_s02_w2.TIF</td>\n",
       "      <td>1</td>\n",
       "    </tr>\n",
       "    <tr>\n",
       "      <th>4</th>\n",
       "      <td>SIMCEPImages_A01_C1_F1_s03_w1.TIF</td>\n",
       "      <td>1</td>\n",
       "    </tr>\n",
       "    <tr>\n",
       "      <th>...</th>\n",
       "      <td>...</td>\n",
       "      <td>...</td>\n",
       "    </tr>\n",
       "    <tr>\n",
       "      <th>19195</th>\n",
       "      <td>SIMCEPImages_P24_C100_F48_s23_w2.TIF</td>\n",
       "      <td>100</td>\n",
       "    </tr>\n",
       "    <tr>\n",
       "      <th>19196</th>\n",
       "      <td>SIMCEPImages_P24_C100_F48_s24_w1.TIF</td>\n",
       "      <td>100</td>\n",
       "    </tr>\n",
       "    <tr>\n",
       "      <th>19197</th>\n",
       "      <td>SIMCEPImages_P24_C100_F48_s24_w2.TIF</td>\n",
       "      <td>100</td>\n",
       "    </tr>\n",
       "    <tr>\n",
       "      <th>19198</th>\n",
       "      <td>SIMCEPImages_P24_C100_F48_s25_w1.TIF</td>\n",
       "      <td>100</td>\n",
       "    </tr>\n",
       "    <tr>\n",
       "      <th>19199</th>\n",
       "      <td>SIMCEPImages_P24_C100_F48_s25_w2.TIF</td>\n",
       "      <td>100</td>\n",
       "    </tr>\n",
       "  </tbody>\n",
       "</table>\n",
       "<p>19200 rows × 2 columns</p>\n",
       "</div>"
      ],
      "text/plain": [
       "                                   image_id  nb_cells\n",
       "0         SIMCEPImages_A01_C1_F1_s01_w1.TIF         1\n",
       "1         SIMCEPImages_A01_C1_F1_s01_w2.TIF         1\n",
       "2         SIMCEPImages_A01_C1_F1_s02_w1.TIF         1\n",
       "3         SIMCEPImages_A01_C1_F1_s02_w2.TIF         1\n",
       "4         SIMCEPImages_A01_C1_F1_s03_w1.TIF         1\n",
       "...                                     ...       ...\n",
       "19195  SIMCEPImages_P24_C100_F48_s23_w2.TIF       100\n",
       "19196  SIMCEPImages_P24_C100_F48_s24_w1.TIF       100\n",
       "19197  SIMCEPImages_P24_C100_F48_s24_w2.TIF       100\n",
       "19198  SIMCEPImages_P24_C100_F48_s25_w1.TIF       100\n",
       "19199  SIMCEPImages_P24_C100_F48_s25_w2.TIF       100\n",
       "\n",
       "[19200 rows x 2 columns]"
      ]
     },
     "execution_count": 87,
     "metadata": {},
     "output_type": "execute_result"
    }
   ],
   "source": [
    "mask_or_image='image'\n",
    "if mask_or_image=='mask':\n",
    "    df=mask\n",
    "else:\n",
    "    df=images.copy()\n",
    "    df.drop(columns=['blur', 'mask'],inplace=True) \n",
    "df"
   ]
  },
  {
   "cell_type": "markdown",
   "metadata": {},
   "source": [
    "## Separation test set et train set"
   ]
  },
  {
   "cell_type": "code",
   "execution_count": 88,
   "metadata": {},
   "outputs": [
    {
     "name": "stdout",
     "output_type": "stream",
     "text": [
      "len(df) = 19200\n",
      "len(df_train) = 15360\n",
      "len(df_test) = 3840\n",
      "df_train =\n",
      " <bound method NDFrame.head of                                    image_id  nb_cells\n",
      "7987    SIMCEPImages_G16_C66_F20_s19_w2.TIF        66\n",
      "11946   SIMCEPImages_J23_C96_F29_s24_w1.TIF        96\n",
      "7753    SIMCEPImages_G12_C48_F20_s02_w2.TIF        48\n",
      "6436    SIMCEPImages_F09_C35_F17_s19_w1.TIF        35\n",
      "6005     SIMCEPImages_F01_C1_F17_s03_w2.TIF         1\n",
      "...                                     ...       ...\n",
      "6501    SIMCEPImages_F11_C44_F17_s01_w2.TIF        44\n",
      "16791  SIMCEPImages_N24_C100_F42_s21_w2.TIF       100\n",
      "6738    SIMCEPImages_F15_C61_F17_s20_w1.TIF        61\n",
      "1067     SIMCEPImages_A22_C91_F1_s09_w2.TIF        91\n",
      "9125    SIMCEPImages_H15_C61_F23_s13_w2.TIF        61\n",
      "\n",
      "[15360 rows x 2 columns]>\n",
      "df_test =\n",
      "                                   image_id  nb_cells\n",
      "3234    SIMCEPImages_C17_C70_F7_s18_w1.TIF        70\n",
      "9459   SIMCEPImages_H22_C91_F23_s05_w2.TIF        91\n",
      "14698  SIMCEPImages_M06_C23_F39_s25_w1.TIF        23\n",
      "4347   SIMCEPImages_D15_C61_F10_s24_w2.TIF        61\n",
      "1512    SIMCEPImages_B07_C27_F4_s07_w1.TIF        27\n"
     ]
    }
   ],
   "source": [
    "frac=0.2\n",
    "df_test= df.sample( frac=frac, replace=False, random_state=42)\n",
    "df_train = df.drop(df_test.index).sample(frac=1, random_state=42)\n",
    "\n",
    "print('len(df) =',len(df))\n",
    "print('len(df_train) =',len(df_train))\n",
    "print('len(df_test) =',len(df_test))\n",
    "print( 'df_train =\\n',df_train.head)\n",
    "print( 'df_test =\\n',df_test.head())    \n",
    "\n"
   ]
  },
  {
   "cell_type": "markdown",
   "metadata": {},
   "source": [
    "## Test d'affichage d'images et de nombre de cellules dedans  \n"
   ]
  },
  {
   "cell_type": "code",
   "execution_count": 89,
   "metadata": {},
   "outputs": [
    {
     "data": {
      "text/plain": [
       "'IMG_HEIGHT = 128*2\\nIMG_WIDTH = 128*2\\ndf_train = tk.data_to_numpy(df=df_train,img_width=IMG_HEIGHT,img_height=IMG_WIDTH,mask_or_image=mask_or_image)\\ndf_test = tk.data_to_numpy(df=df_test,img_width=IMG_HEIGHT,img_height=IMG_WIDTH,mask_or_image=mask_or_image)\\ndf_train=df.to_numpy()\\ndf_test=df.to_numpy()'"
      ]
     },
     "execution_count": 89,
     "metadata": {},
     "output_type": "execute_result"
    }
   ],
   "source": [
    "\"\"\"IMG_HEIGHT = 128*2\n",
    "IMG_WIDTH = 128*2\n",
    "df_train = tk.data_to_numpy(df=df_train,img_width=IMG_HEIGHT,img_height=IMG_WIDTH,mask_or_image=mask_or_image)\n",
    "df_test = tk.data_to_numpy(df=df_test,img_width=IMG_HEIGHT,img_height=IMG_WIDTH,mask_or_image=mask_or_image)\n",
    "df_train=df.to_numpy()\n",
    "df_test=df.to_numpy()\"\"\""
   ]
  },
  {
   "cell_type": "code",
   "execution_count": 90,
   "metadata": {},
   "outputs": [
    {
     "data": {
      "text/plain": [
       "(19200, 2)"
      ]
     },
     "execution_count": 90,
     "metadata": {},
     "output_type": "execute_result"
    }
   ],
   "source": [
    "df.shape"
   ]
  },
  {
   "cell_type": "code",
   "execution_count": 91,
   "metadata": {},
   "outputs": [
    {
     "name": "stdout",
     "output_type": "stream",
     "text": [
      "15360\n"
     ]
    }
   ],
   "source": [
    "print( len(df_train))"
   ]
  },
  {
   "cell_type": "code",
   "execution_count": 92,
   "metadata": {},
   "outputs": [
    {
     "data": {
      "image/png": "[encoded data removed]",
      "text/plain": [
       "<Figure size 1500x500 with 4 Axes>"
      ]
     },
     "metadata": {},
     "output_type": "display_data"
    }
   ],
   "source": [
    "\n",
    "IMG_HEIGHT = 128\n",
    "IMG_WIDTH = 128\n",
    "Matrix=df_train\n",
    "n_img_to_show = 4\n",
    "fig = plt.figure(figsize=(15,5))\n",
    "indices=list(range(len(Matrix)))\n",
    "np.random.shuffle(indices)\n",
    "\n",
    "for i in range(n_img_to_show):\n",
    "    ax=fig.add_subplot(2, n_img_to_show//2 , i+1 , xticks=[], yticks=[])\n",
    "    ax.imshow(np.squeeze(tk.get_image(img_id=Matrix['image_id'].iloc[indices[i]],img_height=IMG_HEIGHT, img_width=IMG_WIDTH, mask_or_image= mask_or_image)),cmap='gray')\n",
    "    \n",
    "    ax.set_title(f'image {indices[i]} from the folder {mask_or_image} containing {Matrix['nb_cells'].iloc[indices[i]]} cells')\n",
    "plt.show()"
   ]
  },
  {
   "cell_type": "markdown",
   "metadata": {},
   "source": [
    "## convertit les données pour pytorch"
   ]
  },
  {
   "cell_type": "code",
   "execution_count": 93,
   "metadata": {},
   "outputs": [],
   "source": [
    "import torch\n",
    "from torch.utils.data.sampler import SubsetRandomSampler\n",
    "import numpy as np\n",
    "\n",
    "batch_size = 20 # how many samples per batch to load\n",
    "valid_size = 0.2 # percentage of training set to use as validation\n",
    "\n",
    "def create_data_loaders(batch_size, valid_size, train_data, test_data):\n",
    "  test_loader = torch.utils.data.DataLoader(test_data, batch_size = batch_size)\n",
    "  indices= list( range(len(train_data)))\n",
    "  np.random.shuffle(indices)\n",
    "  split= int( np.floor(valid_size * len(train_data)))\n",
    "  train_indexes, valid_indexes = indices[split:], indices[:split]\n",
    "  valid_samplers= SubsetRandomSampler(valid_indexes)\n",
    "  train_samplers= SubsetRandomSampler(train_indexes)\n",
    "  valid_loader =torch.utils.data.DataLoader( train_data, batch_size = batch_size, sampler = valid_samplers)\n",
    "  train_loader= torch.utils.data.DataLoader(train_data, batch_size = batch_size, sampler= train_samplers)\n",
    "  return train_loader, valid_loader, test_loader\n"
   ]
  },
  {
   "cell_type": "code",
   "execution_count": 94,
   "metadata": {},
   "outputs": [
    {
     "data": {
      "text/plain": [
       "pandas.core.frame.DataFrame"
      ]
     },
     "execution_count": 94,
     "metadata": {},
     "output_type": "execute_result"
    }
   ],
   "source": [
    "type(df_train)"
   ]
  },
  {
   "cell_type": "code",
   "execution_count": 95,
   "metadata": {},
   "outputs": [],
   "source": [
    "from costumize_data import CustomDataset \n",
    "transform = transforms.Compose([\n",
    "    \n",
    "    transforms.ToTensor(),\n",
    "    transforms.Resize((IMG_HEIGHT, IMG_WIDTH)) # Resize to desired dimensions\n",
    "])\n",
    "train_data= CustomDataset(df_train,transform=transform)\n",
    "train_data.set_path_to_dataset('..')\n",
    "test_data= CustomDataset(df_test,transform=transform)\n",
    "test_data.set_path_to_dataset('..')\n",
    "train_loader, valid_loader, test_loader =create_data_loaders(batch_size, valid_size, train_data, test_data)"
   ]
  },
  {
   "cell_type": "code",
   "execution_count": 96,
   "metadata": {},
   "outputs": [
    {
     "name": "stdout",
     "output_type": "stream",
     "text": [
      "torch.Size([1, 128, 128])\n"
     ]
    }
   ],
   "source": [
    "print( train_data.__getitem__(800)[0].shape)"
   ]
  },
  {
   "cell_type": "markdown",
   "metadata": {},
   "source": [
    "## Image et mask correspondant généré avec u-net"
   ]
  },
  {
   "cell_type": "code",
   "execution_count": 97,
   "metadata": {},
   "outputs": [],
   "source": [
    "import torch\n",
    "import torch.nn as nn\n",
    "import torch.nn.functional as F\n",
    "\n",
    "dropout = 0.2\n",
    "nb_filtre = 8\n",
    "\n",
    "p = 1  # for padding \n",
    "k = 3  # for kernel size\n",
    "s = 1  # for stride\n",
    "pool_k = 2\n",
    "pool_s = 2\n",
    "n_conv= [1 , 1 , 1 , 0]\n",
    "do_pool= [1 , 1 , 0 ,0]  \n",
    "\n",
    "class CNN(nn.Module):\n",
    "    def __init__(self, img_height, img_width):\n",
    "        super(CNN, self).__init__()\n",
    "\n",
    "        self.im_height = img_height\n",
    "        self.im_width = img_width\n",
    "        \n",
    "        self.size= 0\n",
    "        self.conv1 = self.conv_block(in_channels=1, out_channels=nb_filtre*(2**0))\n",
    "        self.conv2 = self.conv_block(in_channels=nb_filtre*(2**0), out_channels=nb_filtre *(2**1))\n",
    "        self.conv3 = self.conv_block(in_channels=nb_filtre *(2**1), out_channels=nb_filtre *(2**2))\n",
    "        self.conv4 = self.conv_block(in_channels=nb_filtre *(2**2), out_channels=nb_filtre *(2**3))\n",
    "\n",
    "        self.pool = nn.MaxPool2d(kernel_size=pool_k, stride=pool_s)\n",
    "\n",
    "        # Calculate output dimensions after all convolutions and pooling\n",
    "        self.calculate_output_dims()\n",
    "        print( self.size)\n",
    "        #print(self.size)\n",
    "        # First dense layer\n",
    "        self.dense1 = self.dense_layer(size=self.size)\n",
    "\n",
    "        # Second dense layer\n",
    "        self.size //= 4  # Adjust size for the second dense layer\n",
    "        self.dense2 = self.dense_layer(size=self.size)\n",
    "        self.size//= 4\n",
    "        # Final fully connected layer\n",
    "        self.fc = nn.Linear(self.size, 1)  # Adjusted for output size\n",
    "\n",
    "    def calculate_output_dims(self):\n",
    "        # Recalculate height and width after each convolution and pooling layer\n",
    "        current_filters = nb_filtre\n",
    "        for i in range(sum(n_conv)):\n",
    "            # After convolution\n",
    "            self.im_height = (self.im_height + 2 * p - k) // s + 1\n",
    "            self.im_width = (self.im_width + 2 * p - k) // s + 1\n",
    "            self.im_height = (self.im_height + 2 * p - k) // s + 1\n",
    "            self.im_width = (self.im_width + 2 * p - k) // s + 1\n",
    "            current_filters = nb_filtre * (2 ** i)\n",
    "        for i in do_pool:\n",
    "            if i ==1:\n",
    "                # After pooling\n",
    "                self.im_height//= pool_k\n",
    "                self.im_width //= pool_k\n",
    "                \n",
    "                \n",
    "\n",
    "        # Flattened size for dense layers\n",
    "        # Note: Using the final number of filters (nb_filtre * (2**n_con))\n",
    "        self.size = self.im_height * self.im_width * current_filters \n",
    "        #note = consider pooling\n",
    "        \n",
    "\n",
    "\n",
    "    def dense_layer(self , size ):\n",
    "        \n",
    "        block = nn.Sequential(\n",
    "            nn.Linear(size, size // 2),\n",
    "            nn.ReLU(inplace=True),\n",
    "            nn.Dropout(dropout),\n",
    "            nn.Linear(size // 2, size // 4),\n",
    "            nn.ReLU(inplace=True)\n",
    "        )\n",
    "        return block\n",
    "\n",
    "    def conv_block(self, in_channels, out_channels):\n",
    "        \"\"\"\n",
    "        Convolutional Block: Conv2d -> ReLU -> Dropout -> Conv2d -> ReLU -> Dropout\n",
    "        \"\"\"\n",
    "        block = nn.Sequential(\n",
    "            nn.Conv2d(in_channels, out_channels, kernel_size=k, padding=p),\n",
    "            nn.ReLU(inplace=True),\n",
    "            nn.Dropout(dropout),  # Dropout after each conv layer\n",
    "            nn.Conv2d(out_channels, out_channels, kernel_size=k, padding=p),\n",
    "            nn.ReLU(inplace=True),\n",
    "            nn.Dropout(dropout)\n",
    "        )\n",
    "        return block\n",
    "    def forward(self, x):\n",
    "        \"\"\"\n",
    "        The forward path is : conv_block --> conv_block --> conv_block --> conv_block --> layer\n",
    "        \"\"\"\n",
    "        if n_conv[0] == 1: \n",
    "            x = self.conv1(x)\n",
    "        if do_pool[0]==1: \n",
    "            x=self.pool(x)\n",
    "        if n_conv[1] == 1: \n",
    "            x = self.conv2(x)\n",
    "        if do_pool[1]==1: \n",
    "            x=self.pool(x)\n",
    "        if n_conv[2] == 1 : \n",
    "            x = self.conv3(x)\n",
    "        if do_pool[3]==1: \n",
    "            x=self.pool(x)\n",
    "        if n_conv[3] == 1: \n",
    "            x = self.conv4(x)\n",
    "        if do_pool[3]==1: \n",
    "            x=self.pool(x)\n",
    "        \n",
    "        print('At the end of the convolution layer x shape =', x.shape)\n",
    "        # Flatten before dense layers\n",
    "        x = x.view(x.size(0), -1)  # Keep batch size intact\n",
    "        #print( x.shape)\n",
    "        x = self.dense1(x)\n",
    "        \n",
    "        # Uncomment if you have a second dense layer\n",
    "        x = self.dense2(x)\n",
    "        #print(f\"Dense2 shape: {x.shape}\")  # Debug: check shape\n",
    "        #out put layer \n",
    "        x = self.fc(x)\n",
    "        \n",
    "        return x\n"
   ]
  },
  {
   "cell_type": "code",
   "execution_count": 98,
   "metadata": {},
   "outputs": [],
   "source": [
    "import torch\n",
    "import torch.nn as nn\n",
    "import torch.nn.functional as F\n",
    "\n",
    "dropout = 0.2\n",
    "nb_filtre = 4\n",
    "\n",
    "p = 1  # for padding \n",
    "k = 3  # for kernel size\n",
    "s = 1  # for stride\n",
    "pool_k = 2\n",
    "pool_s = 2\n",
    "n_conv= [1 , 1, 1 , 1]\n",
    "do_pool= [1 , 1 , 1 ,1]  \n",
    "\n",
    "class CNN(nn.Module):\n",
    "    def __init__(self, img_height, img_width):\n",
    "        super(CNN, self).__init__()\n",
    "\n",
    "        self.im_height = img_height\n",
    "        self.im_width = img_width\n",
    "        \n",
    "        self.size= 0\n",
    "        self.conv1 = self.conv_block(in_channels=1, out_channels=nb_filtre*(2**0))\n",
    "        self.conv2 = self.conv_block(in_channels=nb_filtre*(2**0), out_channels=nb_filtre *(2**1))\n",
    "        self.conv3 = self.conv_block(in_channels=nb_filtre *(2**1), out_channels=nb_filtre *(2**2))\n",
    "        self.conv4 = self.conv_block(in_channels=nb_filtre *(2**2), out_channels=nb_filtre *(2**3))\n",
    "\n",
    "        self.pool = nn.MaxPool2d(kernel_size=pool_k, stride=pool_s)\n",
    "\n",
    "        # Calculate output dimensions after all convolutions and pooling\n",
    "        self.calculate_output_dims()\n",
    "        #print( 'self size=', self.size)\n",
    "        #print(self.size)\n",
    "        # First dense layer\n",
    "        self.dense1 = self.dense_layer(size=self.size)\n",
    "\n",
    "        # Second dense layer\n",
    "        self.size //= 4  # Adjust size for the second dense layer\n",
    "        self.dense2 = self.dense_layer(size=self.size)\n",
    "        self.size//= 4\n",
    "        # Final fully connected layer\n",
    "        self.fc = nn.Linear(self.size, 1)  # Adjusted for output size\n",
    "\n",
    "    def calculate_output_dims(self):\n",
    "        # Recalculate height and width after each convolution and pooling layer\n",
    "        current_filters = nb_filtre\n",
    "        for i in range(sum(n_conv)):\n",
    "            # After convolution\n",
    "            self.im_height = (self.im_height + 2 * p - k) // s + 1\n",
    "            self.im_width = (self.im_width + 2 * p - k) // s + 1\n",
    "            self.im_height = (self.im_height + 2 * p - k) // s + 1\n",
    "            self.im_width = (self.im_width + 2 * p - k) // s + 1\n",
    "            current_filters = nb_filtre * (2 ** (i))\n",
    "        for i in do_pool:\n",
    "            if i == 1:\n",
    "         #       print( 'im a in i')\n",
    "                # After pooling\n",
    "                self.im_height//= pool_k\n",
    "                self.im_width //= pool_k\n",
    "            \n",
    "                \n",
    "\n",
    "        # Flattened size for dense layers\n",
    "        # Note: Using the final number of filters (nb_filtre * (2**n_con))\n",
    "        self.size = self.im_height * self.im_width * current_filters \n",
    "        #note = consider pooling\n",
    "        \n",
    "\n",
    "\n",
    "    def dense_layer(self , size ):\n",
    "        \n",
    "        block = nn.Sequential(\n",
    "            nn.Linear(size, size // 2),\n",
    "            #nn.ReLU(inplace=True),\n",
    "            nn.Dropout(dropout),\n",
    "            nn.Linear(size // 2, size // 4),\n",
    "            #nn.ReLU(inplace=True)\n",
    "        )\n",
    "        return block\n",
    "\n",
    "    def conv_block(self, in_channels, out_channels):\n",
    "        \"\"\"\n",
    "        Convolutional Block: Conv2d -> ReLU -> Dropout -> Conv2d -> ReLU -> Dropout\n",
    "        \"\"\"\n",
    "        block = nn.Sequential(\n",
    "            nn.Conv2d(in_channels, out_channels, kernel_size=k, padding=p),\n",
    "            #nn.ReLU(inplace=True),\n",
    "            #nn.Dropout(dropout),  # Dropout after each conv layer\n",
    "            \n",
    "        )\n",
    "        return block\n",
    "    def forward(self, x):\n",
    "        \"\"\"\n",
    "        The forward path is : conv_block --> conv_block --> conv_block --> conv_block --> layer\n",
    "        \"\"\"\n",
    "        if n_conv[0] == 1: \n",
    "            x = self.conv1(x)\n",
    "        if do_pool[0]==1: \n",
    "            x=self.pool(x)\n",
    "        if n_conv[1] == 1: \n",
    "            x = self.conv2(x)\n",
    "        if do_pool[1]==1: \n",
    "            x=self.pool(x)\n",
    "        if n_conv[2] == 1 : \n",
    "            x = self.conv3(x)\n",
    "        if do_pool[2]==1: \n",
    "            x=self.pool(x)\n",
    "        if n_conv[3] == 1: \n",
    "            x = self.conv4(x)\n",
    "        if do_pool[3]==1: \n",
    "            x=self.pool(x)\n",
    "        \n",
    "        #print( 'size=', self.size )\n",
    "        \n",
    "        #print('At the end of the convolution layer x shape =', x.shape)\n",
    "        # Flatten before dense layers\n",
    "        x = x.view(x.size(0), -1)  # Keep batch size intac\n",
    "        #print ('x=', x.shape)\n",
    "        #print( x.shape)\n",
    "        x = self.dense1(x)\n",
    "        \n",
    "        # Uncomment if you have a second dense layer\n",
    "        x = self.dense2(x)\n",
    "        #print(f\"Dense2 shape: {x.shape}\")  # Debug: check shape\n",
    "        #out put layer \n",
    "        x = self.fc(x)\n",
    "        \n",
    "        return x\n"
   ]
  },
  {
   "cell_type": "code",
   "execution_count": 99,
   "metadata": {},
   "outputs": [
    {
     "name": "stdout",
     "output_type": "stream",
     "text": [
      "Using device cpu\n"
     ]
    }
   ],
   "source": [
    "device = torch.device('cuda' if torch.cuda.is_available() else 'cpu')\n",
    "print('Using device '+str(device))"
   ]
  },
  {
   "cell_type": "code",
   "execution_count": 100,
   "metadata": {},
   "outputs": [
    {
     "data": {
      "text/plain": [
       "CNN(\n",
       "  (conv1): Sequential(\n",
       "    (0): Conv2d(1, 4, kernel_size=(3, 3), stride=(1, 1), padding=(1, 1))\n",
       "  )\n",
       "  (conv2): Sequential(\n",
       "    (0): Conv2d(4, 8, kernel_size=(3, 3), stride=(1, 1), padding=(1, 1))\n",
       "  )\n",
       "  (conv3): Sequential(\n",
       "    (0): Conv2d(8, 16, kernel_size=(3, 3), stride=(1, 1), padding=(1, 1))\n",
       "  )\n",
       "  (conv4): Sequential(\n",
       "    (0): Conv2d(16, 32, kernel_size=(3, 3), stride=(1, 1), padding=(1, 1))\n",
       "  )\n",
       "  (pool): MaxPool2d(kernel_size=2, stride=2, padding=0, dilation=1, ceil_mode=False)\n",
       "  (dense1): Sequential(\n",
       "    (0): Linear(in_features=2048, out_features=1024, bias=True)\n",
       "    (1): Dropout(p=0.2, inplace=False)\n",
       "    (2): Linear(in_features=1024, out_features=512, bias=True)\n",
       "  )\n",
       "  (dense2): Sequential(\n",
       "    (0): Linear(in_features=512, out_features=256, bias=True)\n",
       "    (1): Dropout(p=0.2, inplace=False)\n",
       "    (2): Linear(in_features=256, out_features=128, bias=True)\n",
       "  )\n",
       "  (fc): Linear(in_features=128, out_features=1, bias=True)\n",
       ")"
      ]
     },
     "execution_count": 100,
     "metadata": {},
     "output_type": "execute_result"
    }
   ],
   "source": [
    "CNN_1 = CNN( img_height=IMG_HEIGHT, img_width=IMG_WIDTH )\n",
    "CNN_1.to(device=device)  "
   ]
  },
  {
   "cell_type": "code",
   "execution_count": 101,
   "metadata": {},
   "outputs": [
    {
     "data": {
      "text/plain": [
       "torch.Size([1, 128, 128])"
      ]
     },
     "execution_count": 101,
     "metadata": {},
     "output_type": "execute_result"
    }
   ],
   "source": [
    "#CNN(train_data.__getitem__(0)[0])\n",
    "train_data.__getitem__(0)[0].shape"
   ]
  },
  {
   "cell_type": "code",
   "execution_count": 102,
   "metadata": {},
   "outputs": [
    {
     "name": "stdout",
     "output_type": "stream",
     "text": [
      "tensor([[0.0811]], grad_fn=<AddmmBackward0>)\n"
     ]
    }
   ],
   "source": [
    "single_batch = torch.randn(1, 1, IMG_HEIGHT, IMG_WIDTH)\n",
    "output = CNN_1(single_batch)\n",
    "print( output)"
   ]
  },
  {
   "cell_type": "code",
   "execution_count": 103,
   "metadata": {},
   "outputs": [
    {
     "name": "stdout",
     "output_type": "stream",
     "text": [
      "----------------------------------------------------------------\n",
      "        Layer (type)               Output Shape         Param #\n",
      "================================================================\n",
      "            Conv2d-1          [-1, 4, 128, 128]              40\n",
      "         MaxPool2d-2            [-1, 4, 64, 64]               0\n",
      "            Conv2d-3            [-1, 8, 64, 64]             296\n",
      "         MaxPool2d-4            [-1, 8, 32, 32]               0\n",
      "            Conv2d-5           [-1, 16, 32, 32]           1,168\n",
      "         MaxPool2d-6           [-1, 16, 16, 16]               0\n",
      "            Conv2d-7           [-1, 32, 16, 16]           4,640\n",
      "         MaxPool2d-8             [-1, 32, 8, 8]               0\n",
      "            Linear-9                 [-1, 1024]       2,098,176\n",
      "          Dropout-10                 [-1, 1024]               0\n",
      "           Linear-11                  [-1, 512]         524,800\n",
      "           Linear-12                  [-1, 256]         131,328\n",
      "          Dropout-13                  [-1, 256]               0\n",
      "           Linear-14                  [-1, 128]          32,896\n",
      "           Linear-15                    [-1, 1]             129\n",
      "================================================================\n",
      "Total params: 2,793,473\n",
      "Trainable params: 2,793,473\n",
      "Non-trainable params: 0\n",
      "----------------------------------------------------------------\n",
      "Input size (MB): 0.06\n",
      "Forward/backward pass size (MB): 1.20\n",
      "Params size (MB): 10.66\n",
      "Estimated Total Size (MB): 11.92\n",
      "----------------------------------------------------------------\n"
     ]
    }
   ],
   "source": [
    "from torchsummary import summary\n",
    "summary(CNN_1, input_size=(1, IMG_HEIGHT, IMG_WIDTH))  # Explicitly set batch_size=1 # channels, height, width )"
   ]
  },
  {
   "cell_type": "code",
   "execution_count": 104,
   "metadata": {},
   "outputs": [],
   "source": [
    "criterion =nn.MSELoss()\n",
    "#criterion = nn.SmoothL1Loss()\n",
    "optimizer = torch.optim.Adam(CNN_1.parameters(), lr=0.01)"
   ]
  },
  {
   "cell_type": "code",
   "execution_count": 105,
   "metadata": {},
   "outputs": [],
   "source": [
    "n_epochs = 20 # number of epochs to train the model\n",
    "\n",
    "def training(n_epochs, train_loader, valid_loader, model, criterion, optimizer):\n",
    "\n",
    "  train_losses, valid_losses = [], []\n",
    "  # initialize tracker for minimum validation loss\n",
    "  valid_loss_min = np.inf  # set initial \"min\" to infinity\n",
    "\n",
    "  for epoch in range(n_epochs):\n",
    "      \n",
    "      train_loss, valid_loss = 0, 0 # monitor losses\n",
    "\n",
    "      # train the model\n",
    "      model.train() # prep model for training\n",
    "      for data, label in train_loader:\n",
    "          \n",
    "          data = data.to(device=device, dtype=torch.float32)\n",
    "          label = label.to(device=device, dtype=torch.float32)\n",
    "          optimizer.zero_grad()\n",
    "          output=model(data)\n",
    "          \n",
    "          loss=criterion(output,label)\n",
    "          loss.backward()\n",
    "          optimizer.step()\n",
    "          train_loss += loss.item() * data.size(0) # update running training loss\n",
    "      \n",
    "      # validate the model\n",
    "      model.eval()\n",
    "      for data, label in valid_loader:\n",
    "          \n",
    "          \n",
    "          data = data.to(device=device, dtype=torch.float32)\n",
    "          label = label.to(device=device, dtype=torch.float32)\n",
    "          with torch.no_grad():\n",
    "              output=model( data)\n",
    "          loss=criterion(output,label)\n",
    "          valid_loss += loss.item() * data.size(0)\n",
    "    \n",
    "      # calculate average loss over an epoch\n",
    "      train_loss /= len(train_loader.sampler)\n",
    "      valid_loss /= len(valid_loader.sampler)\n",
    "      train_losses.append(train_loss)\n",
    "      valid_losses.append(valid_loss)\n",
    "\n",
    "      print('epoch: {} \\ttraining Loss: {:.6f} \\tvalidation Loss: {:.6f}'.format(epoch+1, train_loss, valid_loss))\n",
    "\n",
    "      # save model if validation loss has decreased\n",
    "      if valid_loss <= valid_loss_min:\n",
    "          print('validation loss decreased ({:.6f} --> {:.6f}).  Saving model ...'.format(\n",
    "          valid_loss_min,\n",
    "          valid_loss))\n",
    "          torch.save(model.state_dict(), 'model.pt')\n",
    "          valid_loss_min = valid_loss\n",
    "\n",
    "  return train_losses, valid_losses"
   ]
  },
  {
   "cell_type": "code",
   "execution_count": null,
   "metadata": {},
   "outputs": [
    {
     "name": "stderr",
     "output_type": "stream",
     "text": [
      "c:\\Users\\LENOVO\\miniconda3\\Lib\\site-packages\\torch\\nn\\modules\\loss.py:608: UserWarning: Using a target size (torch.Size([20])) that is different to the input size (torch.Size([20, 1])). This will likely lead to incorrect results due to broadcasting. Please ensure they have the same size.\n",
      "  return F.mse_loss(input, target, reduction=self.reduction)\n",
      "c:\\Users\\LENOVO\\miniconda3\\Lib\\site-packages\\torch\\nn\\modules\\loss.py:608: UserWarning: Using a target size (torch.Size([8])) that is different to the input size (torch.Size([8, 1])). This will likely lead to incorrect results due to broadcasting. Please ensure they have the same size.\n",
      "  return F.mse_loss(input, target, reduction=self.reduction)\n",
      "c:\\Users\\LENOVO\\miniconda3\\Lib\\site-packages\\torch\\nn\\modules\\loss.py:608: UserWarning: Using a target size (torch.Size([12])) that is different to the input size (torch.Size([12, 1])). This will likely lead to incorrect results due to broadcasting. Please ensure they have the same size.\n",
      "  return F.mse_loss(input, target, reduction=self.reduction)\n"
     ]
    },
    {
     "name": "stdout",
     "output_type": "stream",
     "text": [
      "epoch: 1 \ttraining Loss: 206925.225207 \tvalidation Loss: 913.604619\n",
      "validation loss decreased (inf --> 913.604619).  Saving model ...\n",
      "epoch: 2 \ttraining Loss: 971.383400 \tvalidation Loss: 909.433639\n",
      "validation loss decreased (913.604619 --> 909.433639).  Saving model ...\n",
      "epoch: 3 \ttraining Loss: 965.794512 \tvalidation Loss: 943.478357\n",
      "epoch: 4 \ttraining Loss: 968.535866 \tvalidation Loss: 896.056505\n",
      "validation loss decreased (909.433639 --> 896.056505).  Saving model ...\n",
      "epoch: 5 \ttraining Loss: 927.971638 \tvalidation Loss: 1038.170121\n",
      "epoch: 6 \ttraining Loss: 923.961621 \tvalidation Loss: 905.407486\n",
      "epoch: 7 \ttraining Loss: 926.585398 \tvalidation Loss: 883.323598\n",
      "validation loss decreased (896.056505 --> 883.323598).  Saving model ...\n",
      "epoch: 8 \ttraining Loss: 927.034860 \tvalidation Loss: 891.481466\n"
     ]
    }
   ],
   "source": [
    "train_losses, valid_losses=training(n_epochs, train_loader, valid_loader, CNN_1, criterion, optimizer)"
   ]
  },
  {
   "cell_type": "code",
   "execution_count": 79,
   "metadata": {},
   "outputs": [
    {
     "data": {
      "text/plain": [
       "Text(0, 0.5, 'loss value')"
      ]
     },
     "execution_count": 79,
     "metadata": {},
     "output_type": "execute_result"
    },
    {
     "data": {
      "image/png": "[encoded data removed]",
      "text/plain": [
       "<Figure size 640x480 with 1 Axes>"
      ]
     },
     "metadata": {},
     "output_type": "display_data"
    }
   ],
   "source": [
    "plt.plot(range(n_epochs), train_losses)\n",
    "plt.plot(range(n_epochs), valid_losses)\n",
    "plt.legend(['train', 'validation'], prop={'size': 10})\n",
    "plt.title('loss function', size=10)\n",
    "plt.xlabel('epoch', size=10)\n",
    "plt.ylabel('loss value', size=10)"
   ]
  },
  {
   "cell_type": "code",
   "execution_count": 80,
   "metadata": {},
   "outputs": [],
   "source": [
    "def evaluation(model, test_loader, criterion):\n",
    "\n",
    "  # initialize lists to monitor test loss and accuracy\n",
    "  test_loss = 0.0\n",
    "  class_correct = list(0. for i in range(101))\n",
    "  class_total = list(0. for i in range(101))\n",
    "  #creat a empty dict of 101 elements\n",
    "  dict={}\n",
    "  for i in range(1,101):\n",
    "      dict[i]=[]\n",
    "  model.eval() # prep model for evaluation\n",
    "  for data, label in test_loader:\n",
    "      data = data.to(device=device, dtype=torch.float32)\n",
    "      label = label.to(device=device, dtype=torch.long)\n",
    "      with torch.no_grad():\n",
    "          output = model(data) # forward pass: compute predicted outputs by passing inputs to the model\n",
    "      loss = criterion(output, label)\n",
    "\n",
    "      test_loss += loss.item()*data.size(0)\n",
    "      \n",
    "      pred = torch.floor(output) # convert output probabilities to predicted class\n",
    "      correct = np.squeeze(pred.eq(label.data.view_as(pred))) # compare predictions to true label\n",
    "      # calculate test accuracy for each object class\n",
    "      for i in range(len(label)):\n",
    "          number_expected = label.data[i]\n",
    "          class_correct[number_expected] += correct[i].item()\n",
    "          class_total[number_expected] += 1\n",
    "          number_expected = int(number_expected)\n",
    "          dict[number_expected].append(int(pred[i]))\n",
    "      \n",
    "  \n",
    "  #print and return the results\n",
    "  for i in range(100):\n",
    "     if class_total[i] > 0 : \n",
    "        print( 'For the true value ', i, 'the predicted values are ', dict[i])\n",
    "  # calculate and print avg test loss\n",
    "  test_loss = test_loss/len(test_loader.sampler)\n",
    "  print('test Loss: {:.6f}\\n'.format(test_loss))\n",
    "  for i in range(100):\n",
    "      if class_total[i] > 0:\n",
    "        accuracy = 100 * class_correct[i] / class_total[i]\n",
    "        print('Test accuracy of %1s: %2.2f%% (%2d/%2d)' % (str(i), accuracy, np.sum(class_correct[i]), np.sum(class_total[i])))\n",
    "      #else: \n",
    "        #print('Test accuracy of %1s: N/A (0/0)' % str(i))\n",
    "\n",
    "  print('\\ntest accuracy (overall): %2.2f%% (%2d/%2d)' % (100. * np.sum(class_correct) / np.sum(class_total), np.sum(class_correct), np.sum(class_total)))"
   ]
  },
  {
   "cell_type": "code",
   "execution_count": 81,
   "metadata": {},
   "outputs": [
    {
     "name": "stdout",
     "output_type": "stream",
     "text": [
      "For the true value  1 the predicted values are  [38, 37, 37, 37, 38, 38]\n",
      "For the true value  5 the predicted values are  [39, 38, 38, 40, 38, 39, 38, 40, 39, 40, 39, 39]\n",
      "For the true value  10 the predicted values are  [41, 41, 40, 42, 43, 40, 40, 39, 41]\n",
      "For the true value  14 the predicted values are  [41, 41, 43, 40, 40, 42, 39, 41, 42, 43, 41, 41]\n",
      "For the true value  18 the predicted values are  [42, 43, 42, 43, 42, 45, 44, 42, 42, 46, 44]\n",
      "For the true value  23 the predicted values are  [47, 42, 45, 44, 42, 42, 43, 43, 42, 47, 49, 43]\n",
      "For the true value  27 the predicted values are  [48, 44, 45, 43, 43, 46, 46, 43, 45, 45, 43, 48, 47]\n",
      "For the true value  31 the predicted values are  [45, 43, 46, 46, 49, 46, 48, 52, 50, 49, 45, 44]\n",
      "For the true value  35 the predicted values are  [49, 48, 50, 48, 47, 49, 47, 52, 51, 51, 49]\n",
      "For the true value  40 the predicted values are  [47, 50, 46, 51, 51, 50, 47]\n",
      "For the true value  44 the predicted values are  [53, 55, 47, 53, 48, 51, 49, 49, 54, 47]\n",
      "For the true value  48 the predicted values are  [48, 49, 47, 47, 51, 51, 48]\n",
      "For the true value  53 the predicted values are  [55, 54, 57, 50, 48, 54, 49, 50, 54, 50, 51]\n",
      "For the true value  57 the predicted values are  [52, 57, 51, 52, 50, 50, 52, 55, 53, 51]\n",
      "For the true value  61 the predicted values are  [56, 54, 56, 56, 53, 55, 52, 51, 56, 57]\n",
      "For the true value  66 the predicted values are  [58, 57, 51, 56, 54, 58, 52]\n",
      "For the true value  70 the predicted values are  [54, 57, 51, 56, 53, 55, 54, 53, 54, 56, 54]\n",
      "For the true value  74 the predicted values are  [55, 55, 59, 56, 58, 56, 56, 59, 53, 57, 55]\n",
      "For the true value  78 the predicted values are  [56, 59, 57, 54, 59, 56, 55, 58, 55, 59, 55]\n",
      "For the true value  83 the predicted values are  [56, 56, 55, 54, 59, 57, 56, 53, 54, 57, 59, 59]\n",
      "For the true value  87 the predicted values are  [57, 56, 56, 59, 58, 57, 57, 55, 59, 56, 56]\n",
      "For the true value  91 the predicted values are  [56, 55, 59, 57, 56]\n",
      "For the true value  96 the predicted values are  [59, 58, 59, 62, 58, 60, 61, 59, 59, 54, 59]\n",
      "test Loss: 820.069540\n",
      "\n",
      "Test accuracy of 1: 0.00% ( 0/ 6)\n",
      "Test accuracy of 5: 0.00% ( 0/12)\n",
      "Test accuracy of 10: 0.00% ( 0/ 9)\n",
      "Test accuracy of 14: 0.00% ( 0/12)\n",
      "Test accuracy of 18: 0.00% ( 0/11)\n",
      "Test accuracy of 23: 0.00% ( 0/12)\n",
      "Test accuracy of 27: 0.00% ( 0/13)\n",
      "Test accuracy of 31: 0.00% ( 0/12)\n",
      "Test accuracy of 35: 0.00% ( 0/11)\n",
      "Test accuracy of 40: 0.00% ( 0/ 7)\n",
      "Test accuracy of 44: 0.00% ( 0/10)\n",
      "Test accuracy of 48: 28.57% ( 2/ 7)\n",
      "Test accuracy of 53: 0.00% ( 0/11)\n",
      "Test accuracy of 57: 10.00% ( 1/10)\n",
      "Test accuracy of 61: 0.00% ( 0/10)\n",
      "Test accuracy of 66: 0.00% ( 0/ 7)\n",
      "Test accuracy of 70: 0.00% ( 0/11)\n",
      "Test accuracy of 74: 0.00% ( 0/11)\n",
      "Test accuracy of 78: 0.00% ( 0/11)\n",
      "Test accuracy of 83: 0.00% ( 0/12)\n",
      "Test accuracy of 87: 0.00% ( 0/11)\n",
      "Test accuracy of 91: 0.00% ( 0/ 5)\n",
      "Test accuracy of 96: 0.00% ( 0/11)\n",
      "\n",
      "test accuracy (overall): 1.25% ( 3/240)\n"
     ]
    }
   ],
   "source": [
    "evaluation( CNN_1, test_loader, criterion)"
   ]
  }
 ],
 "metadata": {
  "kernelspec": {
   "display_name": "base",
   "language": "python",
   "name": "python3"
  },
  "language_info": {
   "codemirror_mode": {
    "name": "ipython",
    "version": 3
   },
   "file_extension": ".py",
   "mimetype": "text/x-python",
   "name": "python",
   "nbconvert_exporter": "python",
   "pygments_lexer": "ipython3",
   "version": "3.12.3"
  }
 },
 "nbformat": 4,
 "nbformat_minor": 2
}
