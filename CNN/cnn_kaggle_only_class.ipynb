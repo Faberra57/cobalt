{
 "cells": [
  {
   "cell_type": "markdown",
   "metadata": {},
   "source": [
    "# Projet Commande Entreprise - Projet 23 : Traitement d'Images Microscopiques par Intelligence Artificielle\n",
    "## Partenariat avec Cobalt Contraception\n",
    "\n",
    "### Contexte et Objectifs du Projet\n",
    "\n",
    "Ce projet s'inscrit dans le cadre de l'UE Projet Commande Entreprise, semestre 7, formation ingénieur généraliste FISE IMT Atlantique. Il est réalisé en partenariat avec **Cobalt Contraception** (135 rue Claude Chappe, 29280, Plouzané), sous la supervision de **Mme Eléonore Abadie** (Présidente, contact@cobalt-contraception.com).\n",
    "\n",
    "L'objectif final de notre partenaire est la mise au point d'un **dispositif de contraception masculine** naturel, réversible, et non-invasif. Pour favoriser l'acceptation de cette méthode, il est essentiel de permettre aux utilisateurs de réaliser facilement un **spermogramme à domicile**. Notre projet consiste à développer une solution de traitement d'image permettant de mesurer la concentration et la mobilité des spermatozoïdes via un système optique intégré dans un boîtier connecté à la caméra d'un smartphone.\n",
    "\n",
    "### Description du Projet\n",
    "\n",
    "Notre mission dans le cadre de ce projet est de concevoir un **premier prototype d'algorithme** capable de compter et analyser des cellules dans des images microscopiques. Cet algorithme sera optimisé pour fonctionner sur un environnement Linux embarqué, notamment sur une Raspberry Pi, et vise deux fonctionnalités principales :\n",
    "\n",
    "1. **Détection et comptage des cellules** dans les images pour calculer leur concentration.\n",
    "2. **Analyse de la mobilité cellulaire** dans des vidéos (futur développement).\n",
    "\n",
    "### Livrables\n",
    "\n",
    "- Algorithme de détermination de la concentration des cellules (60 %)\n",
    "- Intégration de l’algorithme sur Raspberry Pi (30 %)\n",
    "- Rapport d'analyse des différentes approches algorithmiques (10 %)\n",
    "\n",
    "### Équipe Projet\n",
    "\n",
    "- **Étudiants** : Khalil ABDELHEDI, Corentin BOUTAULT, Iyed DAMMAK (auteur du notebook), Thomas FAVRE, Skander MAHJOUB, Noah SCHOUAME, Fabien SENEQUIER\n",
    "- **Conseiller** : Jack Bourdin White, qui nous a apporté son expertise et ses conseils précieux\n",
    "- **Tuteur entreprise** : Mme Eléonore Abadie, Présidente, eleonore@cobalt-contraception.com\n",
    "- **Tuteur académique** : Mme LANGLAIS Charlotte ,IMT Atlantique\n",
    "\n",
    "### Mots-Clés\n",
    "Computer vision, Image segmentation, Apprentissage profond, Raspberry Pi, Spermogramme à domicile\n",
    "\n",
    "---\n",
    "\n"
   ]
  },
  {
   "cell_type": "markdown",
   "metadata": {},
   "source": [
    "# CNN for counting \n",
    "This fil is for CNN application\n",
    "This notebook presents a CNN-based approach developed for COBALT to automate sperm cell counting in microscopic images. The goal is to build a reliable model that can accurately detect and count cells, streamlining the fertility analysis process.\n",
    "\n",
    "We’ll cover data preparation, model design, and evaluation to achieve an efficient and accurate cell-counting solution.\n",
    "\n",
    "---"
   ]
  },
  {
   "cell_type": "markdown",
   "metadata": {},
   "source": [
    "**Initialization and Importing Libraries and Tools** "
   ]
  },
  {
   "cell_type": "code",
   "execution_count": 342,
   "metadata": {},
   "outputs": [],
   "source": [
    "# Standard libraries\n",
    "import sys\n",
    "import os\n",
    "\n",
    "# Adding a custom toolkit repository to the system path\n",
    "# This allows for easy importing of custom tools from 'tool_kit' located in a parent directory\n",
    "#path_to_tool_kit = os.path.abspath('/homes/i23damma/Bureau/Cobalt/cobalt')\n",
    "path_to_tool_kit = os.path.abspath('..')\n",
    "if path_to_tool_kit not in sys.path:\n",
    "    sys.path.append(path_to_tool_kit)\n",
    "\n",
    "# Import custom toolkit functions (e.g., utility functions or model-related functions)\n",
    "import tool_kit as tk\n",
    "#sys.path.append('/homes/i23damma/Bureau/Cobalt/cobalt/CNN')\n",
    "# Data manipulation and numerical operations\n",
    "import numpy as np  # To install: `pip install numpy`\n",
    "import pandas as pd  # To install: `pip install pandas`\n",
    "\n",
    "# PyTorch library for image transformations\n",
    "import torchvision.transforms as transforms  # To install: `pip install torchvision`\n",
    "\n",
    "# Library for data visualization\n",
    "import matplotlib.pyplot as plt  # To install: `pip install matplotlib`\n",
    "\n",
    "# Importing PyTorch summary for model inspection\n",
    "from torchsummary import summary  # To install: `pip install torchsummary`\n",
    "\n",
    "# Core PyTorch libraries for deep learning\n",
    "import torch  # To install: `pip install torch`\n",
    "import torch.nn as nn\n",
    "import torch.nn.functional as F\n",
    "\n",
    "# Additional utility functions and tools\n",
    "from torch.utils.data.sampler import SubsetRandomSampler\n",
    "from costumize_data import CustomDataset  # Custom dataset handler\n",
    "\n",
    "import seaborn as sns"
   ]
  },
  {
   "cell_type": "markdown",
   "metadata": {},
   "source": [
    "**Loading and Displaying Dataset Information**"
   ]
  },
  {
   "cell_type": "code",
   "execution_count": 343,
   "metadata": {},
   "outputs": [
    {
     "name": "stdout",
     "output_type": "stream",
     "text": [
      " images =\n",
      "                             image_id  nb_cells mask  blur\n",
      "0  SIMCEPImages_A01_C1_F1_s01_w1.TIF         1  yes     1\n",
      "1  SIMCEPImages_A01_C1_F1_s01_w2.TIF         1  yes     1\n",
      "2  SIMCEPImages_A01_C1_F1_s02_w1.TIF         1  yes     1\n",
      "3  SIMCEPImages_A01_C1_F1_s02_w2.TIF         1  yes     1\n",
      "4  SIMCEPImages_A01_C1_F1_s03_w1.TIF         1  yes     1\n",
      " mask =\n",
      "                             image_id  nb_cells\n",
      "0  SIMCEPImages_A01_C1_F1_s01_w1.TIF         1\n",
      "1  SIMCEPImages_A01_C1_F1_s01_w2.TIF         1\n",
      "2  SIMCEPImages_A01_C1_F1_s02_w1.TIF         1\n",
      "3  SIMCEPImages_A01_C1_F1_s02_w2.TIF         1\n",
      "4  SIMCEPImages_A01_C1_F1_s03_w1.TIF         1\n"
     ]
    }
   ],
   "source": [
    "# Setting the path to the dataset using a function from the custom toolkit\n",
    "# This allows the toolkit to locate and access the dataset files.\n",
    "#tk.set_path_to_dataset('/homes/i23damma/Bureau/Cobalt/cobalt/')\n",
    "tk.set_path_to_dataset('..')\n",
    "\n",
    "# Loading the images and mask data using functions from the toolkit\n",
    "images = tk.load_data_image()\n",
    "mask = tk.load_data_mask()\n",
    "# Displaying the first few entries of each DataFrame to understand the data structure\n",
    "print(' images =\\n', images.head())\n",
    "print(' mask =\\n', mask.head())\n",
    "# 'mask' DataFrame:# - Type: pandas DataFrame# - Contains: Each entry has the image ID and the count of cells present in the image.\n",
    "# 'images' DataFrame:# - Type: pandas DataFrame # - Contains: Each entry has the image ID, cell count, mask availability (boolean), and blur status.\n"
   ]
  },
  {
   "cell_type": "markdown",
   "metadata": {},
   "source": [
    "**Selecting and Filtering the Dataset**"
   ]
  },
  {
   "cell_type": "code",
   "execution_count": 344,
   "metadata": {},
   "outputs": [
    {
     "data": {
      "text/html": [
       "<div>\n",
       "<style scoped>\n",
       "    .dataframe tbody tr th:only-of-type {\n",
       "        vertical-align: middle;\n",
       "    }\n",
       "\n",
       "    .dataframe tbody tr th {\n",
       "        vertical-align: top;\n",
       "    }\n",
       "\n",
       "    .dataframe thead th {\n",
       "        text-align: right;\n",
       "    }\n",
       "</style>\n",
       "<table border=\"1\" class=\"dataframe\">\n",
       "  <thead>\n",
       "    <tr style=\"text-align: right;\">\n",
       "      <th></th>\n",
       "      <th>image_id</th>\n",
       "      <th>nb_cells</th>\n",
       "    </tr>\n",
       "  </thead>\n",
       "  <tbody>\n",
       "    <tr>\n",
       "      <th>0</th>\n",
       "      <td>SIMCEPImages_A01_C1_F1_s01_w1.TIF</td>\n",
       "      <td>1</td>\n",
       "    </tr>\n",
       "    <tr>\n",
       "      <th>1</th>\n",
       "      <td>SIMCEPImages_A01_C1_F1_s01_w2.TIF</td>\n",
       "      <td>1</td>\n",
       "    </tr>\n",
       "    <tr>\n",
       "      <th>2</th>\n",
       "      <td>SIMCEPImages_A01_C1_F1_s02_w1.TIF</td>\n",
       "      <td>1</td>\n",
       "    </tr>\n",
       "    <tr>\n",
       "      <th>3</th>\n",
       "      <td>SIMCEPImages_A01_C1_F1_s02_w2.TIF</td>\n",
       "      <td>1</td>\n",
       "    </tr>\n",
       "    <tr>\n",
       "      <th>4</th>\n",
       "      <td>SIMCEPImages_A01_C1_F1_s03_w1.TIF</td>\n",
       "      <td>1</td>\n",
       "    </tr>\n",
       "    <tr>\n",
       "      <th>...</th>\n",
       "      <td>...</td>\n",
       "      <td>...</td>\n",
       "    </tr>\n",
       "    <tr>\n",
       "      <th>1195</th>\n",
       "      <td>SIMCEPImages_A24_C100_F1_s23_w2.TIF</td>\n",
       "      <td>100</td>\n",
       "    </tr>\n",
       "    <tr>\n",
       "      <th>1196</th>\n",
       "      <td>SIMCEPImages_A24_C100_F1_s24_w1.TIF</td>\n",
       "      <td>100</td>\n",
       "    </tr>\n",
       "    <tr>\n",
       "      <th>1197</th>\n",
       "      <td>SIMCEPImages_A24_C100_F1_s24_w2.TIF</td>\n",
       "      <td>100</td>\n",
       "    </tr>\n",
       "    <tr>\n",
       "      <th>1198</th>\n",
       "      <td>SIMCEPImages_A24_C100_F1_s25_w1.TIF</td>\n",
       "      <td>100</td>\n",
       "    </tr>\n",
       "    <tr>\n",
       "      <th>1199</th>\n",
       "      <td>SIMCEPImages_A24_C100_F1_s25_w2.TIF</td>\n",
       "      <td>100</td>\n",
       "    </tr>\n",
       "  </tbody>\n",
       "</table>\n",
       "<p>1200 rows × 2 columns</p>\n",
       "</div>"
      ],
      "text/plain": [
       "                                 image_id  nb_cells\n",
       "0       SIMCEPImages_A01_C1_F1_s01_w1.TIF         1\n",
       "1       SIMCEPImages_A01_C1_F1_s01_w2.TIF         1\n",
       "2       SIMCEPImages_A01_C1_F1_s02_w1.TIF         1\n",
       "3       SIMCEPImages_A01_C1_F1_s02_w2.TIF         1\n",
       "4       SIMCEPImages_A01_C1_F1_s03_w1.TIF         1\n",
       "...                                   ...       ...\n",
       "1195  SIMCEPImages_A24_C100_F1_s23_w2.TIF       100\n",
       "1196  SIMCEPImages_A24_C100_F1_s24_w1.TIF       100\n",
       "1197  SIMCEPImages_A24_C100_F1_s24_w2.TIF       100\n",
       "1198  SIMCEPImages_A24_C100_F1_s25_w1.TIF       100\n",
       "1199  SIMCEPImages_A24_C100_F1_s25_w2.TIF       100\n",
       "\n",
       "[1200 rows x 2 columns]"
      ]
     },
     "execution_count": 344,
     "metadata": {},
     "output_type": "execute_result"
    }
   ],
   "source": [
    "mask_or_image = 'mask'  # Variable to determine which dataset to use\n",
    "\n",
    "if mask_or_image == 'mask':\n",
    "    df = mask  # If 'mask' is selected, assign the mask DataFrame to df\n",
    "    # Filter the rows in the DataFrame where 'image_id' contains 'w1' (case insensitive)\n",
    "    #df = df[df['image_id'].str.contains(\"w1\", case=False, na=False)]\n",
    "else:\n",
    "    df = images.copy()  # If 'image' is selected, create a copy of the images DataFrame\n",
    "    # Remove the 'blur' and 'mask' columns from the DataFrame\n",
    "    #df.drop(columns=['blur', 'mask'], inplace=True) \n",
    "    # Uncomment the following line to filter images by 'w1' if needed\n",
    "    # df = df[df['image_id'].str.contains(\"w1\", case=False, na=False)]\n",
    "\n",
    "\n",
    "\n",
    "df  # Display the resulting DataFrame\n"
   ]
  },
  {
   "cell_type": "markdown",
   "metadata": {},
   "source": [
    "**Data Normalization**"
   ]
  },
  {
   "cell_type": "code",
   "execution_count": 345,
   "metadata": {},
   "outputs": [],
   "source": [
    "nb_classe=100\n",
    "mean_label= 0 #df['nb_cells'].mean()\n",
    "std_label = 1#df['nb_cells'].std()\n",
    "# Centralisation et normalisation de la colonne 'label'\n",
    "df['nb_cells'] = (df['nb_cells'] - mean_label) / std_label"
   ]
  },
  {
   "cell_type": "code",
   "execution_count": 346,
   "metadata": {},
   "outputs": [
    {
     "data": {
      "text/plain": [
       "Text(0, 0.5, 'Frequency')"
      ]
     },
     "execution_count": 346,
     "metadata": {},
     "output_type": "execute_result"
    },
    {
     "data": {
      "image/png": "[encoded data removed]",
      "text/plain": [
       "<Figure size 640x480 with 1 Axes>"
      ]
     },
     "metadata": {},
     "output_type": "display_data"
    }
   ],
   "source": [
    "\n",
    "\n",
    "sns.histplot(df['nb_cells'], bins=30, kde=True)  # Plot a histogram with a kernel density estimate (KDE)\n",
    "plt.title(f'distribution on number of cells after normalisation ( mean={mean_label} and std = {std_label})')  # Set the title of the plot\n",
    "plt.xlabel('x')  # Label the x-axis\n",
    "plt.ylabel('Frequency')  # Label the y-axis"
   ]
  },
  {
   "cell_type": "markdown",
   "metadata": {},
   "source": [
    "**Splitting the Dataset into Training and Testing Sets**"
   ]
  },
  {
   "cell_type": "code",
   "execution_count": 347,
   "metadata": {},
   "outputs": [
    {
     "name": "stdout",
     "output_type": "stream",
     "text": [
      "len(df) = 1200\n",
      "len(df_train) = 840\n",
      "len(df_test) = 360\n",
      "df_train =\n",
      "                                  image_id  nb_cells\n",
      "1000   SIMCEPImages_A21_C87_F1_s01_w1.TIF      87.0\n",
      "1165  SIMCEPImages_A24_C100_F1_s08_w2.TIF     100.0\n",
      "41      SIMCEPImages_A01_C1_F1_s21_w2.TIF       1.0\n",
      "866    SIMCEPImages_A18_C74_F1_s09_w1.TIF      74.0\n",
      "143    SIMCEPImages_A03_C10_F1_s22_w2.TIF      10.0\n",
      "df_test =\n",
      "                                  image_id  nb_cells\n",
      "1178  SIMCEPImages_A24_C100_F1_s15_w1.TIF     100.0\n",
      "865    SIMCEPImages_A18_C74_F1_s08_w2.TIF      74.0\n",
      "101    SIMCEPImages_A03_C10_F1_s01_w2.TIF      10.0\n",
      "439    SIMCEPImages_A09_C35_F1_s20_w2.TIF      35.0\n",
      "58      SIMCEPImages_A02_C5_F1_s05_w1.TIF       5.0\n"
     ]
    }
   ],
   "source": [
    "# Set the fraction of data to be used for testing\n",
    "frac = 0.3  # 20% of the data will be used for the test set\n",
    "# Sample a subset of the DataFrame for testing without replacement\n",
    "df_test = df.sample(frac=frac, replace=False, random_state=42)\n",
    "# Create the training set by dropping the test set entries from the original DataFrame. Then shuffle the remaining data to create the training set\n",
    "df_train = df.drop(df_test.index).sample(frac=1, random_state=42)\n",
    "\n",
    "print('len(df) =', len(df))  # Total number of samples in the original DataFrame\n",
    "print('len(df_train) =', len(df_train))  # Number of samples in the training set\n",
    "print('len(df_test) =', len(df_test))  # Number of samples in the test set\n",
    "\n",
    "print('df_train =\\n', df_train.head())  # Show the first few rows of the training DataFrame\n",
    "print('df_test =\\n', df_test.head())  # Show the first few rows of the testing DataFrame\n"
   ]
  },
  {
   "cell_type": "markdown",
   "metadata": {},
   "source": [
    "**Displaying Dataset Dimensions**"
   ]
  },
  {
   "cell_type": "code",
   "execution_count": 348,
   "metadata": {},
   "outputs": [
    {
     "name": "stdout",
     "output_type": "stream",
     "text": [
      "DataFrame shape: (1200, 2)\n",
      "Number of training samples: 840\n"
     ]
    }
   ],
   "source": [
    "# Print the shape of the DataFrame\n",
    "print(f\"DataFrame shape: {df.shape}\")\n",
    "# Print the length of the training DataFrame\n",
    "print(f\"Number of training samples: {len(df_train)}\")"
   ]
  },
  {
   "cell_type": "markdown",
   "metadata": {},
   "source": [
    "**Displaying Sample Images with Cell Count Annotations**"
   ]
  },
  {
   "cell_type": "markdown",
   "metadata": {},
   "source": []
  },
  {
   "cell_type": "code",
   "execution_count": 349,
   "metadata": {},
   "outputs": [
    {
     "ename": "KeyboardInterrupt",
     "evalue": "",
     "output_type": "error",
     "traceback": [
      "\u001b[1;31m---------------------------------------------------------------------------\u001b[0m",
      "\u001b[1;31mKeyboardInterrupt\u001b[0m                         Traceback (most recent call last)",
      "Cell \u001b[1;32mIn[349], line 28\u001b[0m\n\u001b[0;32m     26\u001b[0m     ax\u001b[38;5;241m.\u001b[39mset_title(\u001b[38;5;124mf\u001b[39m\u001b[38;5;124m'\u001b[39m\u001b[38;5;124mimage \u001b[39m\u001b[38;5;132;01m{\u001b[39;00mindices[i]\u001b[38;5;132;01m}\u001b[39;00m\u001b[38;5;124m from the folder \u001b[39m\u001b[38;5;132;01m{\u001b[39;00mmask_or_image\u001b[38;5;132;01m}\u001b[39;00m\u001b[38;5;124m containing \u001b[39m\u001b[38;5;132;01m{\u001b[39;00m\u001b[38;5;28mint\u001b[39m((Matrix[\u001b[38;5;124m\"\u001b[39m\u001b[38;5;124mnb_cells\u001b[39m\u001b[38;5;124m\"\u001b[39m]\u001b[38;5;241m.\u001b[39miloc[indices[i]])\u001b[38;5;241m*\u001b[39mstd_label\u001b[38;5;241m+\u001b[39mmean_label)\u001b[38;5;132;01m}\u001b[39;00m\u001b[38;5;124m cells\u001b[39m\u001b[38;5;124m'\u001b[39m)\n\u001b[0;32m     27\u001b[0m \u001b[38;5;66;03m# Show the figure\u001b[39;00m\n\u001b[1;32m---> 28\u001b[0m \u001b[43mplt\u001b[49m\u001b[38;5;241;43m.\u001b[39;49m\u001b[43mshow\u001b[49m\u001b[43m(\u001b[49m\u001b[43m)\u001b[49m\n",
      "File \u001b[1;32mc:\\Users\\LENOVO\\miniconda3\\Lib\\site-packages\\matplotlib\\pyplot.py:612\u001b[0m, in \u001b[0;36mshow\u001b[1;34m(*args, **kwargs)\u001b[0m\n\u001b[0;32m    568\u001b[0m \u001b[38;5;250m\u001b[39m\u001b[38;5;124;03m\"\"\"\u001b[39;00m\n\u001b[0;32m    569\u001b[0m \u001b[38;5;124;03mDisplay all open figures.\u001b[39;00m\n\u001b[0;32m    570\u001b[0m \n\u001b[1;32m   (...)\u001b[0m\n\u001b[0;32m    609\u001b[0m \u001b[38;5;124;03mexplicitly there.\u001b[39;00m\n\u001b[0;32m    610\u001b[0m \u001b[38;5;124;03m\"\"\"\u001b[39;00m\n\u001b[0;32m    611\u001b[0m _warn_if_gui_out_of_main_thread()\n\u001b[1;32m--> 612\u001b[0m \u001b[38;5;28;01mreturn\u001b[39;00m \u001b[43m_get_backend_mod\u001b[49m\u001b[43m(\u001b[49m\u001b[43m)\u001b[49m\u001b[38;5;241;43m.\u001b[39;49m\u001b[43mshow\u001b[49m\u001b[43m(\u001b[49m\u001b[38;5;241;43m*\u001b[39;49m\u001b[43margs\u001b[49m\u001b[43m,\u001b[49m\u001b[43m \u001b[49m\u001b[38;5;241;43m*\u001b[39;49m\u001b[38;5;241;43m*\u001b[39;49m\u001b[43mkwargs\u001b[49m\u001b[43m)\u001b[49m\n",
      "File \u001b[1;32mc:\\Users\\LENOVO\\miniconda3\\Lib\\site-packages\\matplotlib_inline\\backend_inline.py:90\u001b[0m, in \u001b[0;36mshow\u001b[1;34m(close, block)\u001b[0m\n\u001b[0;32m     88\u001b[0m \u001b[38;5;28;01mtry\u001b[39;00m:\n\u001b[0;32m     89\u001b[0m     \u001b[38;5;28;01mfor\u001b[39;00m figure_manager \u001b[38;5;129;01min\u001b[39;00m Gcf\u001b[38;5;241m.\u001b[39mget_all_fig_managers():\n\u001b[1;32m---> 90\u001b[0m         \u001b[43mdisplay\u001b[49m\u001b[43m(\u001b[49m\n\u001b[0;32m     91\u001b[0m \u001b[43m            \u001b[49m\u001b[43mfigure_manager\u001b[49m\u001b[38;5;241;43m.\u001b[39;49m\u001b[43mcanvas\u001b[49m\u001b[38;5;241;43m.\u001b[39;49m\u001b[43mfigure\u001b[49m\u001b[43m,\u001b[49m\n\u001b[0;32m     92\u001b[0m \u001b[43m            \u001b[49m\u001b[43mmetadata\u001b[49m\u001b[38;5;241;43m=\u001b[39;49m\u001b[43m_fetch_figure_metadata\u001b[49m\u001b[43m(\u001b[49m\u001b[43mfigure_manager\u001b[49m\u001b[38;5;241;43m.\u001b[39;49m\u001b[43mcanvas\u001b[49m\u001b[38;5;241;43m.\u001b[39;49m\u001b[43mfigure\u001b[49m\u001b[43m)\u001b[49m\n\u001b[0;32m     93\u001b[0m \u001b[43m        \u001b[49m\u001b[43m)\u001b[49m\n\u001b[0;32m     94\u001b[0m \u001b[38;5;28;01mfinally\u001b[39;00m:\n\u001b[0;32m     95\u001b[0m     show\u001b[38;5;241m.\u001b[39m_to_draw \u001b[38;5;241m=\u001b[39m []\n",
      "File \u001b[1;32mc:\\Users\\LENOVO\\miniconda3\\Lib\\site-packages\\IPython\\core\\display_functions.py:298\u001b[0m, in \u001b[0;36mdisplay\u001b[1;34m(include, exclude, metadata, transient, display_id, raw, clear, *objs, **kwargs)\u001b[0m\n\u001b[0;32m    296\u001b[0m     publish_display_data(data\u001b[38;5;241m=\u001b[39mobj, metadata\u001b[38;5;241m=\u001b[39mmetadata, \u001b[38;5;241m*\u001b[39m\u001b[38;5;241m*\u001b[39mkwargs)\n\u001b[0;32m    297\u001b[0m \u001b[38;5;28;01melse\u001b[39;00m:\n\u001b[1;32m--> 298\u001b[0m     format_dict, md_dict \u001b[38;5;241m=\u001b[39m \u001b[38;5;28;43mformat\u001b[39;49m\u001b[43m(\u001b[49m\u001b[43mobj\u001b[49m\u001b[43m,\u001b[49m\u001b[43m \u001b[49m\u001b[43minclude\u001b[49m\u001b[38;5;241;43m=\u001b[39;49m\u001b[43minclude\u001b[49m\u001b[43m,\u001b[49m\u001b[43m \u001b[49m\u001b[43mexclude\u001b[49m\u001b[38;5;241;43m=\u001b[39;49m\u001b[43mexclude\u001b[49m\u001b[43m)\u001b[49m\n\u001b[0;32m    299\u001b[0m     \u001b[38;5;28;01mif\u001b[39;00m \u001b[38;5;129;01mnot\u001b[39;00m format_dict:\n\u001b[0;32m    300\u001b[0m         \u001b[38;5;66;03m# nothing to display (e.g. _ipython_display_ took over)\u001b[39;00m\n\u001b[0;32m    301\u001b[0m         \u001b[38;5;28;01mcontinue\u001b[39;00m\n",
      "File \u001b[1;32mc:\\Users\\LENOVO\\miniconda3\\Lib\\site-packages\\IPython\\core\\formatters.py:182\u001b[0m, in \u001b[0;36mDisplayFormatter.format\u001b[1;34m(self, obj, include, exclude)\u001b[0m\n\u001b[0;32m    180\u001b[0m md \u001b[38;5;241m=\u001b[39m \u001b[38;5;28;01mNone\u001b[39;00m\n\u001b[0;32m    181\u001b[0m \u001b[38;5;28;01mtry\u001b[39;00m:\n\u001b[1;32m--> 182\u001b[0m     data \u001b[38;5;241m=\u001b[39m \u001b[43mformatter\u001b[49m\u001b[43m(\u001b[49m\u001b[43mobj\u001b[49m\u001b[43m)\u001b[49m\n\u001b[0;32m    183\u001b[0m \u001b[38;5;28;01mexcept\u001b[39;00m:\n\u001b[0;32m    184\u001b[0m     \u001b[38;5;66;03m# FIXME: log the exception\u001b[39;00m\n\u001b[0;32m    185\u001b[0m     \u001b[38;5;28;01mraise\u001b[39;00m\n",
      "File \u001b[1;32mc:\\Users\\LENOVO\\miniconda3\\Lib\\site-packages\\decorator.py:232\u001b[0m, in \u001b[0;36mdecorate.<locals>.fun\u001b[1;34m(*args, **kw)\u001b[0m\n\u001b[0;32m    230\u001b[0m \u001b[38;5;28;01mif\u001b[39;00m \u001b[38;5;129;01mnot\u001b[39;00m kwsyntax:\n\u001b[0;32m    231\u001b[0m     args, kw \u001b[38;5;241m=\u001b[39m fix(args, kw, sig)\n\u001b[1;32m--> 232\u001b[0m \u001b[38;5;28;01mreturn\u001b[39;00m \u001b[43mcaller\u001b[49m\u001b[43m(\u001b[49m\u001b[43mfunc\u001b[49m\u001b[43m,\u001b[49m\u001b[43m \u001b[49m\u001b[38;5;241;43m*\u001b[39;49m\u001b[43m(\u001b[49m\u001b[43mextras\u001b[49m\u001b[43m \u001b[49m\u001b[38;5;241;43m+\u001b[39;49m\u001b[43m \u001b[49m\u001b[43margs\u001b[49m\u001b[43m)\u001b[49m\u001b[43m,\u001b[49m\u001b[43m \u001b[49m\u001b[38;5;241;43m*\u001b[39;49m\u001b[38;5;241;43m*\u001b[39;49m\u001b[43mkw\u001b[49m\u001b[43m)\u001b[49m\n",
      "File \u001b[1;32mc:\\Users\\LENOVO\\miniconda3\\Lib\\site-packages\\IPython\\core\\formatters.py:226\u001b[0m, in \u001b[0;36mcatch_format_error\u001b[1;34m(method, self, *args, **kwargs)\u001b[0m\n\u001b[0;32m    224\u001b[0m \u001b[38;5;250m\u001b[39m\u001b[38;5;124;03m\"\"\"show traceback on failed format call\"\"\"\u001b[39;00m\n\u001b[0;32m    225\u001b[0m \u001b[38;5;28;01mtry\u001b[39;00m:\n\u001b[1;32m--> 226\u001b[0m     r \u001b[38;5;241m=\u001b[39m \u001b[43mmethod\u001b[49m\u001b[43m(\u001b[49m\u001b[38;5;28;43mself\u001b[39;49m\u001b[43m,\u001b[49m\u001b[43m \u001b[49m\u001b[38;5;241;43m*\u001b[39;49m\u001b[43margs\u001b[49m\u001b[43m,\u001b[49m\u001b[43m \u001b[49m\u001b[38;5;241;43m*\u001b[39;49m\u001b[38;5;241;43m*\u001b[39;49m\u001b[43mkwargs\u001b[49m\u001b[43m)\u001b[49m\n\u001b[0;32m    227\u001b[0m \u001b[38;5;28;01mexcept\u001b[39;00m \u001b[38;5;167;01mNotImplementedError\u001b[39;00m:\n\u001b[0;32m    228\u001b[0m     \u001b[38;5;66;03m# don't warn on NotImplementedErrors\u001b[39;00m\n\u001b[0;32m    229\u001b[0m     \u001b[38;5;28;01mreturn\u001b[39;00m \u001b[38;5;28mself\u001b[39m\u001b[38;5;241m.\u001b[39m_check_return(\u001b[38;5;28;01mNone\u001b[39;00m, args[\u001b[38;5;241m0\u001b[39m])\n",
      "File \u001b[1;32mc:\\Users\\LENOVO\\miniconda3\\Lib\\site-packages\\IPython\\core\\formatters.py:343\u001b[0m, in \u001b[0;36mBaseFormatter.__call__\u001b[1;34m(self, obj)\u001b[0m\n\u001b[0;32m    341\u001b[0m     \u001b[38;5;28;01mpass\u001b[39;00m\n\u001b[0;32m    342\u001b[0m \u001b[38;5;28;01melse\u001b[39;00m:\n\u001b[1;32m--> 343\u001b[0m     \u001b[38;5;28;01mreturn\u001b[39;00m \u001b[43mprinter\u001b[49m\u001b[43m(\u001b[49m\u001b[43mobj\u001b[49m\u001b[43m)\u001b[49m\n\u001b[0;32m    344\u001b[0m \u001b[38;5;66;03m# Finally look for special method names\u001b[39;00m\n\u001b[0;32m    345\u001b[0m method \u001b[38;5;241m=\u001b[39m get_real_method(obj, \u001b[38;5;28mself\u001b[39m\u001b[38;5;241m.\u001b[39mprint_method)\n",
      "File \u001b[1;32mc:\\Users\\LENOVO\\miniconda3\\Lib\\site-packages\\IPython\\core\\pylabtools.py:170\u001b[0m, in \u001b[0;36mprint_figure\u001b[1;34m(fig, fmt, bbox_inches, base64, **kwargs)\u001b[0m\n\u001b[0;32m    167\u001b[0m     \u001b[38;5;28;01mfrom\u001b[39;00m \u001b[38;5;21;01mmatplotlib\u001b[39;00m\u001b[38;5;21;01m.\u001b[39;00m\u001b[38;5;21;01mbackend_bases\u001b[39;00m \u001b[38;5;28;01mimport\u001b[39;00m FigureCanvasBase\n\u001b[0;32m    168\u001b[0m     FigureCanvasBase(fig)\n\u001b[1;32m--> 170\u001b[0m \u001b[43mfig\u001b[49m\u001b[38;5;241;43m.\u001b[39;49m\u001b[43mcanvas\u001b[49m\u001b[38;5;241;43m.\u001b[39;49m\u001b[43mprint_figure\u001b[49m\u001b[43m(\u001b[49m\u001b[43mbytes_io\u001b[49m\u001b[43m,\u001b[49m\u001b[43m \u001b[49m\u001b[38;5;241;43m*\u001b[39;49m\u001b[38;5;241;43m*\u001b[39;49m\u001b[43mkw\u001b[49m\u001b[43m)\u001b[49m\n\u001b[0;32m    171\u001b[0m data \u001b[38;5;241m=\u001b[39m bytes_io\u001b[38;5;241m.\u001b[39mgetvalue()\n\u001b[0;32m    172\u001b[0m \u001b[38;5;28;01mif\u001b[39;00m fmt \u001b[38;5;241m==\u001b[39m \u001b[38;5;124m'\u001b[39m\u001b[38;5;124msvg\u001b[39m\u001b[38;5;124m'\u001b[39m:\n",
      "File \u001b[1;32mc:\\Users\\LENOVO\\miniconda3\\Lib\\site-packages\\matplotlib\\backend_bases.py:2204\u001b[0m, in \u001b[0;36mFigureCanvasBase.print_figure\u001b[1;34m(self, filename, dpi, facecolor, edgecolor, orientation, format, bbox_inches, pad_inches, bbox_extra_artists, backend, **kwargs)\u001b[0m\n\u001b[0;32m   2200\u001b[0m \u001b[38;5;28;01mtry\u001b[39;00m:\n\u001b[0;32m   2201\u001b[0m     \u001b[38;5;66;03m# _get_renderer may change the figure dpi (as vector formats\u001b[39;00m\n\u001b[0;32m   2202\u001b[0m     \u001b[38;5;66;03m# force the figure dpi to 72), so we need to set it again here.\u001b[39;00m\n\u001b[0;32m   2203\u001b[0m     \u001b[38;5;28;01mwith\u001b[39;00m cbook\u001b[38;5;241m.\u001b[39m_setattr_cm(\u001b[38;5;28mself\u001b[39m\u001b[38;5;241m.\u001b[39mfigure, dpi\u001b[38;5;241m=\u001b[39mdpi):\n\u001b[1;32m-> 2204\u001b[0m         result \u001b[38;5;241m=\u001b[39m \u001b[43mprint_method\u001b[49m\u001b[43m(\u001b[49m\n\u001b[0;32m   2205\u001b[0m \u001b[43m            \u001b[49m\u001b[43mfilename\u001b[49m\u001b[43m,\u001b[49m\n\u001b[0;32m   2206\u001b[0m \u001b[43m            \u001b[49m\u001b[43mfacecolor\u001b[49m\u001b[38;5;241;43m=\u001b[39;49m\u001b[43mfacecolor\u001b[49m\u001b[43m,\u001b[49m\n\u001b[0;32m   2207\u001b[0m \u001b[43m            \u001b[49m\u001b[43medgecolor\u001b[49m\u001b[38;5;241;43m=\u001b[39;49m\u001b[43medgecolor\u001b[49m\u001b[43m,\u001b[49m\n\u001b[0;32m   2208\u001b[0m \u001b[43m            \u001b[49m\u001b[43morientation\u001b[49m\u001b[38;5;241;43m=\u001b[39;49m\u001b[43morientation\u001b[49m\u001b[43m,\u001b[49m\n\u001b[0;32m   2209\u001b[0m \u001b[43m            \u001b[49m\u001b[43mbbox_inches_restore\u001b[49m\u001b[38;5;241;43m=\u001b[39;49m\u001b[43m_bbox_inches_restore\u001b[49m\u001b[43m,\u001b[49m\n\u001b[0;32m   2210\u001b[0m \u001b[43m            \u001b[49m\u001b[38;5;241;43m*\u001b[39;49m\u001b[38;5;241;43m*\u001b[39;49m\u001b[43mkwargs\u001b[49m\u001b[43m)\u001b[49m\n\u001b[0;32m   2211\u001b[0m \u001b[38;5;28;01mfinally\u001b[39;00m:\n\u001b[0;32m   2212\u001b[0m     \u001b[38;5;28;01mif\u001b[39;00m bbox_inches \u001b[38;5;129;01mand\u001b[39;00m restore_bbox:\n",
      "File \u001b[1;32mc:\\Users\\LENOVO\\miniconda3\\Lib\\site-packages\\matplotlib\\backend_bases.py:2054\u001b[0m, in \u001b[0;36mFigureCanvasBase._switch_canvas_and_return_print_method.<locals>.<lambda>\u001b[1;34m(*args, **kwargs)\u001b[0m\n\u001b[0;32m   2050\u001b[0m     optional_kws \u001b[38;5;241m=\u001b[39m {  \u001b[38;5;66;03m# Passed by print_figure for other renderers.\u001b[39;00m\n\u001b[0;32m   2051\u001b[0m         \u001b[38;5;124m\"\u001b[39m\u001b[38;5;124mdpi\u001b[39m\u001b[38;5;124m\"\u001b[39m, \u001b[38;5;124m\"\u001b[39m\u001b[38;5;124mfacecolor\u001b[39m\u001b[38;5;124m\"\u001b[39m, \u001b[38;5;124m\"\u001b[39m\u001b[38;5;124medgecolor\u001b[39m\u001b[38;5;124m\"\u001b[39m, \u001b[38;5;124m\"\u001b[39m\u001b[38;5;124morientation\u001b[39m\u001b[38;5;124m\"\u001b[39m,\n\u001b[0;32m   2052\u001b[0m         \u001b[38;5;124m\"\u001b[39m\u001b[38;5;124mbbox_inches_restore\u001b[39m\u001b[38;5;124m\"\u001b[39m}\n\u001b[0;32m   2053\u001b[0m     skip \u001b[38;5;241m=\u001b[39m optional_kws \u001b[38;5;241m-\u001b[39m {\u001b[38;5;241m*\u001b[39minspect\u001b[38;5;241m.\u001b[39msignature(meth)\u001b[38;5;241m.\u001b[39mparameters}\n\u001b[1;32m-> 2054\u001b[0m     print_method \u001b[38;5;241m=\u001b[39m functools\u001b[38;5;241m.\u001b[39mwraps(meth)(\u001b[38;5;28;01mlambda\u001b[39;00m \u001b[38;5;241m*\u001b[39margs, \u001b[38;5;241m*\u001b[39m\u001b[38;5;241m*\u001b[39mkwargs: \u001b[43mmeth\u001b[49m\u001b[43m(\u001b[49m\n\u001b[0;32m   2055\u001b[0m \u001b[43m        \u001b[49m\u001b[38;5;241;43m*\u001b[39;49m\u001b[43margs\u001b[49m\u001b[43m,\u001b[49m\u001b[43m \u001b[49m\u001b[38;5;241;43m*\u001b[39;49m\u001b[38;5;241;43m*\u001b[39;49m\u001b[43m{\u001b[49m\u001b[43mk\u001b[49m\u001b[43m:\u001b[49m\u001b[43m \u001b[49m\u001b[43mv\u001b[49m\u001b[43m \u001b[49m\u001b[38;5;28;43;01mfor\u001b[39;49;00m\u001b[43m \u001b[49m\u001b[43mk\u001b[49m\u001b[43m,\u001b[49m\u001b[43m \u001b[49m\u001b[43mv\u001b[49m\u001b[43m \u001b[49m\u001b[38;5;129;43;01min\u001b[39;49;00m\u001b[43m \u001b[49m\u001b[43mkwargs\u001b[49m\u001b[38;5;241;43m.\u001b[39;49m\u001b[43mitems\u001b[49m\u001b[43m(\u001b[49m\u001b[43m)\u001b[49m\u001b[43m \u001b[49m\u001b[38;5;28;43;01mif\u001b[39;49;00m\u001b[43m \u001b[49m\u001b[43mk\u001b[49m\u001b[43m \u001b[49m\u001b[38;5;129;43;01mnot\u001b[39;49;00m\u001b[43m \u001b[49m\u001b[38;5;129;43;01min\u001b[39;49;00m\u001b[43m \u001b[49m\u001b[43mskip\u001b[49m\u001b[43m}\u001b[49m\u001b[43m)\u001b[49m)\n\u001b[0;32m   2056\u001b[0m \u001b[38;5;28;01melse\u001b[39;00m:  \u001b[38;5;66;03m# Let third-parties do as they see fit.\u001b[39;00m\n\u001b[0;32m   2057\u001b[0m     print_method \u001b[38;5;241m=\u001b[39m meth\n",
      "File \u001b[1;32mc:\\Users\\LENOVO\\miniconda3\\Lib\\site-packages\\matplotlib\\backends\\backend_agg.py:496\u001b[0m, in \u001b[0;36mFigureCanvasAgg.print_png\u001b[1;34m(self, filename_or_obj, metadata, pil_kwargs)\u001b[0m\n\u001b[0;32m    449\u001b[0m \u001b[38;5;28;01mdef\u001b[39;00m \u001b[38;5;21mprint_png\u001b[39m(\u001b[38;5;28mself\u001b[39m, filename_or_obj, \u001b[38;5;241m*\u001b[39m, metadata\u001b[38;5;241m=\u001b[39m\u001b[38;5;28;01mNone\u001b[39;00m, pil_kwargs\u001b[38;5;241m=\u001b[39m\u001b[38;5;28;01mNone\u001b[39;00m):\n\u001b[0;32m    450\u001b[0m \u001b[38;5;250m    \u001b[39m\u001b[38;5;124;03m\"\"\"\u001b[39;00m\n\u001b[0;32m    451\u001b[0m \u001b[38;5;124;03m    Write the figure to a PNG file.\u001b[39;00m\n\u001b[0;32m    452\u001b[0m \n\u001b[1;32m   (...)\u001b[0m\n\u001b[0;32m    494\u001b[0m \u001b[38;5;124;03m        *metadata*, including the default 'Software' key.\u001b[39;00m\n\u001b[0;32m    495\u001b[0m \u001b[38;5;124;03m    \"\"\"\u001b[39;00m\n\u001b[1;32m--> 496\u001b[0m     \u001b[38;5;28;43mself\u001b[39;49m\u001b[38;5;241;43m.\u001b[39;49m\u001b[43m_print_pil\u001b[49m\u001b[43m(\u001b[49m\u001b[43mfilename_or_obj\u001b[49m\u001b[43m,\u001b[49m\u001b[43m \u001b[49m\u001b[38;5;124;43m\"\u001b[39;49m\u001b[38;5;124;43mpng\u001b[39;49m\u001b[38;5;124;43m\"\u001b[39;49m\u001b[43m,\u001b[49m\u001b[43m \u001b[49m\u001b[43mpil_kwargs\u001b[49m\u001b[43m,\u001b[49m\u001b[43m \u001b[49m\u001b[43mmetadata\u001b[49m\u001b[43m)\u001b[49m\n",
      "File \u001b[1;32mc:\\Users\\LENOVO\\miniconda3\\Lib\\site-packages\\matplotlib\\backends\\backend_agg.py:444\u001b[0m, in \u001b[0;36mFigureCanvasAgg._print_pil\u001b[1;34m(self, filename_or_obj, fmt, pil_kwargs, metadata)\u001b[0m\n\u001b[0;32m    439\u001b[0m \u001b[38;5;28;01mdef\u001b[39;00m \u001b[38;5;21m_print_pil\u001b[39m(\u001b[38;5;28mself\u001b[39m, filename_or_obj, fmt, pil_kwargs, metadata\u001b[38;5;241m=\u001b[39m\u001b[38;5;28;01mNone\u001b[39;00m):\n\u001b[0;32m    440\u001b[0m \u001b[38;5;250m    \u001b[39m\u001b[38;5;124;03m\"\"\"\u001b[39;00m\n\u001b[0;32m    441\u001b[0m \u001b[38;5;124;03m    Draw the canvas, then save it using `.image.imsave` (to which\u001b[39;00m\n\u001b[0;32m    442\u001b[0m \u001b[38;5;124;03m    *pil_kwargs* and *metadata* are forwarded).\u001b[39;00m\n\u001b[0;32m    443\u001b[0m \u001b[38;5;124;03m    \"\"\"\u001b[39;00m\n\u001b[1;32m--> 444\u001b[0m     \u001b[43mFigureCanvasAgg\u001b[49m\u001b[38;5;241;43m.\u001b[39;49m\u001b[43mdraw\u001b[49m\u001b[43m(\u001b[49m\u001b[38;5;28;43mself\u001b[39;49m\u001b[43m)\u001b[49m\n\u001b[0;32m    445\u001b[0m     mpl\u001b[38;5;241m.\u001b[39mimage\u001b[38;5;241m.\u001b[39mimsave(\n\u001b[0;32m    446\u001b[0m         filename_or_obj, \u001b[38;5;28mself\u001b[39m\u001b[38;5;241m.\u001b[39mbuffer_rgba(), \u001b[38;5;28mformat\u001b[39m\u001b[38;5;241m=\u001b[39mfmt, origin\u001b[38;5;241m=\u001b[39m\u001b[38;5;124m\"\u001b[39m\u001b[38;5;124mupper\u001b[39m\u001b[38;5;124m\"\u001b[39m,\n\u001b[0;32m    447\u001b[0m         dpi\u001b[38;5;241m=\u001b[39m\u001b[38;5;28mself\u001b[39m\u001b[38;5;241m.\u001b[39mfigure\u001b[38;5;241m.\u001b[39mdpi, metadata\u001b[38;5;241m=\u001b[39mmetadata, pil_kwargs\u001b[38;5;241m=\u001b[39mpil_kwargs)\n",
      "File \u001b[1;32mc:\\Users\\LENOVO\\miniconda3\\Lib\\site-packages\\matplotlib\\backends\\backend_agg.py:387\u001b[0m, in \u001b[0;36mFigureCanvasAgg.draw\u001b[1;34m(self)\u001b[0m\n\u001b[0;32m    384\u001b[0m \u001b[38;5;66;03m# Acquire a lock on the shared font cache.\u001b[39;00m\n\u001b[0;32m    385\u001b[0m \u001b[38;5;28;01mwith\u001b[39;00m (\u001b[38;5;28mself\u001b[39m\u001b[38;5;241m.\u001b[39mtoolbar\u001b[38;5;241m.\u001b[39m_wait_cursor_for_draw_cm() \u001b[38;5;28;01mif\u001b[39;00m \u001b[38;5;28mself\u001b[39m\u001b[38;5;241m.\u001b[39mtoolbar\n\u001b[0;32m    386\u001b[0m       \u001b[38;5;28;01melse\u001b[39;00m nullcontext()):\n\u001b[1;32m--> 387\u001b[0m     \u001b[38;5;28;43mself\u001b[39;49m\u001b[38;5;241;43m.\u001b[39;49m\u001b[43mfigure\u001b[49m\u001b[38;5;241;43m.\u001b[39;49m\u001b[43mdraw\u001b[49m\u001b[43m(\u001b[49m\u001b[38;5;28;43mself\u001b[39;49m\u001b[38;5;241;43m.\u001b[39;49m\u001b[43mrenderer\u001b[49m\u001b[43m)\u001b[49m\n\u001b[0;32m    388\u001b[0m     \u001b[38;5;66;03m# A GUI class may be need to update a window using this draw, so\u001b[39;00m\n\u001b[0;32m    389\u001b[0m     \u001b[38;5;66;03m# don't forget to call the superclass.\u001b[39;00m\n\u001b[0;32m    390\u001b[0m     \u001b[38;5;28msuper\u001b[39m()\u001b[38;5;241m.\u001b[39mdraw()\n",
      "File \u001b[1;32mc:\\Users\\LENOVO\\miniconda3\\Lib\\site-packages\\matplotlib\\artist.py:95\u001b[0m, in \u001b[0;36m_finalize_rasterization.<locals>.draw_wrapper\u001b[1;34m(artist, renderer, *args, **kwargs)\u001b[0m\n\u001b[0;32m     93\u001b[0m \u001b[38;5;129m@wraps\u001b[39m(draw)\n\u001b[0;32m     94\u001b[0m \u001b[38;5;28;01mdef\u001b[39;00m \u001b[38;5;21mdraw_wrapper\u001b[39m(artist, renderer, \u001b[38;5;241m*\u001b[39margs, \u001b[38;5;241m*\u001b[39m\u001b[38;5;241m*\u001b[39mkwargs):\n\u001b[1;32m---> 95\u001b[0m     result \u001b[38;5;241m=\u001b[39m \u001b[43mdraw\u001b[49m\u001b[43m(\u001b[49m\u001b[43martist\u001b[49m\u001b[43m,\u001b[49m\u001b[43m \u001b[49m\u001b[43mrenderer\u001b[49m\u001b[43m,\u001b[49m\u001b[43m \u001b[49m\u001b[38;5;241;43m*\u001b[39;49m\u001b[43margs\u001b[49m\u001b[43m,\u001b[49m\u001b[43m \u001b[49m\u001b[38;5;241;43m*\u001b[39;49m\u001b[38;5;241;43m*\u001b[39;49m\u001b[43mkwargs\u001b[49m\u001b[43m)\u001b[49m\n\u001b[0;32m     96\u001b[0m     \u001b[38;5;28;01mif\u001b[39;00m renderer\u001b[38;5;241m.\u001b[39m_rasterizing:\n\u001b[0;32m     97\u001b[0m         renderer\u001b[38;5;241m.\u001b[39mstop_rasterizing()\n",
      "File \u001b[1;32mc:\\Users\\LENOVO\\miniconda3\\Lib\\site-packages\\matplotlib\\artist.py:72\u001b[0m, in \u001b[0;36mallow_rasterization.<locals>.draw_wrapper\u001b[1;34m(artist, renderer)\u001b[0m\n\u001b[0;32m     69\u001b[0m     \u001b[38;5;28;01mif\u001b[39;00m artist\u001b[38;5;241m.\u001b[39mget_agg_filter() \u001b[38;5;129;01mis\u001b[39;00m \u001b[38;5;129;01mnot\u001b[39;00m \u001b[38;5;28;01mNone\u001b[39;00m:\n\u001b[0;32m     70\u001b[0m         renderer\u001b[38;5;241m.\u001b[39mstart_filter()\n\u001b[1;32m---> 72\u001b[0m     \u001b[38;5;28;01mreturn\u001b[39;00m \u001b[43mdraw\u001b[49m\u001b[43m(\u001b[49m\u001b[43martist\u001b[49m\u001b[43m,\u001b[49m\u001b[43m \u001b[49m\u001b[43mrenderer\u001b[49m\u001b[43m)\u001b[49m\n\u001b[0;32m     73\u001b[0m \u001b[38;5;28;01mfinally\u001b[39;00m:\n\u001b[0;32m     74\u001b[0m     \u001b[38;5;28;01mif\u001b[39;00m artist\u001b[38;5;241m.\u001b[39mget_agg_filter() \u001b[38;5;129;01mis\u001b[39;00m \u001b[38;5;129;01mnot\u001b[39;00m \u001b[38;5;28;01mNone\u001b[39;00m:\n",
      "File \u001b[1;32mc:\\Users\\LENOVO\\miniconda3\\Lib\\site-packages\\matplotlib\\figure.py:3162\u001b[0m, in \u001b[0;36mFigure.draw\u001b[1;34m(self, renderer)\u001b[0m\n\u001b[0;32m   3159\u001b[0m             \u001b[38;5;66;03m# ValueError can occur when resizing a window.\u001b[39;00m\n\u001b[0;32m   3161\u001b[0m     \u001b[38;5;28mself\u001b[39m\u001b[38;5;241m.\u001b[39mpatch\u001b[38;5;241m.\u001b[39mdraw(renderer)\n\u001b[1;32m-> 3162\u001b[0m     \u001b[43mmimage\u001b[49m\u001b[38;5;241;43m.\u001b[39;49m\u001b[43m_draw_list_compositing_images\u001b[49m\u001b[43m(\u001b[49m\n\u001b[0;32m   3163\u001b[0m \u001b[43m        \u001b[49m\u001b[43mrenderer\u001b[49m\u001b[43m,\u001b[49m\u001b[43m \u001b[49m\u001b[38;5;28;43mself\u001b[39;49m\u001b[43m,\u001b[49m\u001b[43m \u001b[49m\u001b[43martists\u001b[49m\u001b[43m,\u001b[49m\u001b[43m \u001b[49m\u001b[38;5;28;43mself\u001b[39;49m\u001b[38;5;241;43m.\u001b[39;49m\u001b[43msuppressComposite\u001b[49m\u001b[43m)\u001b[49m\n\u001b[0;32m   3165\u001b[0m     renderer\u001b[38;5;241m.\u001b[39mclose_group(\u001b[38;5;124m'\u001b[39m\u001b[38;5;124mfigure\u001b[39m\u001b[38;5;124m'\u001b[39m)\n\u001b[0;32m   3166\u001b[0m \u001b[38;5;28;01mfinally\u001b[39;00m:\n",
      "File \u001b[1;32mc:\\Users\\LENOVO\\miniconda3\\Lib\\site-packages\\matplotlib\\image.py:132\u001b[0m, in \u001b[0;36m_draw_list_compositing_images\u001b[1;34m(renderer, parent, artists, suppress_composite)\u001b[0m\n\u001b[0;32m    130\u001b[0m \u001b[38;5;28;01mif\u001b[39;00m not_composite \u001b[38;5;129;01mor\u001b[39;00m \u001b[38;5;129;01mnot\u001b[39;00m has_images:\n\u001b[0;32m    131\u001b[0m     \u001b[38;5;28;01mfor\u001b[39;00m a \u001b[38;5;129;01min\u001b[39;00m artists:\n\u001b[1;32m--> 132\u001b[0m         \u001b[43ma\u001b[49m\u001b[38;5;241;43m.\u001b[39;49m\u001b[43mdraw\u001b[49m\u001b[43m(\u001b[49m\u001b[43mrenderer\u001b[49m\u001b[43m)\u001b[49m\n\u001b[0;32m    133\u001b[0m \u001b[38;5;28;01melse\u001b[39;00m:\n\u001b[0;32m    134\u001b[0m     \u001b[38;5;66;03m# Composite any adjacent images together\u001b[39;00m\n\u001b[0;32m    135\u001b[0m     image_group \u001b[38;5;241m=\u001b[39m []\n",
      "File \u001b[1;32mc:\\Users\\LENOVO\\miniconda3\\Lib\\site-packages\\matplotlib\\artist.py:72\u001b[0m, in \u001b[0;36mallow_rasterization.<locals>.draw_wrapper\u001b[1;34m(artist, renderer)\u001b[0m\n\u001b[0;32m     69\u001b[0m     \u001b[38;5;28;01mif\u001b[39;00m artist\u001b[38;5;241m.\u001b[39mget_agg_filter() \u001b[38;5;129;01mis\u001b[39;00m \u001b[38;5;129;01mnot\u001b[39;00m \u001b[38;5;28;01mNone\u001b[39;00m:\n\u001b[0;32m     70\u001b[0m         renderer\u001b[38;5;241m.\u001b[39mstart_filter()\n\u001b[1;32m---> 72\u001b[0m     \u001b[38;5;28;01mreturn\u001b[39;00m \u001b[43mdraw\u001b[49m\u001b[43m(\u001b[49m\u001b[43martist\u001b[49m\u001b[43m,\u001b[49m\u001b[43m \u001b[49m\u001b[43mrenderer\u001b[49m\u001b[43m)\u001b[49m\n\u001b[0;32m     73\u001b[0m \u001b[38;5;28;01mfinally\u001b[39;00m:\n\u001b[0;32m     74\u001b[0m     \u001b[38;5;28;01mif\u001b[39;00m artist\u001b[38;5;241m.\u001b[39mget_agg_filter() \u001b[38;5;129;01mis\u001b[39;00m \u001b[38;5;129;01mnot\u001b[39;00m \u001b[38;5;28;01mNone\u001b[39;00m:\n",
      "File \u001b[1;32mc:\\Users\\LENOVO\\miniconda3\\Lib\\site-packages\\matplotlib\\axes\\_base.py:3137\u001b[0m, in \u001b[0;36m_AxesBase.draw\u001b[1;34m(self, renderer)\u001b[0m\n\u001b[0;32m   3134\u001b[0m \u001b[38;5;28;01mif\u001b[39;00m artists_rasterized:\n\u001b[0;32m   3135\u001b[0m     _draw_rasterized(\u001b[38;5;28mself\u001b[39m\u001b[38;5;241m.\u001b[39mfigure, artists_rasterized, renderer)\n\u001b[1;32m-> 3137\u001b[0m \u001b[43mmimage\u001b[49m\u001b[38;5;241;43m.\u001b[39;49m\u001b[43m_draw_list_compositing_images\u001b[49m\u001b[43m(\u001b[49m\n\u001b[0;32m   3138\u001b[0m \u001b[43m    \u001b[49m\u001b[43mrenderer\u001b[49m\u001b[43m,\u001b[49m\u001b[43m \u001b[49m\u001b[38;5;28;43mself\u001b[39;49m\u001b[43m,\u001b[49m\u001b[43m \u001b[49m\u001b[43martists\u001b[49m\u001b[43m,\u001b[49m\u001b[43m \u001b[49m\u001b[38;5;28;43mself\u001b[39;49m\u001b[38;5;241;43m.\u001b[39;49m\u001b[43mfigure\u001b[49m\u001b[38;5;241;43m.\u001b[39;49m\u001b[43msuppressComposite\u001b[49m\u001b[43m)\u001b[49m\n\u001b[0;32m   3140\u001b[0m renderer\u001b[38;5;241m.\u001b[39mclose_group(\u001b[38;5;124m'\u001b[39m\u001b[38;5;124maxes\u001b[39m\u001b[38;5;124m'\u001b[39m)\n\u001b[0;32m   3141\u001b[0m \u001b[38;5;28mself\u001b[39m\u001b[38;5;241m.\u001b[39mstale \u001b[38;5;241m=\u001b[39m \u001b[38;5;28;01mFalse\u001b[39;00m\n",
      "File \u001b[1;32mc:\\Users\\LENOVO\\miniconda3\\Lib\\site-packages\\matplotlib\\image.py:132\u001b[0m, in \u001b[0;36m_draw_list_compositing_images\u001b[1;34m(renderer, parent, artists, suppress_composite)\u001b[0m\n\u001b[0;32m    130\u001b[0m \u001b[38;5;28;01mif\u001b[39;00m not_composite \u001b[38;5;129;01mor\u001b[39;00m \u001b[38;5;129;01mnot\u001b[39;00m has_images:\n\u001b[0;32m    131\u001b[0m     \u001b[38;5;28;01mfor\u001b[39;00m a \u001b[38;5;129;01min\u001b[39;00m artists:\n\u001b[1;32m--> 132\u001b[0m         \u001b[43ma\u001b[49m\u001b[38;5;241;43m.\u001b[39;49m\u001b[43mdraw\u001b[49m\u001b[43m(\u001b[49m\u001b[43mrenderer\u001b[49m\u001b[43m)\u001b[49m\n\u001b[0;32m    133\u001b[0m \u001b[38;5;28;01melse\u001b[39;00m:\n\u001b[0;32m    134\u001b[0m     \u001b[38;5;66;03m# Composite any adjacent images together\u001b[39;00m\n\u001b[0;32m    135\u001b[0m     image_group \u001b[38;5;241m=\u001b[39m []\n",
      "File \u001b[1;32mc:\\Users\\LENOVO\\miniconda3\\Lib\\site-packages\\matplotlib\\artist.py:72\u001b[0m, in \u001b[0;36mallow_rasterization.<locals>.draw_wrapper\u001b[1;34m(artist, renderer)\u001b[0m\n\u001b[0;32m     69\u001b[0m     \u001b[38;5;28;01mif\u001b[39;00m artist\u001b[38;5;241m.\u001b[39mget_agg_filter() \u001b[38;5;129;01mis\u001b[39;00m \u001b[38;5;129;01mnot\u001b[39;00m \u001b[38;5;28;01mNone\u001b[39;00m:\n\u001b[0;32m     70\u001b[0m         renderer\u001b[38;5;241m.\u001b[39mstart_filter()\n\u001b[1;32m---> 72\u001b[0m     \u001b[38;5;28;01mreturn\u001b[39;00m \u001b[43mdraw\u001b[49m\u001b[43m(\u001b[49m\u001b[43martist\u001b[49m\u001b[43m,\u001b[49m\u001b[43m \u001b[49m\u001b[43mrenderer\u001b[49m\u001b[43m)\u001b[49m\n\u001b[0;32m     73\u001b[0m \u001b[38;5;28;01mfinally\u001b[39;00m:\n\u001b[0;32m     74\u001b[0m     \u001b[38;5;28;01mif\u001b[39;00m artist\u001b[38;5;241m.\u001b[39mget_agg_filter() \u001b[38;5;129;01mis\u001b[39;00m \u001b[38;5;129;01mnot\u001b[39;00m \u001b[38;5;28;01mNone\u001b[39;00m:\n",
      "File \u001b[1;32mc:\\Users\\LENOVO\\miniconda3\\Lib\\site-packages\\matplotlib\\image.py:653\u001b[0m, in \u001b[0;36m_ImageBase.draw\u001b[1;34m(self, renderer)\u001b[0m\n\u001b[0;32m    651\u001b[0m         renderer\u001b[38;5;241m.\u001b[39mdraw_image(gc, l, b, im, trans)\n\u001b[0;32m    652\u001b[0m \u001b[38;5;28;01melse\u001b[39;00m:\n\u001b[1;32m--> 653\u001b[0m     im, l, b, trans \u001b[38;5;241m=\u001b[39m \u001b[38;5;28;43mself\u001b[39;49m\u001b[38;5;241;43m.\u001b[39;49m\u001b[43mmake_image\u001b[49m\u001b[43m(\u001b[49m\n\u001b[0;32m    654\u001b[0m \u001b[43m        \u001b[49m\u001b[43mrenderer\u001b[49m\u001b[43m,\u001b[49m\u001b[43m \u001b[49m\u001b[43mrenderer\u001b[49m\u001b[38;5;241;43m.\u001b[39;49m\u001b[43mget_image_magnification\u001b[49m\u001b[43m(\u001b[49m\u001b[43m)\u001b[49m\u001b[43m)\u001b[49m\n\u001b[0;32m    655\u001b[0m     \u001b[38;5;28;01mif\u001b[39;00m im \u001b[38;5;129;01mis\u001b[39;00m \u001b[38;5;129;01mnot\u001b[39;00m \u001b[38;5;28;01mNone\u001b[39;00m:\n\u001b[0;32m    656\u001b[0m         renderer\u001b[38;5;241m.\u001b[39mdraw_image(gc, l, b, im)\n",
      "File \u001b[1;32mc:\\Users\\LENOVO\\miniconda3\\Lib\\site-packages\\matplotlib\\image.py:952\u001b[0m, in \u001b[0;36mAxesImage.make_image\u001b[1;34m(self, renderer, magnification, unsampled)\u001b[0m\n\u001b[0;32m    949\u001b[0m transformed_bbox \u001b[38;5;241m=\u001b[39m TransformedBbox(bbox, trans)\n\u001b[0;32m    950\u001b[0m clip \u001b[38;5;241m=\u001b[39m ((\u001b[38;5;28mself\u001b[39m\u001b[38;5;241m.\u001b[39mget_clip_box() \u001b[38;5;129;01mor\u001b[39;00m \u001b[38;5;28mself\u001b[39m\u001b[38;5;241m.\u001b[39maxes\u001b[38;5;241m.\u001b[39mbbox) \u001b[38;5;28;01mif\u001b[39;00m \u001b[38;5;28mself\u001b[39m\u001b[38;5;241m.\u001b[39mget_clip_on()\n\u001b[0;32m    951\u001b[0m         \u001b[38;5;28;01melse\u001b[39;00m \u001b[38;5;28mself\u001b[39m\u001b[38;5;241m.\u001b[39mfigure\u001b[38;5;241m.\u001b[39mbbox)\n\u001b[1;32m--> 952\u001b[0m \u001b[38;5;28;01mreturn\u001b[39;00m \u001b[38;5;28;43mself\u001b[39;49m\u001b[38;5;241;43m.\u001b[39;49m\u001b[43m_make_image\u001b[49m\u001b[43m(\u001b[49m\u001b[38;5;28;43mself\u001b[39;49m\u001b[38;5;241;43m.\u001b[39;49m\u001b[43m_A\u001b[49m\u001b[43m,\u001b[49m\u001b[43m \u001b[49m\u001b[43mbbox\u001b[49m\u001b[43m,\u001b[49m\u001b[43m \u001b[49m\u001b[43mtransformed_bbox\u001b[49m\u001b[43m,\u001b[49m\u001b[43m \u001b[49m\u001b[43mclip\u001b[49m\u001b[43m,\u001b[49m\n\u001b[0;32m    953\u001b[0m \u001b[43m                        \u001b[49m\u001b[43mmagnification\u001b[49m\u001b[43m,\u001b[49m\u001b[43m \u001b[49m\u001b[43munsampled\u001b[49m\u001b[38;5;241;43m=\u001b[39;49m\u001b[43munsampled\u001b[49m\u001b[43m)\u001b[49m\n",
      "File \u001b[1;32mc:\\Users\\LENOVO\\miniconda3\\Lib\\site-packages\\matplotlib\\image.py:573\u001b[0m, in \u001b[0;36m_ImageBase._make_image\u001b[1;34m(self, A, in_bbox, out_bbox, clip_bbox, magnification, unsampled, round_to_pixel_border)\u001b[0m\n\u001b[0;32m    569\u001b[0m     output[\u001b[38;5;241m.\u001b[39m\u001b[38;5;241m.\u001b[39m\u001b[38;5;241m.\u001b[39m, \u001b[38;5;241m3\u001b[39m] \u001b[38;5;241m=\u001b[39m output_alpha  \u001b[38;5;66;03m# recombine rgb and alpha\u001b[39;00m\n\u001b[0;32m    571\u001b[0m \u001b[38;5;66;03m# output is now either a 2D array of normed (int or float) data\u001b[39;00m\n\u001b[0;32m    572\u001b[0m \u001b[38;5;66;03m# or an RGBA array of re-sampled input\u001b[39;00m\n\u001b[1;32m--> 573\u001b[0m output \u001b[38;5;241m=\u001b[39m \u001b[38;5;28;43mself\u001b[39;49m\u001b[38;5;241;43m.\u001b[39;49m\u001b[43mto_rgba\u001b[49m\u001b[43m(\u001b[49m\u001b[43moutput\u001b[49m\u001b[43m,\u001b[49m\u001b[43m \u001b[49m\u001b[38;5;28;43mbytes\u001b[39;49m\u001b[38;5;241;43m=\u001b[39;49m\u001b[38;5;28;43;01mTrue\u001b[39;49;00m\u001b[43m,\u001b[49m\u001b[43m \u001b[49m\u001b[43mnorm\u001b[49m\u001b[38;5;241;43m=\u001b[39;49m\u001b[38;5;28;43;01mFalse\u001b[39;49;00m\u001b[43m)\u001b[49m\n\u001b[0;32m    574\u001b[0m \u001b[38;5;66;03m# output is now a correctly sized RGBA array of uint8\u001b[39;00m\n\u001b[0;32m    575\u001b[0m \n\u001b[0;32m    576\u001b[0m \u001b[38;5;66;03m# Apply alpha *after* if the input was greyscale without a mask\u001b[39;00m\n\u001b[0;32m    577\u001b[0m \u001b[38;5;28;01mif\u001b[39;00m A\u001b[38;5;241m.\u001b[39mndim \u001b[38;5;241m==\u001b[39m \u001b[38;5;241m2\u001b[39m:\n",
      "File \u001b[1;32mc:\\Users\\LENOVO\\miniconda3\\Lib\\site-packages\\matplotlib\\cm.py:431\u001b[0m, in \u001b[0;36mScalarMappable.to_rgba\u001b[1;34m(self, x, alpha, bytes, norm)\u001b[0m\n\u001b[0;32m    429\u001b[0m \u001b[38;5;28;01mif\u001b[39;00m norm:\n\u001b[0;32m    430\u001b[0m     x \u001b[38;5;241m=\u001b[39m \u001b[38;5;28mself\u001b[39m\u001b[38;5;241m.\u001b[39mnorm(x)\n\u001b[1;32m--> 431\u001b[0m rgba \u001b[38;5;241m=\u001b[39m \u001b[38;5;28;43mself\u001b[39;49m\u001b[38;5;241;43m.\u001b[39;49m\u001b[43mcmap\u001b[49m\u001b[43m(\u001b[49m\u001b[43mx\u001b[49m\u001b[43m,\u001b[49m\u001b[43m \u001b[49m\u001b[43malpha\u001b[49m\u001b[38;5;241;43m=\u001b[39;49m\u001b[43malpha\u001b[49m\u001b[43m,\u001b[49m\u001b[43m \u001b[49m\u001b[38;5;28;43mbytes\u001b[39;49m\u001b[38;5;241;43m=\u001b[39;49m\u001b[38;5;28;43mbytes\u001b[39;49m\u001b[43m)\u001b[49m\n\u001b[0;32m    432\u001b[0m \u001b[38;5;28;01mreturn\u001b[39;00m rgba\n",
      "File \u001b[1;32mc:\\Users\\LENOVO\\miniconda3\\Lib\\site-packages\\matplotlib\\colors.py:764\u001b[0m, in \u001b[0;36mColormap.__call__\u001b[1;34m(self, X, alpha, bytes)\u001b[0m\n\u001b[0;32m    761\u001b[0m \u001b[38;5;28;01mif\u001b[39;00m \u001b[38;5;28mbytes\u001b[39m:\n\u001b[0;32m    762\u001b[0m     lut \u001b[38;5;241m=\u001b[39m (lut \u001b[38;5;241m*\u001b[39m \u001b[38;5;241m255\u001b[39m)\u001b[38;5;241m.\u001b[39mastype(np\u001b[38;5;241m.\u001b[39muint8)\n\u001b[1;32m--> 764\u001b[0m rgba \u001b[38;5;241m=\u001b[39m \u001b[43mlut\u001b[49m\u001b[38;5;241;43m.\u001b[39;49m\u001b[43mtake\u001b[49m\u001b[43m(\u001b[49m\u001b[43mxa\u001b[49m\u001b[43m,\u001b[49m\u001b[43m \u001b[49m\u001b[43maxis\u001b[49m\u001b[38;5;241;43m=\u001b[39;49m\u001b[38;5;241;43m0\u001b[39;49m\u001b[43m,\u001b[49m\u001b[43m \u001b[49m\u001b[43mmode\u001b[49m\u001b[38;5;241;43m=\u001b[39;49m\u001b[38;5;124;43m'\u001b[39;49m\u001b[38;5;124;43mclip\u001b[39;49m\u001b[38;5;124;43m'\u001b[39;49m\u001b[43m)\u001b[49m\n\u001b[0;32m    766\u001b[0m \u001b[38;5;28;01mif\u001b[39;00m alpha \u001b[38;5;129;01mis\u001b[39;00m \u001b[38;5;129;01mnot\u001b[39;00m \u001b[38;5;28;01mNone\u001b[39;00m:\n\u001b[0;32m    767\u001b[0m     alpha \u001b[38;5;241m=\u001b[39m np\u001b[38;5;241m.\u001b[39mclip(alpha, \u001b[38;5;241m0\u001b[39m, \u001b[38;5;241m1\u001b[39m)\n",
      "\u001b[1;31mKeyboardInterrupt\u001b[0m: "
     ]
    }
   ],
   "source": [
    "# Set the image height and width\n",
    "IMG_HEIGHT = 128\n",
    "IMG_WIDTH = 128\n",
    "# Assign the training DataFrame to Matrix\n",
    "Matrix = df_train\n",
    "# Number of images to show\n",
    "n_img_to_show = 8\n",
    "# Create a figure with a specified size\n",
    "fig = plt.figure(figsize=(15, 5*n_img_to_show ))\n",
    "# Create a list of indices based on the length of the Matrix\n",
    "indices = list(range(len(Matrix)))\n",
    "# Shuffle the indices randomly\n",
    "np.random.shuffle(indices)\n",
    "# Loop through the number of images to show\n",
    "for i in range(n_img_to_show):\n",
    "    # Add a subplot to the figure\n",
    "    ax = fig.add_subplot( n_img_to_show // 2,2, i + 1, xticks=[], yticks=[])\n",
    "    # Get the image using the tk.get_image function and display it\n",
    "    ax.imshow(np.squeeze(tk.get_image(\n",
    "        img_id=Matrix['image_id'].iloc[indices[i]],\n",
    "        img_height=IMG_HEIGHT,\n",
    "        img_width=IMG_WIDTH,\n",
    "        mask_or_image=mask_or_image\n",
    "    )), cmap='gray')\n",
    "    # Set the title of the subplot\n",
    "    ax.set_title(f'image {indices[i]} from the folder {mask_or_image} containing {int((Matrix[\"nb_cells\"].iloc[indices[i]])*std_label+mean_label)} cells')\n",
    "# Show the figure\n",
    "plt.show()"
   ]
  },
  {
   "cell_type": "markdown",
   "metadata": {},
   "source": [
    "**Data Loader Creation for Training, Validation, and Testing**"
   ]
  },
  {
   "cell_type": "code",
   "execution_count": null,
   "metadata": {},
   "outputs": [],
   "source": [
    "# Define batch size and validation size\n",
    "batch_size = 20  # Number of samples per batch to load  # mettre en puissance de 2 #plus batch size est grand plus learn rate est peut etre elevée \n",
    "valid_size = 0.25  # Percentage of training set to use as validation\n",
    "\n",
    "# Function to create data loaders for training, validation, and testing\n",
    "def create_data_loaders(batch_size, valid_size, train_data, test_data):\n",
    "  # Create a data loader for the test dataset\n",
    "  test_loader = torch.utils.data.DataLoader(test_data, batch_size=batch_size)\n",
    "  # Generate a list of indices for the training data and shuffle them\n",
    "  indices = list(range(len(train_data)))\n",
    "  np.random.shuffle(indices)\n",
    "  # Calculate the split index for validation data\n",
    "  split = int(np.floor(valid_size * len(train_data)))\n",
    "  # Split the indices into training and validation indices\n",
    "  train_indexes, valid_indexes = indices[split:], indices[:split]\n",
    "  # Create samplers for validation and training data\n",
    "  valid_samplers = SubsetRandomSampler(valid_indexes)\n",
    "  train_samplers = SubsetRandomSampler(train_indexes)\n",
    "  # Create data loaders for validation and training data using the samplers\n",
    "  valid_loader = torch.utils.data.DataLoader(train_data, batch_size=batch_size, sampler=valid_samplers)\n",
    "  train_loader = torch.utils.data.DataLoader(train_data, batch_size=batch_size, sampler=train_samplers)\n",
    "  # Return the data loaders\n",
    "  return train_loader, valid_loader, test_loader\n",
    "\n",
    "\n"
   ]
  },
  {
   "cell_type": "markdown",
   "metadata": {},
   "source": [
    "**Image Transformation and DataLoader Setup**"
   ]
  },
  {
   "cell_type": "code",
   "execution_count": null,
   "metadata": {},
   "outputs": [],
   "source": [
    "# Define the transformation to be applied to the images\n",
    "transform = transforms.Compose([\n",
    "    transforms.ToTensor(),  # Convert the image to a tensor\n",
    "    transforms.Resize((IMG_HEIGHT, IMG_WIDTH))  # Resize the image to the desired dimensions\n",
    "])\n",
    "# Create the training dataset using the custom dataset class and the defined transformation\n",
    "train_data = CustomDataset(df_train, transform=transform)\n",
    "train_data.set_path_to_dataset('..')  # Set the path to the dataset for the training data\n",
    "# Create the testing dataset using the custom dataset class and the defined transformation\n",
    "test_data = CustomDataset(df_test, transform=transform)\n",
    "test_data.set_path_to_dataset('..')  # Set the path to the dataset for the testing data\n",
    "# Create data loaders for training, validation, and testing datasets\n",
    "train_loader, valid_loader, test_loader = create_data_loaders(batch_size, valid_size, train_data, test_data)"
   ]
  },
  {
   "cell_type": "code",
   "execution_count": null,
   "metadata": {},
   "outputs": [
    {
     "name": "stdout",
     "output_type": "stream",
     "text": [
      "tensor([[[0.0021, 0.0008, 0.0039,  ..., 0.1301, 0.0080, 0.0068],\n",
      "         [0.0017, 0.0022, 0.0071,  ..., 0.2547, 0.0157, 0.0079],\n",
      "         [0.0028, 0.0068, 0.0121,  ..., 0.3191, 0.0210, 0.0072],\n",
      "         ...,\n",
      "         [0.0021, 0.0052, 0.0036,  ..., 0.0078, 0.0213, 0.0273],\n",
      "         [0.0031, 0.0043, 0.0034,  ..., 0.0050, 0.0036, 0.0082],\n",
      "         [0.0029, 0.0037, 0.0023,  ..., 0.0089, 0.0094, 0.0134]]])\n"
     ]
    },
    {
     "data": {
      "text/plain": [
       "tensor(0.8643)"
      ]
     },
     "execution_count": 217,
     "metadata": {},
     "output_type": "execute_result"
    }
   ],
   "source": [
    "print(train_data.__getitem__(100)[0])\n",
    "torch.max(train_data.__getitem__(100)[0])"
   ]
  },
  {
   "cell_type": "markdown",
   "metadata": {},
   "source": [
    "**Training Function for Neural Network**"
   ]
  },
  {
   "cell_type": "code",
   "execution_count": null,
   "metadata": {},
   "outputs": [],
   "source": [
    "\n",
    "\n",
    "def training(n_epochs, train_loader, valid_loader, model, criterion, optimizer, name):\n",
    "  \"\"\"\n",
    "    Train and validate the model.\n",
    "\n",
    "    Parameters:\n",
    "    n_epochs (int): Number of epochs to train the model.\n",
    "    train_loader (DataLoader): DataLoader for the training data.\n",
    "    valid_loader (DataLoader): DataLoader for the validation data.\n",
    "    model (nn.Module): The neural network model to train.\n",
    "    criterion (nn.Module): The loss function.\n",
    "    optimizer (torch.optim.Optimizer): The optimizer.\n",
    "\n",
    "    Returns:\n",
    "    train_losses (list): List of training losses for each epoch.\n",
    "    valid_losses (list): List of validation losses for each epoch.\n",
    "    \"\"\"\n",
    "  train_losses, valid_losses = [], []\n",
    "  # initialize tracker for minimum validation loss\n",
    "  valid_loss_min = np.inf  # set initial \"min\" to infinity\n",
    "\n",
    "  for epoch in range(n_epochs):\n",
    "      \n",
    "      train_loss, valid_loss = 0, 0 # monitor losses\n",
    "\n",
    "      # train the model\n",
    "      model.train() # prep model for training\n",
    "      for data, label in train_loader:\n",
    "          \n",
    "          data = data.to(device=device, dtype=torch.float32)\n",
    "          label = label.to(device=device, dtype=torch.float32)\n",
    "          \n",
    "          optimizer.zero_grad()\n",
    "          output=model(data)\n",
    "          #print('label=',label,'\\n','output=',output)\n",
    "          output= output.view(-1)\n",
    "          loss=criterion(output,label)\n",
    "          loss.backward()\n",
    "          optimizer.step()\n",
    "          train_loss += loss.item() * data.size(0) # update running training loss\n",
    "      \n",
    "      # validate the model\n",
    "      model.eval()\n",
    "      for data, label in valid_loader:\n",
    "        data = data.to(device=device, dtype=torch.float32)\n",
    "        label = label.to(device=device, dtype=torch.float32)\n",
    "\n",
    "        with torch.no_grad():\n",
    "          output=model( data)\n",
    "          \n",
    "        output= output.view(-1)\n",
    "        loss=criterion(label,output)\n",
    "        valid_loss += loss.item() * data.size(0)\n",
    "    \n",
    "      # calculate average loss over an epoch\n",
    "      train_loss /= len(train_loader.sampler)\n",
    "      valid_loss /= len(valid_loader.sampler)\n",
    "      train_losses.append(train_loss)\n",
    "      valid_losses.append(valid_loss)\n",
    "\n",
    "      print('epoch: {} \\ttraining Loss: {:.6f} \\tvalidation Loss: {:.6f}'.format(epoch+1, train_loss, valid_loss))\n",
    "      \n",
    "      # save model if validation loss has decreased\n",
    "      if valid_loss <= valid_loss_min:\n",
    "          print('validation loss decreased ({:.6f} --> {:.6f}).  Saving model ...'.format(\n",
    "          valid_loss_min,\n",
    "          valid_loss))\n",
    "          torch.save(model.state_dict(), name)\n",
    "          valid_loss_min = valid_loss\n",
    "\n",
    "  return train_losses, valid_losses"
   ]
  },
  {
   "cell_type": "markdown",
   "metadata": {},
   "source": [
    "**Evaluation Function for Neural Network**"
   ]
  },
  {
   "cell_type": "code",
   "execution_count": null,
   "metadata": {},
   "outputs": [],
   "source": [
    "def evaluation(model, test_loader, criterion):\n",
    "\n",
    "  # initialize lists to monitor test loss and accuracy\n",
    "  test_loss = 0.0\n",
    "  class_correct = list(0. for i in range(101))\n",
    "  class_total = list(0. for i in range(101))\n",
    "  #creat a empty dict of 101 elements\n",
    "  dict={}\n",
    "  for i in range(1,101):\n",
    "      dict[i]=[]\n",
    "  model.eval() # prep model for evaluation\n",
    "  for data, label in test_loader:\n",
    "      ratio= nb_classe-1+np.exp(1)\n",
    "      label1 = torch.tensor([ [np.exp(1)/ratio if i+1==label[j] else 0 for i in range(nb_classe) ] for j in range(data.size(0))])\n",
    "      data = data.to(device=device, dtype=torch.float32)\n",
    "      label1 = label1.to(device=device, dtype=torch.float32)\n",
    "      label.to(device=device, dtype=torch.float32)\n",
    "      with torch.no_grad():\n",
    "          output = model(data) # forward pass: compute predicted outputs by passing inputs to the model\n",
    "          output.to(device=device, dtype=torch.float32)\n",
    "      loss = criterion(output, label1)\n",
    "\n",
    "      test_loss += loss.item()*data.size(0)\n",
    "      pred = torch.argmax(output, dim=1)\n",
    "      \n",
    "      correct =[ 1 if (pred[i]-label[i]<2) and (pred[i]-label[i]>-2) else 0 for i in range( data.size(0))]\n",
    "      #correct = np.squeeze(pred.eq(label.data.view_as(pred))) # compare predictions to true label\n",
    "      # calculate test accuracy for each object class\n",
    "      for i in range(len(label)):\n",
    "          number_expected = int(label.data[i]*std_label+mean_label)\n",
    "          \n",
    "          class_correct[number_expected] += correct[i]\n",
    "          class_total[number_expected] += 1\n",
    "          \n",
    "          \n",
    "          \n",
    "          dict[number_expected].append(int(pred[i]))\n",
    "      \n",
    "  \n",
    "  #print and return the results\n",
    "  for i in range(100):\n",
    "     if class_total[i] > 0 : \n",
    "        print( 'For the true value ', i, 'the predicted values are ', dict[i])\n",
    "  # calculate and print avg test loss\n",
    "  test_loss = test_loss/len(test_loader.sampler)\n",
    "  print('test Loss: {:.6f}\\n'.format(test_loss))\n",
    "  for i in range(100):\n",
    "      if class_total[i] > 0:\n",
    "        accuracy = 100 * class_correct[i] / class_total[i]\n",
    "        print('Test accuracy of %1s: %2.2f%% (%2d/%2d)' % (str(i), accuracy, np.sum(class_correct[i]), np.sum(class_total[i])))\n",
    "      #else: \n",
    "        #print('Test accuracy of %1s: N/A (0/0)' % str(i))\n",
    "\n",
    "  print('\\ntest accuracy (overall): %2.2f%% (%2d/%2d)' % (100. * np.sum(class_correct) / np.sum(class_total), np.sum(class_correct), np.sum(class_total)))"
   ]
  },
  {
   "cell_type": "markdown",
   "metadata": {},
   "source": [
    "**KAGGLE_CNN Class Overview**"
   ]
  },
  {
   "cell_type": "code",
   "execution_count": null,
   "metadata": {},
   "outputs": [],
   "source": [
    "\n",
    "\n",
    "class KAGGLE_CNN(nn.Module):\n",
    "    def __init__(self, img_height, img_width, img_channels=1, padding=1, kernel_size=3, pool_size=2,\n",
    "                 first_filters=32, second_filters=64, third_filters=128, \n",
    "                 dropout_conv=0.0, dropout_dense=0.0):\n",
    "        super(KAGGLE_CNN, self).__init__()\n",
    "\n",
    "        # Layer 1: Initial Conv layer with padding\n",
    "        self.conv1 = nn.Conv2d(in_channels=img_channels, out_channels=first_filters,\n",
    "                               kernel_size=kernel_size, padding=padding)\n",
    "        self.conv2 = nn.Conv2d(in_channels=first_filters, out_channels=first_filters,\n",
    "                               kernel_size=kernel_size, padding=padding)\n",
    "        self.conv3 = nn.Conv2d(in_channels=first_filters, out_channels=first_filters,\n",
    "                               kernel_size=kernel_size, padding=padding)\n",
    "        self.pool1 = nn.MaxPool2d(kernel_size=pool_size)\n",
    "        self.dropout1 = nn.Dropout(dropout_conv)\n",
    "\n",
    "        # Layer 2: Second convolutional block\n",
    "        self.conv4 = nn.Conv2d(in_channels=first_filters, out_channels=second_filters,\n",
    "                               kernel_size=kernel_size, padding=padding)\n",
    "        self.conv5 = nn.Conv2d(in_channels=second_filters, out_channels=second_filters,\n",
    "                               kernel_size=kernel_size, padding=padding)\n",
    "        self.conv6 = nn.Conv2d(in_channels=second_filters, out_channels=second_filters,\n",
    "                               kernel_size=kernel_size, padding=padding)\n",
    "        self.pool2 = nn.MaxPool2d(kernel_size=pool_size)\n",
    "        self.dropout2 = nn.Dropout(dropout_conv)\n",
    "\n",
    "        # Layer 3: Third convolutional block\n",
    "        self.conv7 = nn.Conv2d(in_channels=second_filters, out_channels=third_filters,\n",
    "                               kernel_size=kernel_size, padding=padding)\n",
    "        self.conv8 = nn.Conv2d(in_channels=third_filters, out_channels=third_filters,\n",
    "                               kernel_size=kernel_size, padding=padding)\n",
    "        self.conv9 = nn.Conv2d(in_channels=third_filters, out_channels=third_filters,\n",
    "                               kernel_size=kernel_size, padding=padding)\n",
    "        self.pool3 = nn.MaxPool2d(kernel_size=pool_size)\n",
    "        self.dropout3 = nn.Dropout(dropout_conv)\n",
    "\n",
    "        # Layer 4: Fourth convolutional block\n",
    "        self.conv10 = nn.Conv2d(in_channels=third_filters, out_channels=third_filters,\n",
    "                                kernel_size=kernel_size, padding=padding)\n",
    "        self.conv11 = nn.Conv2d(in_channels=third_filters, out_channels=third_filters,\n",
    "                                kernel_size=kernel_size, padding=padding)\n",
    "        self.conv12 = nn.Conv2d(in_channels=third_filters, out_channels=third_filters,\n",
    "                                kernel_size=kernel_size, padding=padding)\n",
    "        self.pool4 = nn.MaxPool2d(kernel_size=pool_size)\n",
    "        self.dropout4 = nn.Dropout(dropout_conv)\n",
    "\n",
    "        # Calculate flattened size for fully connected layers\n",
    "        self.flattened_size = self._calculate_flattened_size(img_height, img_width, pool_size)\n",
    "\n",
    "        # Dense layers\n",
    "        self.fc1 = nn.Linear(self.flattened_size, 1024)\n",
    "        self.leaky_relu1 = nn.LeakyReLU()\n",
    "        self.batch_norm1 = nn.BatchNorm1d(1024)\n",
    "\n",
    "        self.fc2 = nn.Linear(1024, 512)\n",
    "        self.leaky_relu2 = nn.LeakyReLU()\n",
    "        self.batch_norm2 = nn.BatchNorm1d(512)\n",
    "\n",
    "        # Output layer\n",
    "        self.output = nn.Linear(512, 100)\n",
    "        \n",
    "    def _calculate_flattened_size(self, height, width, pool_size):\n",
    "        # Apply pool size four times based on the four pooling layers in the model\n",
    "        for _ in range(4):\n",
    "            height //= pool_size\n",
    "            width //= pool_size\n",
    "        return height * width * 128  # `128` is `third_filters`, which is the final filter count\n",
    "\n",
    "    def forward(self, x):\n",
    "        x = F.relu(self.conv1(x))\n",
    "        x = F.relu(self.conv2(x))\n",
    "        x = F.relu(self.conv3(x))\n",
    "        x = self.pool1(x)\n",
    "        x = self.dropout1(x)\n",
    "\n",
    "        x = F.relu(self.conv4(x))\n",
    "        x = F.relu(self.conv5(x))\n",
    "        x = F.relu(self.conv6(x))\n",
    "        x = self.pool2(x)\n",
    "        x = self.dropout2(x)\n",
    "\n",
    "        x = F.relu(self.conv7(x))\n",
    "        x = F.relu(self.conv8(x))\n",
    "        x = F.relu(self.conv9(x))\n",
    "        x = self.pool3(x)\n",
    "        x = self.dropout3(x)\n",
    "\n",
    "        x = F.relu(self.conv10(x))\n",
    "        x = F.relu(self.conv11(x))\n",
    "        x = F.relu(self.conv12(x))\n",
    "        x = self.pool4(x)\n",
    "        x = self.dropout4(x)\n",
    "\n",
    "        x = x.view(x.size(0), -1)  # Flatten\n",
    "        x = self.leaky_relu1(self.fc1(x))\n",
    "        x = self.batch_norm1(x)\n",
    "\n",
    "        x = self.leaky_relu2(self.fc2(x))\n",
    "        x = self.batch_norm2(x)\n",
    "\n",
    "        x = self.output(x)\n",
    "        x=F.softmax(x)\n",
    "        \n",
    "        return x\n"
   ]
  },
  {
   "cell_type": "markdown",
   "metadata": {},
   "source": [
    "**Device Setup for PyTorch**"
   ]
  },
  {
   "cell_type": "code",
   "execution_count": null,
   "metadata": {},
   "outputs": [
    {
     "name": "stdout",
     "output_type": "stream",
     "text": [
      "Using device cpu\n"
     ]
    }
   ],
   "source": [
    "device = torch.device('cuda' if torch.cuda.is_available() else 'cpu')\n",
    "print('Using device '+str(device))"
   ]
  },
  {
   "cell_type": "markdown",
   "metadata": {},
   "source": [
    "**Initialisation et transfert du modèle CNN**"
   ]
  },
  {
   "cell_type": "code",
   "execution_count": null,
   "metadata": {},
   "outputs": [
    {
     "data": {
      "text/plain": [
       "KAGGLE_CNN(\n",
       "  (conv1): Conv2d(1, 32, kernel_size=(3, 3), stride=(1, 1), padding=(1, 1))\n",
       "  (conv2): Conv2d(32, 32, kernel_size=(3, 3), stride=(1, 1), padding=(1, 1))\n",
       "  (conv3): Conv2d(32, 32, kernel_size=(3, 3), stride=(1, 1), padding=(1, 1))\n",
       "  (pool1): MaxPool2d(kernel_size=2, stride=2, padding=0, dilation=1, ceil_mode=False)\n",
       "  (dropout1): Dropout(p=0.0, inplace=False)\n",
       "  (conv4): Conv2d(32, 64, kernel_size=(3, 3), stride=(1, 1), padding=(1, 1))\n",
       "  (conv5): Conv2d(64, 64, kernel_size=(3, 3), stride=(1, 1), padding=(1, 1))\n",
       "  (conv6): Conv2d(64, 64, kernel_size=(3, 3), stride=(1, 1), padding=(1, 1))\n",
       "  (pool2): MaxPool2d(kernel_size=2, stride=2, padding=0, dilation=1, ceil_mode=False)\n",
       "  (dropout2): Dropout(p=0.0, inplace=False)\n",
       "  (conv7): Conv2d(64, 128, kernel_size=(3, 3), stride=(1, 1), padding=(1, 1))\n",
       "  (conv8): Conv2d(128, 128, kernel_size=(3, 3), stride=(1, 1), padding=(1, 1))\n",
       "  (conv9): Conv2d(128, 128, kernel_size=(3, 3), stride=(1, 1), padding=(1, 1))\n",
       "  (pool3): MaxPool2d(kernel_size=2, stride=2, padding=0, dilation=1, ceil_mode=False)\n",
       "  (dropout3): Dropout(p=0.0, inplace=False)\n",
       "  (conv10): Conv2d(128, 128, kernel_size=(3, 3), stride=(1, 1), padding=(1, 1))\n",
       "  (conv11): Conv2d(128, 128, kernel_size=(3, 3), stride=(1, 1), padding=(1, 1))\n",
       "  (conv12): Conv2d(128, 128, kernel_size=(3, 3), stride=(1, 1), padding=(1, 1))\n",
       "  (pool4): MaxPool2d(kernel_size=2, stride=2, padding=0, dilation=1, ceil_mode=False)\n",
       "  (dropout4): Dropout(p=0.0, inplace=False)\n",
       "  (fc1): Linear(in_features=8192, out_features=1024, bias=True)\n",
       "  (leaky_relu1): LeakyReLU(negative_slope=0.01)\n",
       "  (batch_norm1): BatchNorm1d(1024, eps=1e-05, momentum=0.1, affine=True, track_running_stats=True)\n",
       "  (fc2): Linear(in_features=1024, out_features=512, bias=True)\n",
       "  (leaky_relu2): LeakyReLU(negative_slope=0.01)\n",
       "  (batch_norm2): BatchNorm1d(512, eps=1e-05, momentum=0.1, affine=True, track_running_stats=True)\n",
       "  (output): Linear(in_features=512, out_features=100, bias=True)\n",
       ")"
      ]
     },
     "execution_count": 222,
     "metadata": {},
     "output_type": "execute_result"
    }
   ],
   "source": [
    "CNN_2 = KAGGLE_CNN( img_height=IMG_HEIGHT, img_width=IMG_WIDTH )\n",
    "CNN_2.to(device=device)  "
   ]
  },
  {
   "cell_type": "markdown",
   "metadata": {},
   "source": [
    "**Visualizing the First Image and Its Label in the Training Dataset**"
   ]
  },
  {
   "cell_type": "code",
   "execution_count": null,
   "metadata": {},
   "outputs": [
    {
     "data": {
      "image/png": "[encoded data removed]",
      "text/plain": [
       "<Figure size 640x480 with 1 Axes>"
      ]
     },
     "metadata": {},
     "output_type": "display_data"
    }
   ],
   "source": [
    "# Visualize the item\n",
    "image, label = train_data.__getitem__(0)\n",
    "plt.imshow(image.permute(1, 2, 0), cmap='gray')\n",
    "plt.title(f'Label: {label*std_label+mean_label}')\n",
    "plt.show()"
   ]
  },
  {
   "cell_type": "markdown",
   "metadata": {},
   "source": [
    "**Model Summary for CNN_2**"
   ]
  },
  {
   "cell_type": "code",
   "execution_count": null,
   "metadata": {},
   "outputs": [
    {
     "name": "stdout",
     "output_type": "stream",
     "text": [
      "----------------------------------------------------------------\n",
      "        Layer (type)               Output Shape         Param #\n",
      "================================================================\n",
      "            Conv2d-1         [-1, 32, 128, 128]             320\n",
      "            Conv2d-2         [-1, 32, 128, 128]           9,248\n",
      "            Conv2d-3         [-1, 32, 128, 128]           9,248\n",
      "         MaxPool2d-4           [-1, 32, 64, 64]               0\n",
      "           Dropout-5           [-1, 32, 64, 64]               0\n",
      "            Conv2d-6           [-1, 64, 64, 64]          18,496\n",
      "            Conv2d-7           [-1, 64, 64, 64]          36,928\n",
      "            Conv2d-8           [-1, 64, 64, 64]          36,928\n",
      "         MaxPool2d-9           [-1, 64, 32, 32]               0\n",
      "          Dropout-10           [-1, 64, 32, 32]               0\n",
      "           Conv2d-11          [-1, 128, 32, 32]          73,856\n",
      "           Conv2d-12          [-1, 128, 32, 32]         147,584\n",
      "           Conv2d-13          [-1, 128, 32, 32]         147,584\n",
      "        MaxPool2d-14          [-1, 128, 16, 16]               0\n",
      "          Dropout-15          [-1, 128, 16, 16]               0\n",
      "           Conv2d-16          [-1, 128, 16, 16]         147,584\n",
      "           Conv2d-17          [-1, 128, 16, 16]         147,584\n",
      "           Conv2d-18          [-1, 128, 16, 16]         147,584\n",
      "        MaxPool2d-19            [-1, 128, 8, 8]               0\n",
      "          Dropout-20            [-1, 128, 8, 8]               0\n",
      "           Linear-21                 [-1, 1024]       8,389,632\n",
      "        LeakyReLU-22                 [-1, 1024]               0\n",
      "      BatchNorm1d-23                 [-1, 1024]           2,048\n",
      "           Linear-24                  [-1, 512]         524,800\n",
      "        LeakyReLU-25                  [-1, 512]               0\n",
      "      BatchNorm1d-26                  [-1, 512]           1,024\n",
      "           Linear-27                  [-1, 100]          51,300\n",
      "================================================================\n",
      "Total params: 9,891,748\n",
      "Trainable params: 9,891,748\n",
      "Non-trainable params: 0\n",
      "----------------------------------------------------------------\n",
      "Input size (MB): 0.06\n",
      "Forward/backward pass size (MB): 25.41\n",
      "Params size (MB): 37.73\n",
      "Estimated Total Size (MB): 63.21\n",
      "----------------------------------------------------------------\n"
     ]
    },
    {
     "name": "stderr",
     "output_type": "stream",
     "text": [
      "C:\\Users\\LENOVO\\AppData\\Local\\Temp\\ipykernel_15172\\4028095504.py:102: UserWarning: Implicit dimension choice for softmax has been deprecated. Change the call to include dim=X as an argument.\n",
      "  x=F.softmax(x)\n"
     ]
    }
   ],
   "source": [
    "#get the sumamry \n",
    "summary(CNN_2, input_size=(1, IMG_HEIGHT, IMG_WIDTH))  # Explicitly set batch_size=1 # channels, height, width )"
   ]
  },
  {
   "cell_type": "markdown",
   "metadata": {},
   "source": [
    "**Define Loss Function and Optimizer**"
   ]
  },
  {
   "cell_type": "code",
   "execution_count": null,
   "metadata": {},
   "outputs": [],
   "source": [
    "# Define the loss function as Mean Squared Error Loss\n",
    "criterion = nn.MSELoss()\n",
    "\n",
    "# Alternatively, you can use Smooth L1 Loss by uncommenting the following line\n",
    "# criterion = nn.SmoothL1Loss()\n",
    "\n",
    "# Define the optimizer as Adam with a learning rate of 0.001\n",
    "optimizer = torch.optim.Adam(CNN_2.parameters(), lr=0.001)"
   ]
  },
  {
   "cell_type": "markdown",
   "metadata": {},
   "source": [
    "**Define Training Loop with Validation**"
   ]
  },
  {
   "cell_type": "code",
   "execution_count": null,
   "metadata": {},
   "outputs": [],
   "source": [
    "nb_classe=100\n",
    "def training(n_epochs, train_loader, valid_loader, model, criterion, optimizer, name):\n",
    "\n",
    "  train_losses, valid_losses = [], []\n",
    "  # initialize tracker for minimum validation loss\n",
    "  valid_loss_min = np.inf  # set initial \"min\" to infinity\n",
    "\n",
    "  for epoch in range(n_epochs):\n",
    "      \n",
    "      train_loss, valid_loss = 0, 0 # monitor losses\n",
    "\n",
    "      # train the model\n",
    "      model.train() # prep model for training\n",
    "      for data, label in train_loader:\n",
    "          ratio= nb_classe-1+np.exp(1)\n",
    "          label = torch.tensor([ [np.exp(1)/ratio if i+1==label[j] else 1/ratio for i in range(nb_classe) ] for j in range(data.size(0))])\n",
    "          data = data.to(device=device, dtype=torch.float32)\n",
    "          label = label.to(device=device, dtype=torch.float32)\n",
    "          label= label.to(device=device, dtype=torch.float32)\n",
    "          optimizer.zero_grad()\n",
    "          output=model(data)\n",
    "          \n",
    "          loss=criterion(output,label)\n",
    "          loss.backward()\n",
    "          optimizer.step()\n",
    "          train_loss += loss.item() * data.size(0) # update running training loss\n",
    "      \n",
    "      # validate the model\n",
    "      model.eval()\n",
    "      for data, label in valid_loader:\n",
    "          ratio= nb_classe-1+np.exp(1)\n",
    "          label = torch.tensor([ [np.exp(1)/ratio if i+1==label[j] else 0 for i in range(nb_classe) ] for j in range(data.size(0))])\n",
    "          data = data.to(device=device, dtype=torch.float32)\n",
    "          label = label.to(device=device, dtype=torch.float32)\n",
    "          with torch.no_grad():\n",
    "              output=model( data)\n",
    "              \n",
    "              \n",
    "          loss=criterion(output,label)\n",
    "          valid_loss += loss.item() * data.size(0)\n",
    "    \n",
    "      # calculate average loss over an epoch\n",
    "      train_loss /= len(train_loader.sampler)\n",
    "      valid_loss /= len(valid_loader.sampler)\n",
    "      train_losses.append(train_loss)\n",
    "      valid_losses.append(valid_loss)\n",
    "\n",
    "      print('epoch: {} \\ttraining Loss: {:.6f} \\tvalidation Loss: {:.6f}'.format(epoch+1, train_loss, valid_loss))\n",
    "\n",
    "      # save model if validation loss has decreased\n",
    "      if valid_loss <= valid_loss_min:\n",
    "          print('validation loss decreased ({:.6f} --> {:.6f}).  Saving model ...'.format(\n",
    "          valid_loss_min,\n",
    "          valid_loss))\n",
    "          torch.save(model.state_dict(), name)\n",
    "          valid_loss_min = valid_loss\n",
    "\n",
    "  return train_losses, valid_losses"
   ]
  },
  {
   "cell_type": "markdown",
   "metadata": {},
   "source": [
    "**Training and Evaluation with Different Learning Rates and Dropout Settings**"
   ]
  },
  {
   "cell_type": "code",
   "execution_count": null,
   "metadata": {},
   "outputs": [
    {
     "name": "stdout",
     "output_type": "stream",
     "text": [
      "For the dataset mask, start the experience for the learning rate 0.001, for the dropout_conv 0.3   :\n"
     ]
    },
    {
     "name": "stderr",
     "output_type": "stream",
     "text": [
      "C:\\Users\\LENOVO\\AppData\\Local\\Temp\\ipykernel_15172\\4028095504.py:102: UserWarning: Implicit dimension choice for softmax has been deprecated. Change the call to include dim=X as an argument.\n",
      "  x=F.softmax(x)\n"
     ]
    },
    {
     "name": "stdout",
     "output_type": "stream",
     "text": [
      "epoch: 1 \ttraining Loss: 0.000051 \tvalidation Loss: 0.000106\n",
      "validation loss decreased (inf --> 0.000106).  Saving model ...\n",
      "epoch: 2 \ttraining Loss: 0.000028 \tvalidation Loss: 0.000105\n",
      "validation loss decreased (0.000106 --> 0.000105).  Saving model ...\n",
      "epoch: 3 \ttraining Loss: 0.000012 \tvalidation Loss: 0.000103\n",
      "validation loss decreased (0.000105 --> 0.000103).  Saving model ...\n",
      "epoch: 4 \ttraining Loss: 0.000009 \tvalidation Loss: 0.000103\n",
      "validation loss decreased (0.000103 --> 0.000103).  Saving model ...\n",
      "epoch: 5 \ttraining Loss: 0.000008 \tvalidation Loss: 0.000103\n",
      "validation loss decreased (0.000103 --> 0.000103).  Saving model ...\n",
      "epoch: 6 \ttraining Loss: 0.000007 \tvalidation Loss: 0.000103\n",
      "validation loss decreased (0.000103 --> 0.000103).  Saving model ...\n",
      "epoch: 7 \ttraining Loss: 0.000006 \tvalidation Loss: 0.000103\n",
      "epoch: 8 \ttraining Loss: 0.000005 \tvalidation Loss: 0.000103\n",
      "validation loss decreased (0.000103 --> 0.000103).  Saving model ...\n",
      "epoch: 9 \ttraining Loss: 0.000005 \tvalidation Loss: 0.000102\n",
      "validation loss decreased (0.000103 --> 0.000102).  Saving model ...\n",
      "epoch: 10 \ttraining Loss: 0.000004 \tvalidation Loss: 0.000102\n",
      "validation loss decreased (0.000102 --> 0.000102).  Saving model ...\n",
      "epoch: 11 \ttraining Loss: 0.000004 \tvalidation Loss: 0.000102\n",
      "validation loss decreased (0.000102 --> 0.000102).  Saving model ...\n",
      "epoch: 12 \ttraining Loss: 0.000004 \tvalidation Loss: 0.000102\n",
      "epoch: 13 \ttraining Loss: 0.000004 \tvalidation Loss: 0.000102\n",
      "validation loss decreased (0.000102 --> 0.000102).  Saving model ...\n",
      "epoch: 14 \ttraining Loss: 0.000004 \tvalidation Loss: 0.000102\n",
      "validation loss decreased (0.000102 --> 0.000102).  Saving model ...\n",
      "epoch: 15 \ttraining Loss: 0.000004 \tvalidation Loss: 0.000102\n",
      "epoch: 16 \ttraining Loss: 0.000003 \tvalidation Loss: 0.000102\n",
      "epoch: 17 \ttraining Loss: 0.000003 \tvalidation Loss: 0.000102\n",
      "epoch: 18 \ttraining Loss: 0.000003 \tvalidation Loss: 0.000102\n",
      "epoch: 19 \ttraining Loss: 0.000003 \tvalidation Loss: 0.000102\n",
      "epoch: 20 \ttraining Loss: 0.000003 \tvalidation Loss: 0.000102\n"
     ]
    },
    {
     "ename": "ValueError",
     "evalue": "only one element tensors can be converted to Python scalars",
     "output_type": "error",
     "traceback": [
      "\u001b[1;31m---------------------------------------------------------------------------\u001b[0m",
      "\u001b[1;31mValueError\u001b[0m                                Traceback (most recent call last)",
      "Cell \u001b[1;32mIn[229], line 15\u001b[0m\n\u001b[0;32m     13\u001b[0m optimizer \u001b[38;5;241m=\u001b[39m torch\u001b[38;5;241m.\u001b[39moptim\u001b[38;5;241m.\u001b[39mAdam(CNN_2\u001b[38;5;241m.\u001b[39mparameters(), lr\u001b[38;5;241m=\u001b[39mlr)\n\u001b[0;32m     14\u001b[0m train_losses_k, valid_losses_k\u001b[38;5;241m=\u001b[39mtraining(n_epochs, train_loader, valid_loader, CNN_2, criterion, optimizer, name )\n\u001b[1;32m---> 15\u001b[0m \u001b[43mevaluation\u001b[49m\u001b[43m(\u001b[49m\u001b[43m \u001b[49m\u001b[43mCNN_2\u001b[49m\u001b[43m,\u001b[49m\u001b[43m \u001b[49m\u001b[43mtest_loader\u001b[49m\u001b[43m,\u001b[49m\u001b[43m \u001b[49m\u001b[43mcriterion\u001b[49m\u001b[43m)\u001b[49m\n\u001b[0;32m     16\u001b[0m results[(lr, dc, mask_or_image)]\u001b[38;5;241m=\u001b[39m train_losses_k , valid_losses_k\n",
      "Cell \u001b[1;32mIn[219], line 30\u001b[0m, in \u001b[0;36mevaluation\u001b[1;34m(model, test_loader, criterion)\u001b[0m\n\u001b[0;32m     28\u001b[0m \u001b[38;5;66;03m# calculate test accuracy for each object class\u001b[39;00m\n\u001b[0;32m     29\u001b[0m \u001b[38;5;28;01mfor\u001b[39;00m i \u001b[38;5;129;01min\u001b[39;00m \u001b[38;5;28mrange\u001b[39m(\u001b[38;5;28mlen\u001b[39m(label)):\n\u001b[1;32m---> 30\u001b[0m     number_expected \u001b[38;5;241m=\u001b[39m \u001b[38;5;28;43mint\u001b[39;49m\u001b[43m(\u001b[49m\u001b[43mlabel\u001b[49m\u001b[38;5;241;43m.\u001b[39;49m\u001b[43mdata\u001b[49m\u001b[43m[\u001b[49m\u001b[43mi\u001b[49m\u001b[43m]\u001b[49m\u001b[38;5;241;43m*\u001b[39;49m\u001b[43mstd_label\u001b[49m\u001b[38;5;241;43m+\u001b[39;49m\u001b[43mmean_label\u001b[49m\u001b[43m)\u001b[49m\n\u001b[0;32m     32\u001b[0m     class_correct[number_expected] \u001b[38;5;241m+\u001b[39m\u001b[38;5;241m=\u001b[39m correct[i]\u001b[38;5;241m.\u001b[39mitem()\n\u001b[0;32m     33\u001b[0m     class_total[number_expected] \u001b[38;5;241m+\u001b[39m\u001b[38;5;241m=\u001b[39m \u001b[38;5;241m1\u001b[39m\n",
      "\u001b[1;31mValueError\u001b[0m: only one element tensors can be converted to Python scalars"
     ]
    }
   ],
   "source": [
    "n_epochs = 20 # number of epochs to train the model\n",
    "lr_values=[0.001]\n",
    "dropout_conv=[ 0.3]\n",
    "results={}\n",
    "for dc in dropout_conv:\n",
    "    for lr in lr_values:\n",
    "        train_loader, valid_loader, test_loader = create_data_loaders(batch_size, valid_size, train_data, test_data) \n",
    "        print(f'For the dataset {mask_or_image}, start the experience for the learning rate {lr}, for the dropout_conv {dc}   :')\n",
    "        name= f'kagglemodel_lr_{lr}_dc_{dc}.pt'\n",
    "        CNN_2 = KAGGLE_CNN( img_height=IMG_HEIGHT, img_width=IMG_WIDTH, dropout_conv=dc )\n",
    "        CNN_2.to(device=device) \n",
    "        criterion = nn.MSELoss()\n",
    "        optimizer = torch.optim.Adam(CNN_2.parameters(), lr=lr)\n",
    "        train_losses_k, valid_losses_k=training(n_epochs, train_loader, valid_loader, CNN_2, criterion, optimizer, name )\n",
    "        evaluation( CNN_2, test_loader, criterion)\n",
    "        results[(lr, dc, mask_or_image)]= train_losses_k , valid_losses_k\n",
    "        \n"
   ]
  },
  {
   "cell_type": "markdown",
   "metadata": {},
   "source": [
    "**Plotting Training and Validation Loss over Epochs**"
   ]
  },
  {
   "cell_type": "code",
   "execution_count": null,
   "metadata": {},
   "outputs": [
    {
     "name": "stderr",
     "output_type": "stream",
     "text": [
      "C:\\Users\\LENOVO\\AppData\\Local\\Temp\\ipykernel_15172\\4028095504.py:102: UserWarning: Implicit dimension choice for softmax has been deprecated. Change the call to include dim=X as an argument.\n",
      "  x=F.softmax(x)\n"
     ]
    },
    {
     "name": "stdout",
     "output_type": "stream",
     "text": [
      "For the true value  1 the predicted values are  [17, 17, 17, 17, 17, 17, 17, 17, 17, 17, 17, 17, 17, 17, 17]\n",
      "For the true value  5 the predicted values are  [17, 17, 17, 17, 17, 17, 17, 17, 17, 17, 17, 17, 17, 17, 17, 17, 17]\n",
      "For the true value  10 the predicted values are  [17, 17, 47, 17, 47, 17, 17, 17, 17, 17, 17, 17, 17, 17, 17]\n",
      "For the true value  14 the predicted values are  [17, 60, 47, 17, 17, 17, 17, 17, 17, 13, 17, 17]\n",
      "For the true value  18 the predicted values are  [17, 99, 17, 17, 17, 99, 99, 17, 17, 99, 47, 17, 17, 99, 99, 47, 99]\n",
      "For the true value  23 the predicted values are  [77, 17, 17, 17, 17, 17, 17, 17, 17, 99, 47, 17, 17, 99, 99, 99, 17, 99]\n",
      "For the true value  27 the predicted values are  [99, 17, 99, 17, 17, 77, 99, 17, 17, 17, 17, 99, 99, 99, 99, 17, 17]\n",
      "For the true value  31 the predicted values are  [17, 17, 17, 17, 99, 17, 77, 77, 99, 77, 17, 47, 17, 99, 17, 99, 17]\n",
      "For the true value  35 the predicted values are  [77, 99, 65, 99, 17, 77, 17, 99, 99, 99, 99, 65, 17, 17, 77, 17, 99]\n",
      "For the true value  40 the predicted values are  [17, 99, 17, 65, 65, 65, 17, 47, 99, 47, 77, 99, 65]\n",
      "For the true value  44 the predicted values are  [99, 65, 17, 65, 17, 99, 17, 17, 99, 17, 65, 17, 65, 65]\n",
      "For the true value  48 the predicted values are  [17, 47, 17, 47, 65, 47, 99, 65, 65, 17, 65, 17, 17]\n",
      "For the true value  53 the predicted values are  [65, 65, 65, 17, 17, 65, 47, 47, 65, 47, 47, 65, 17, 47, 47]\n",
      "For the true value  57 the predicted values are  [47, 65, 99, 47, 17, 13, 17, 65, 65, 99, 65, 65, 99, 65, 65]\n",
      "For the true value  61 the predicted values are  [65, 65, 65, 65, 65, 65, 47, 47, 65, 65, 17, 65, 17, 65, 99]\n",
      "For the true value  66 the predicted values are  [65, 65, 99, 65, 99, 65, 99, 47, 99, 65, 99, 99, 99, 47]\n",
      "For the true value  70 the predicted values are  [99, 65, 99, 99, 99, 99, 99, 99, 99, 65, 99, 65, 99, 65, 99, 65, 99, 99]\n",
      "For the true value  74 the predicted values are  [65, 65, 65, 99, 65, 65, 65, 65, 99, 65, 99, 99, 99, 99, 99]\n",
      "For the true value  78 the predicted values are  [99, 65, 99, 99, 65, 65, 65, 65, 99, 65, 99, 99, 99, 99]\n",
      "For the true value  83 the predicted values are  [99, 99, 99, 99, 65, 65, 65, 99, 99, 65, 99, 65, 99, 99]\n",
      "For the true value  87 the predicted values are  [65, 99, 99, 65, 65, 65, 65, 99, 65, 99, 65, 65, 65, 65, 65, 65, 65]\n",
      "For the true value  91 the predicted values are  [65, 99, 65, 65, 99, 65, 99, 99, 65]\n",
      "For the true value  96 the predicted values are  [99, 99, 65, 65, 65, 65, 99, 99, 65, 99, 99, 99, 65, 65]\n",
      "test Loss: 0.000102\n",
      "\n",
      "Test accuracy of 1: 0.00% ( 0/15)\n",
      "Test accuracy of 5: 0.00% ( 0/17)\n",
      "Test accuracy of 10: 0.00% ( 0/15)\n",
      "Test accuracy of 14: 8.33% ( 1/12)\n",
      "Test accuracy of 18: 47.06% ( 8/17)\n",
      "Test accuracy of 23: 0.00% ( 0/18)\n",
      "Test accuracy of 27: 0.00% ( 0/17)\n",
      "Test accuracy of 31: 0.00% ( 0/17)\n",
      "Test accuracy of 35: 0.00% ( 0/17)\n",
      "Test accuracy of 40: 0.00% ( 0/13)\n",
      "Test accuracy of 44: 0.00% ( 0/14)\n",
      "Test accuracy of 48: 23.08% ( 3/13)\n",
      "Test accuracy of 53: 0.00% ( 0/15)\n",
      "Test accuracy of 57: 0.00% ( 0/15)\n",
      "Test accuracy of 61: 0.00% ( 0/15)\n",
      "Test accuracy of 66: 35.71% ( 5/14)\n",
      "Test accuracy of 70: 0.00% ( 0/18)\n",
      "Test accuracy of 74: 0.00% ( 0/15)\n",
      "Test accuracy of 78: 0.00% ( 0/14)\n",
      "Test accuracy of 83: 0.00% ( 0/14)\n",
      "Test accuracy of 87: 0.00% ( 0/17)\n",
      "Test accuracy of 91: 0.00% ( 0/ 9)\n",
      "Test accuracy of 96: 0.00% ( 0/14)\n",
      "\n",
      "test accuracy (overall): 7.22% (26/360)\n"
     ]
    }
   ],
   "source": [
    "evaluation( CNN_2, test_loader, criterion)\n",
    "results[(lr, dc, mask_or_image)]= train_losses_k , valid_losses_k"
   ]
  },
  {
   "cell_type": "code",
   "execution_count": null,
   "metadata": {},
   "outputs": [
    {
     "data": {
      "text/plain": [
       "Text(0, 0.5, 'loss value')"
      ]
     },
     "execution_count": 22,
     "metadata": {},
     "output_type": "execute_result"
    },
    {
     "data": {
      "image/png": "[encoded data removed]",
      "text/plain": [
       "<Figure size 640x480 with 1 Axes>"
      ]
     },
     "metadata": {},
     "output_type": "display_data"
    }
   ],
   "source": [
    "plt.plot(range(n_epochs), train_losses_k)\n",
    "plt.plot(range(n_epochs), valid_losses_k)\n",
    "plt.legend(['train', 'validation'], prop={'size': 10})\n",
    "plt.title('loss function', size=10)\n",
    "plt.xlabel('epoch', size=10)\n",
    "plt.ylabel('loss value', size=10)"
   ]
  }
 ],
 "metadata": {
  "kernelspec": {
   "display_name": "base",
   "language": "python",
   "name": "python3"
  },
  "language_info": {
   "codemirror_mode": {
    "name": "ipython",
    "version": 3
   },
   "file_extension": ".py",
   "mimetype": "text/x-python",
   "name": "python",
   "nbconvert_exporter": "python",
   "pygments_lexer": "ipython3",
   "version": "3.12.3"
  }
 },
 "nbformat": 4,
 "nbformat_minor": 2
}
