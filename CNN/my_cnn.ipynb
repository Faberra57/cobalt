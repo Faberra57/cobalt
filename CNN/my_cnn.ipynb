{
 "cells": [
  {
   "cell_type": "markdown",
   "metadata": {},
   "source": [
    "# Projet Commande Entreprise - Projet 23 : Traitement d'Images Microscopiques par Intelligence Artificielle\n",
    "## Partenariat avec Cobalt Contraception\n",
    "\n",
    "### Contexte et Objectifs du Projet\n",
    "\n",
    "Ce projet s'inscrit dans le cadre de l'UE Projet Commande Entreprise, semestre 7, formation ingénieur généraliste FISE IMT Atlantique. Il est réalisé en partenariat avec **Cobalt Contraception** (135 rue Claude Chappe, 29280, Plouzané), sous la supervision de **Mme Eléonore Abadie** (Présidente, contact@cobalt-contraception.com).\n",
    "\n",
    "L'objectif final de notre partenaire est la mise au point d'un **dispositif de contraception masculine** naturel, réversible, et non-invasif. Pour favoriser l'acceptation de cette méthode, il est essentiel de permettre aux utilisateurs de réaliser facilement un **spermogramme à domicile**. Notre projet consiste à développer une solution de traitement d'image permettant de mesurer la concentration et la mobilité des spermatozoïdes via un système optique intégré dans un boîtier connecté à la caméra d'un smartphone.\n",
    "\n",
    "### Description du Projet\n",
    "\n",
    "Notre mission dans le cadre de ce projet est de concevoir un **premier prototype d'algorithme** capable de compter et analyser des cellules dans des images microscopiques. Cet algorithme sera optimisé pour fonctionner sur un environnement Linux embarqué, notamment sur une Raspberry Pi, et vise deux fonctionnalités principales :\n",
    "\n",
    "1. **Détection et comptage des cellules** dans les images pour calculer leur concentration.\n",
    "2. **Analyse de la mobilité cellulaire** dans des vidéos (futur développement).\n",
    "\n",
    "### Livrables\n",
    "\n",
    "- Algorithme de détermination de la concentration des cellules (60 %)\n",
    "- Intégration de l’algorithme sur Raspberry Pi (30 %)\n",
    "- Rapport d'analyse des différentes approches algorithmiques (10 %)\n",
    "\n",
    "### Équipe Projet\n",
    "\n",
    "- **Étudiants** : Khalil ABDELHEDI, Corentin BOUTAULT, Iyed DAMMAK (auteur du notebook), Thomas FAVRE, Skander MAHJOUB, Noah SCHOUAME, Fabien SENEQUIER\n",
    "- **Conseiller** : Jack Bourdin White, qui nous a apporté son expertise et ses conseils précieux\n",
    "- **Tuteur entreprise** : Mme Eléonore Abadie, Présidente, eleonore@cobalt-contraception.com\n",
    "- **Tuteur académique** : Mme LANGLAIS Charlotte ,IMT Atlantique\n",
    "\n",
    "### Mots-Clés\n",
    "Computer vision, Image segmentation, Apprentissage profond, Raspberry Pi, Spermogramme à domicile\n",
    "\n",
    "---\n",
    "\n"
   ]
  },
  {
   "cell_type": "markdown",
   "metadata": {},
   "source": [
    "# CNN for counting \n",
    "This fil is for CNN application\n",
    "This notebook presents a CNN-based approach developed for COBALT to automate sperm cell counting in microscopic images. The goal is to build a reliable model that can accurately detect and count cells, streamlining the fertility analysis process.\n",
    "\n",
    "We’ll cover data preparation, model design, and evaluation to achieve an efficient and accurate cell-counting solution.\n",
    "\n",
    "---"
   ]
  },
  {
   "cell_type": "markdown",
   "metadata": {},
   "source": [
    "**Initialization and Importing Libraries and Tools** "
   ]
  },
  {
   "cell_type": "code",
   "execution_count": 1,
   "metadata": {},
   "outputs": [
    {
     "name": "stdout",
     "output_type": "stream",
     "text": [
      "Requirement already satisfied: seaborn in c:\\users\\hp\\miniconda3\\envs\\lab_3.11\\lib\\site-packages (0.13.2)\n",
      "Requirement already satisfied: numpy!=1.24.0,>=1.20 in c:\\users\\hp\\miniconda3\\envs\\lab_3.11\\lib\\site-packages (from seaborn) (1.26.4)\n",
      "Requirement already satisfied: pandas>=1.2 in c:\\users\\hp\\miniconda3\\envs\\lab_3.11\\lib\\site-packages (from seaborn) (2.2.2)\n",
      "Requirement already satisfied: matplotlib!=3.6.1,>=3.4 in c:\\users\\hp\\miniconda3\\envs\\lab_3.11\\lib\\site-packages (from seaborn) (3.9.2)\n",
      "Requirement already satisfied: contourpy>=1.0.1 in c:\\users\\hp\\miniconda3\\envs\\lab_3.11\\lib\\site-packages (from matplotlib!=3.6.1,>=3.4->seaborn) (1.2.0)\n",
      "Requirement already satisfied: cycler>=0.10 in c:\\users\\hp\\miniconda3\\envs\\lab_3.11\\lib\\site-packages (from matplotlib!=3.6.1,>=3.4->seaborn) (0.11.0)\n",
      "Requirement already satisfied: fonttools>=4.22.0 in c:\\users\\hp\\miniconda3\\envs\\lab_3.11\\lib\\site-packages (from matplotlib!=3.6.1,>=3.4->seaborn) (4.51.0)\n",
      "Requirement already satisfied: kiwisolver>=1.3.1 in c:\\users\\hp\\miniconda3\\envs\\lab_3.11\\lib\\site-packages (from matplotlib!=3.6.1,>=3.4->seaborn) (1.4.4)\n",
      "Requirement already satisfied: packaging>=20.0 in c:\\users\\hp\\miniconda3\\envs\\lab_3.11\\lib\\site-packages (from matplotlib!=3.6.1,>=3.4->seaborn) (24.1)\n",
      "Requirement already satisfied: pillow>=8 in c:\\users\\hp\\miniconda3\\envs\\lab_3.11\\lib\\site-packages (from matplotlib!=3.6.1,>=3.4->seaborn) (10.4.0)\n",
      "Requirement already satisfied: pyparsing>=2.3.1 in c:\\users\\hp\\miniconda3\\envs\\lab_3.11\\lib\\site-packages (from matplotlib!=3.6.1,>=3.4->seaborn) (3.1.2)\n",
      "Requirement already satisfied: python-dateutil>=2.7 in c:\\users\\hp\\miniconda3\\envs\\lab_3.11\\lib\\site-packages (from matplotlib!=3.6.1,>=3.4->seaborn) (2.9.0.post0)\n",
      "Requirement already satisfied: pytz>=2020.1 in c:\\users\\hp\\miniconda3\\envs\\lab_3.11\\lib\\site-packages (from pandas>=1.2->seaborn) (2024.1)\n",
      "Requirement already satisfied: tzdata>=2022.7 in c:\\users\\hp\\miniconda3\\envs\\lab_3.11\\lib\\site-packages (from pandas>=1.2->seaborn) (2023.3)\n",
      "Requirement already satisfied: six>=1.5 in c:\\users\\hp\\miniconda3\\envs\\lab_3.11\\lib\\site-packages (from python-dateutil>=2.7->matplotlib!=3.6.1,>=3.4->seaborn) (1.16.0)\n",
      "Note: you may need to restart the kernel to use updated packages.\n"
     ]
    }
   ],
   "source": [
    "%pip install seaborn"
   ]
  },
  {
   "cell_type": "code",
   "execution_count": 2,
   "metadata": {},
   "outputs": [],
   "source": [
    "# Standard libraries\n",
    "import sys\n",
    "import os\n",
    "import cv2\n",
    "\n",
    "# Adding a custom toolkit repository to the system path\n",
    "# This allows for easy importing of custom tools from 'tool_kit' located in a parent directory\n",
    "#path_to_tool_kit = os.path.abspath('/homes/i23damma/Bureau/Cobalt/cobalt')\n",
    "path_to_tool_kit = os.path.abspath(r'C:\\abdelhedi khalil\\pj\\cobalt')\n",
    "if path_to_tool_kit not in sys.path:\n",
    "    sys.path.append(path_to_tool_kit)\n",
    "\n",
    "# Import custom toolkit functions (e.g., utility functions or model-related functions)\n",
    "import tool_kit as tk\n",
    "#sys.path.append('/homes/i23damma/Bureau/Cobalt/cobalt/CNN')\n",
    "# Data manipulation and numerical operations\n",
    "import numpy as np  # To install: `pip install numpy`\n",
    "import pandas as pd  # To install: `pip install pandas`\n",
    "\n",
    "# PyTorch library for image transformations\n",
    "import torchvision.transforms as transforms  # To install: `pip install torchvision`\n",
    "\n",
    "# Library for data visualization\n",
    "import matplotlib.pyplot as plt  # To install: `pip install matplotlib`\n",
    "\n",
    "# Importing PyTorch summary for model inspection\n",
    "from torchsummary import summary  # To install: `pip install torchsummary`\n",
    "\n",
    "# Core PyTorch libraries for deep learning\n",
    "import torch  # To install: `pip install torch`\n",
    "import torch.nn as nn\n",
    "import torch.nn.functional as F\n",
    "\n",
    "# Additional utility functions and tools\n",
    "from torch.utils.data.sampler import SubsetRandomSampler\n",
    "from costumize_data import CustomDataset  # Custom dataset handler\n",
    "\n",
    "import seaborn as sns"
   ]
  },
  {
   "cell_type": "markdown",
   "metadata": {},
   "source": [
    "**Loading and Displaying Dataset Information**"
   ]
  },
  {
   "cell_type": "code",
   "execution_count": 3,
   "metadata": {},
   "outputs": [
    {
     "name": "stdout",
     "output_type": "stream",
     "text": [
      " images =\n",
      "                             image_id  nb_cells mask  blur\n",
      "0  SIMCEPImages_A01_C1_F1_s01_w1.TIF         1  yes     1\n",
      "1  SIMCEPImages_A01_C1_F1_s01_w2.TIF         1  yes     1\n",
      "2  SIMCEPImages_A01_C1_F1_s02_w1.TIF         1  yes     1\n",
      "3  SIMCEPImages_A01_C1_F1_s02_w2.TIF         1  yes     1\n",
      "4  SIMCEPImages_A01_C1_F1_s03_w1.TIF         1  yes     1\n",
      " mask =\n",
      "                             image_id  nb_cells\n",
      "0  SIMCEPImages_A01_C1_F1_s01_w1.TIF         1\n",
      "1  SIMCEPImages_A01_C1_F1_s01_w2.TIF         1\n",
      "2  SIMCEPImages_A01_C1_F1_s02_w1.TIF         1\n",
      "3  SIMCEPImages_A01_C1_F1_s02_w2.TIF         1\n",
      "4  SIMCEPImages_A01_C1_F1_s03_w1.TIF         1\n"
     ]
    }
   ],
   "source": [
    "# Setting the path to the dataset using a function from the custom toolkit\n",
    "# This allows the toolkit to locate and access the dataset files.\n",
    "#tk.set_path_to_dataset('/homes/i23damma/Bureau/Cobalt/cobalt/')\n",
    "tk.set_path_to_dataset('..')\n",
    "\n",
    "# Loading the images and mask data using functions from the toolkit\n",
    "images = tk.load_data_image()\n",
    "mask = tk.load_data_mask()\n",
    "# Displaying the first few entries of each DataFrame to understand the data structure\n",
    "print(' images =\\n', images.head())\n",
    "print(' mask =\\n', mask.head())\n",
    "# 'mask' DataFrame:# - Type: pandas DataFrame# - Contains: Each entry has the image ID and the count of cells present in the image.\n",
    "# 'images' DataFrame:# - Type: pandas DataFrame # - Contains: Each entry has the image ID, cell count, mask availability (boolean), and blur status.\n"
   ]
  },
  {
   "cell_type": "markdown",
   "metadata": {},
   "source": [
    "**Selecting and Filtering the Dataset**"
   ]
  },
  {
   "cell_type": "code",
   "execution_count": 4,
   "metadata": {},
   "outputs": [
    {
     "data": {
      "text/html": [
       "<div>\n",
       "<style scoped>\n",
       "    .dataframe tbody tr th:only-of-type {\n",
       "        vertical-align: middle;\n",
       "    }\n",
       "\n",
       "    .dataframe tbody tr th {\n",
       "        vertical-align: top;\n",
       "    }\n",
       "\n",
       "    .dataframe thead th {\n",
       "        text-align: right;\n",
       "    }\n",
       "</style>\n",
       "<table border=\"1\" class=\"dataframe\">\n",
       "  <thead>\n",
       "    <tr style=\"text-align: right;\">\n",
       "      <th></th>\n",
       "      <th>image_id</th>\n",
       "      <th>nb_cells</th>\n",
       "    </tr>\n",
       "  </thead>\n",
       "  <tbody>\n",
       "    <tr>\n",
       "      <th>0</th>\n",
       "      <td>SIMCEPImages_A01_C1_F1_s01_w1.TIF</td>\n",
       "      <td>1</td>\n",
       "    </tr>\n",
       "    <tr>\n",
       "      <th>1</th>\n",
       "      <td>SIMCEPImages_A01_C1_F1_s01_w2.TIF</td>\n",
       "      <td>1</td>\n",
       "    </tr>\n",
       "    <tr>\n",
       "      <th>2</th>\n",
       "      <td>SIMCEPImages_A01_C1_F1_s02_w1.TIF</td>\n",
       "      <td>1</td>\n",
       "    </tr>\n",
       "    <tr>\n",
       "      <th>3</th>\n",
       "      <td>SIMCEPImages_A01_C1_F1_s02_w2.TIF</td>\n",
       "      <td>1</td>\n",
       "    </tr>\n",
       "    <tr>\n",
       "      <th>4</th>\n",
       "      <td>SIMCEPImages_A01_C1_F1_s03_w1.TIF</td>\n",
       "      <td>1</td>\n",
       "    </tr>\n",
       "    <tr>\n",
       "      <th>...</th>\n",
       "      <td>...</td>\n",
       "      <td>...</td>\n",
       "    </tr>\n",
       "    <tr>\n",
       "      <th>1195</th>\n",
       "      <td>SIMCEPImages_A24_C100_F1_s23_w2.TIF</td>\n",
       "      <td>100</td>\n",
       "    </tr>\n",
       "    <tr>\n",
       "      <th>1196</th>\n",
       "      <td>SIMCEPImages_A24_C100_F1_s24_w1.TIF</td>\n",
       "      <td>100</td>\n",
       "    </tr>\n",
       "    <tr>\n",
       "      <th>1197</th>\n",
       "      <td>SIMCEPImages_A24_C100_F1_s24_w2.TIF</td>\n",
       "      <td>100</td>\n",
       "    </tr>\n",
       "    <tr>\n",
       "      <th>1198</th>\n",
       "      <td>SIMCEPImages_A24_C100_F1_s25_w1.TIF</td>\n",
       "      <td>100</td>\n",
       "    </tr>\n",
       "    <tr>\n",
       "      <th>1199</th>\n",
       "      <td>SIMCEPImages_A24_C100_F1_s25_w2.TIF</td>\n",
       "      <td>100</td>\n",
       "    </tr>\n",
       "  </tbody>\n",
       "</table>\n",
       "<p>1200 rows × 2 columns</p>\n",
       "</div>"
      ],
      "text/plain": [
       "                                 image_id  nb_cells\n",
       "0       SIMCEPImages_A01_C1_F1_s01_w1.TIF         1\n",
       "1       SIMCEPImages_A01_C1_F1_s01_w2.TIF         1\n",
       "2       SIMCEPImages_A01_C1_F1_s02_w1.TIF         1\n",
       "3       SIMCEPImages_A01_C1_F1_s02_w2.TIF         1\n",
       "4       SIMCEPImages_A01_C1_F1_s03_w1.TIF         1\n",
       "...                                   ...       ...\n",
       "1195  SIMCEPImages_A24_C100_F1_s23_w2.TIF       100\n",
       "1196  SIMCEPImages_A24_C100_F1_s24_w1.TIF       100\n",
       "1197  SIMCEPImages_A24_C100_F1_s24_w2.TIF       100\n",
       "1198  SIMCEPImages_A24_C100_F1_s25_w1.TIF       100\n",
       "1199  SIMCEPImages_A24_C100_F1_s25_w2.TIF       100\n",
       "\n",
       "[1200 rows x 2 columns]"
      ]
     },
     "execution_count": 4,
     "metadata": {},
     "output_type": "execute_result"
    }
   ],
   "source": [
    "mask_or_image = 'mask'  # Variable to determine which dataset to use\n",
    "\n",
    "if mask_or_image == 'mask':\n",
    "    df = mask  # If 'mask' is selected, assign the mask DataFrame to df\n",
    "    # Filter the rows in the DataFrame where 'image_id' contains 'w1' (case insensitive)\n",
    "    #df = df[df['image_id'].str.contains(\"w1\", case=False, na=False)]\n",
    "else:\n",
    "    df = images.copy()  # If 'image' is selected, create a copy of the images DataFrame\n",
    "    # Remove the 'blur' and 'mask' columns from the DataFrame\n",
    "    #df.drop(columns=['blur', 'mask'], inplace=True) \n",
    "    # Uncomment the following line to filter images by 'w1' if needed\n",
    "    # df = df[df['image_id'].str.contains(\"w1\", case=False, na=False)]\n",
    "\n",
    "\n",
    "\n",
    "\n",
    "df  # Display the resulting DataFrame\n"
   ]
  },
  {
   "cell_type": "markdown",
   "metadata": {},
   "source": [
    "**Data Normalization**"
   ]
  },
  {
   "cell_type": "code",
   "execution_count": 5,
   "metadata": {},
   "outputs": [],
   "source": [
    "mean_label= df['nb_cells'].mean()\n",
    "std_label = df['nb_cells'].std()\n",
    "# Centralisation et normalisation de la colonne 'label'\n",
    "df['nb_cells'] = (df['nb_cells'] - df['nb_cells'].mean()) / df['nb_cells'].std()"
   ]
  },
  {
   "cell_type": "markdown",
   "metadata": {},
   "source": [
    "\n",
    "\n",
    "sns.histplot(df['nb_cells'], bins=30, kde=True)  # Plot a histogram with a kernel density estimate (KDE)\n",
    "plt.title(f'distribution on number of cells after normalisation ( mean={mean_label} and std = {std_label})')  # Set the title of the plot\n",
    "plt.xlabel('x')  # Label the x-axis\n",
    "plt.ylabel('Frequency')  # Label the y-axis"
   ]
  },
  {
   "cell_type": "markdown",
   "metadata": {},
   "source": [
    "**Splitting the Dataset into Training and Testing Sets**"
   ]
  },
  {
   "cell_type": "code",
   "execution_count": 6,
   "metadata": {},
   "outputs": [
    {
     "name": "stdout",
     "output_type": "stream",
     "text": [
      "len(df) = 1200\n",
      "len(df_train) = 840\n",
      "len(df_test) = 360\n",
      "df_train =\n",
      "                                  image_id  nb_cells\n",
      "1000   SIMCEPImages_A21_C87_F1_s01_w1.TIF  1.225442\n",
      "1165  SIMCEPImages_A24_C100_F1_s08_w2.TIF  1.661901\n",
      "41      SIMCEPImages_A01_C1_F1_s21_w2.TIF -1.661901\n",
      "866    SIMCEPImages_A18_C74_F1_s09_w1.TIF  0.788983\n",
      "143    SIMCEPImages_A03_C10_F1_s22_w2.TIF -1.359737\n",
      "df_test =\n",
      "                                  image_id  nb_cells\n",
      "1178  SIMCEPImages_A24_C100_F1_s15_w1.TIF  1.661901\n",
      "865    SIMCEPImages_A18_C74_F1_s08_w2.TIF  0.788983\n",
      "101    SIMCEPImages_A03_C10_F1_s01_w2.TIF -1.359737\n",
      "439    SIMCEPImages_A09_C35_F1_s20_w2.TIF -0.520393\n",
      "58      SIMCEPImages_A02_C5_F1_s05_w1.TIF -1.527606\n"
     ]
    }
   ],
   "source": [
    "# Set the fraction of data to be used for testing\n",
    "frac = 0.3  # 20% of the data will be used for the test set\n",
    "# Sample a subset of the DataFrame for testing without replacement\n",
    "df_test = df.sample(frac=frac, replace=False, random_state=42)\n",
    "# Create the training set by dropping the test set entries from the original DataFrame. Then shuffle the remaining data to create the training set\n",
    "df_train = df.drop(df_test.index).sample(frac=1, random_state=42)\n",
    "\n",
    "print('len(df) =', len(df))  # Total number of samples in the original DataFrame\n",
    "print('len(df_train) =', len(df_train))  # Number of samples in the training set\n",
    "print('len(df_test) =', len(df_test))  # Number of samples in the test set\n",
    "\n",
    "print('df_train =\\n', df_train.head())  # Show the first few rows of the training DataFrame\n",
    "print('df_test =\\n', df_test.head())  # Show the first few rows of the testing DataFrame\n"
   ]
  },
  {
   "cell_type": "markdown",
   "metadata": {},
   "source": [
    "**Displaying Dataset Dimensions**"
   ]
  },
  {
   "cell_type": "code",
   "execution_count": 7,
   "metadata": {},
   "outputs": [
    {
     "name": "stdout",
     "output_type": "stream",
     "text": [
      "DataFrame shape: (1200, 2)\n",
      "Number of training samples: 840\n"
     ]
    }
   ],
   "source": [
    "# Print the shape of the DataFrame\n",
    "print(f\"DataFrame shape: {df.shape}\")\n",
    "# Print the length of the training DataFrame\n",
    "print(f\"Number of training samples: {len(df_train)}\")"
   ]
  },
  {
   "cell_type": "markdown",
   "metadata": {},
   "source": [
    "**Displaying Sample Images with Cell Count Annotations**"
   ]
  },
  {
   "cell_type": "code",
   "execution_count": 8,
   "metadata": {},
   "outputs": [
    {
     "name": "stdout",
     "output_type": "stream",
     "text": [
      "tool_kit imported successfully!\n"
     ]
    }
   ],
   "source": [
    "import os\n",
    "import sys\n",
    "path_to_tool_kit = os.path.abspath(r'C:\\abdelhedi khalil\\pj\\cobalt')\n",
    "if path_to_tool_kit not in sys.path:\n",
    "    sys.path.append(path_to_tool_kit)\n",
    "import tool_kit as tk\n",
    "\n",
    "# Vérifiez en appelant une fonction du module\n",
    "try:\n",
    "    tk.set_path_to_dataset(r'C:\\abdelhedi khalil\\pj\\cobalt')  # Remplacez par un chemin d'exemple\n",
    "    print(\"tool_kit imported successfully!\")\n",
    "except AttributeError as e:\n",
    "    print(f\"Erreur d'importation : {e}\")\n"
   ]
  },
  {
   "cell_type": "code",
   "execution_count": null,
   "metadata": {},
   "outputs": [
    {
     "ename": "NameError",
     "evalue": "name 'get_image' is not defined",
     "output_type": "error",
     "traceback": [
      "\u001b[1;31m---------------------------------------------------------------------------\u001b[0m",
      "\u001b[1;31mNameError\u001b[0m                                 Traceback (most recent call last)",
      "Cell \u001b[1;32mIn[9], line 20\u001b[0m\n\u001b[0;32m     18\u001b[0m ax \u001b[38;5;241m=\u001b[39m fig\u001b[38;5;241m.\u001b[39madd_subplot( n_img_to_show \u001b[38;5;241m/\u001b[39m\u001b[38;5;241m/\u001b[39m \u001b[38;5;241m2\u001b[39m,\u001b[38;5;241m2\u001b[39m, i \u001b[38;5;241m+\u001b[39m \u001b[38;5;241m1\u001b[39m, xticks\u001b[38;5;241m=\u001b[39m[], yticks\u001b[38;5;241m=\u001b[39m[])\n\u001b[0;32m     19\u001b[0m \u001b[38;5;66;03m# Get the image using the tk.get_image function and display it\u001b[39;00m\n\u001b[1;32m---> 20\u001b[0m ax\u001b[38;5;241m.\u001b[39mimshow(np\u001b[38;5;241m.\u001b[39msqueeze(get_image(\n\u001b[0;32m     21\u001b[0m     img_id\u001b[38;5;241m=\u001b[39mMatrix[\u001b[38;5;124m'\u001b[39m\u001b[38;5;124mimage_id\u001b[39m\u001b[38;5;124m'\u001b[39m]\u001b[38;5;241m.\u001b[39miloc[indices[i]],\n\u001b[0;32m     22\u001b[0m     img_height\u001b[38;5;241m=\u001b[39mIMG_HEIGHT,\n\u001b[0;32m     23\u001b[0m     img_width\u001b[38;5;241m=\u001b[39mIMG_WIDTH,\n\u001b[0;32m     24\u001b[0m     mask_or_image\u001b[38;5;241m=\u001b[39mmask_or_image\n\u001b[0;32m     25\u001b[0m )), cmap\u001b[38;5;241m=\u001b[39m\u001b[38;5;124m'\u001b[39m\u001b[38;5;124mgray\u001b[39m\u001b[38;5;124m'\u001b[39m)\n\u001b[0;32m     26\u001b[0m \u001b[38;5;66;03m# Set the title of the subplot\u001b[39;00m\n\u001b[0;32m     27\u001b[0m ax\u001b[38;5;241m.\u001b[39mset_title(\u001b[38;5;124mf\u001b[39m\u001b[38;5;124m'\u001b[39m\u001b[38;5;124mimage \u001b[39m\u001b[38;5;132;01m{\u001b[39;00mindices[i]\u001b[38;5;132;01m}\u001b[39;00m\u001b[38;5;124m from the folder \u001b[39m\u001b[38;5;132;01m{\u001b[39;00mmask_or_image\u001b[38;5;132;01m}\u001b[39;00m\u001b[38;5;124m containing \u001b[39m\u001b[38;5;132;01m{\u001b[39;00m\u001b[38;5;28mint\u001b[39m((Matrix[\u001b[38;5;124m\"\u001b[39m\u001b[38;5;124mnb_cells\u001b[39m\u001b[38;5;124m\"\u001b[39m]\u001b[38;5;241m.\u001b[39miloc[indices[i]])\u001b[38;5;241m*\u001b[39mstd_label\u001b[38;5;241m+\u001b[39mmean_label)\u001b[38;5;132;01m}\u001b[39;00m\u001b[38;5;124m cells\u001b[39m\u001b[38;5;124m'\u001b[39m)\n",
      "\u001b[1;31mNameError\u001b[0m: name 'get_image' is not defined"
     ]
    },
    {
     "ename": "",
     "evalue": "",
     "output_type": "error",
     "traceback": [
      "\u001b[1;31mThe Kernel crashed while executing code in the current cell or a previous cell. \n",
      "\u001b[1;31mPlease review the code in the cell(s) to identify a possible cause of the failure. \n",
      "\u001b[1;31mClick <a href='https://aka.ms/vscodeJupyterKernelCrash'>here</a> for more info. \n",
      "\u001b[1;31mView Jupyter <a href='command:jupyter.viewOutput'>log</a> for further details."
     ]
    }
   ],
   "source": [
    "#Set the image height and width\n",
    "IMG_HEIGHT = 128\n",
    "IMG_WIDTH = 128\n",
    "# Assign the training DataFrame to Matrix\n",
    "Matrix = df_train\n",
    "# Number of images to show\n",
    "n_img_to_show = 8\n",
    "# Create a figure with a specified size\n",
    "fig = plt.figure(figsize=(15, 5*n_img_to_show ))\n",
    "# Create a list of indices based on the length of the Matrix\n",
    "indices = list(range(len(Matrix)))\n",
    "# Shuffle the indices randomly\n",
    "np.random.shuffle(indices)\n",
    "# Loop through the number of images to show\n",
    "for i in range(n_img_to_show):\n",
    "    # Add a subplot to the figure\n",
    "    ax = fig.add_subplot( n_img_to_show // 2,2, i + 1, xticks=[], yticks=[])\n",
    "    # Get the image using the tk.get_image function and display it\n",
    "    ax.imshow(np.squeeze(tk.get_image(\n",
    "        img_id=Matrix['image_id'].iloc[indices[i]],\n",
    "        img_height=IMG_HEIGHT,\n",
    "        img_width=IMG_WIDTH,\n",
    "        mask_or_image=mask_or_image\n",
    "    )), cmap='gray')\n",
    "    # Set the title of the subplot\n",
    "    ax.set_title(f'image {indices[i]} from the folder {mask_or_image} containing {int((Matrix[\"nb_cells\"].iloc[indices[i]])*std_label+mean_label)} cells')\n",
    "# Show the figure\n",
    "plt.show()"
   ]
  },
  {
   "cell_type": "markdown",
   "metadata": {},
   "source": [
    "**Data Loader Creation for Training, Validation, and Testing**"
   ]
  },
  {
   "cell_type": "code",
   "execution_count": 69,
   "metadata": {},
   "outputs": [],
   "source": [
    "# Define batch size and validation size\n",
    "batch_size = 20  # Number of samples per batch to load  # mettre en puissance de 2 #plus batch size est grand plus learn rate est peut etre elevée \n",
    "valid_size = 0.25  # Percentage of training set to use as validation\n",
    "\n",
    "# Function to create data loaders for training, validation, and testing\n",
    "def create_data_loaders(batch_size, valid_size, train_data, test_data):\n",
    "  # Create a data loader for the test dataset\n",
    "  test_loader = torch.utils.data.DataLoader(test_data, batch_size=batch_size)\n",
    "  # Generate a list of indices for the training data and shuffle them\n",
    "  indices = list(range(len(train_data)))\n",
    "  np.random.shuffle(indices)\n",
    "  # Calculate the split index for validation data\n",
    "  split = int(np.floor(valid_size * len(train_data)))\n",
    "  # Split the indices into training and validation indices\n",
    "  train_indexes, valid_indexes = indices[split:], indices[:split]\n",
    "  # Create samplers for validation and training data\n",
    "  valid_samplers = SubsetRandomSampler(valid_indexes)\n",
    "  train_samplers = SubsetRandomSampler(train_indexes)\n",
    "  # Create data loaders for validation and training data using the samplers\n",
    "  valid_loader = torch.utils.data.DataLoader(train_data, batch_size=batch_size, sampler=valid_samplers)\n",
    "  train_loader = torch.utils.data.DataLoader(train_data, batch_size=batch_size, sampler=train_samplers)\n",
    "  # Return the data loaders\n",
    "  return train_loader, valid_loader, test_loader\n",
    "\n",
    "\n"
   ]
  },
  {
   "cell_type": "markdown",
   "metadata": {},
   "source": [
    "**Image Transformation and DataLoader Setup**"
   ]
  },
  {
   "cell_type": "code",
   "execution_count": 70,
   "metadata": {},
   "outputs": [],
   "source": [
    "# Define the transformation to be applied to the images\n",
    "transform = transforms.Compose([\n",
    "    transforms.ToTensor(),  # Convert the image to a tensor\n",
    "    transforms.Resize((IMG_HEIGHT, IMG_WIDTH))  # Resize the image to the desired dimensions\n",
    "])\n",
    "# Create the training dataset using the custom dataset class and the defined transformation\n",
    "train_data = CustomDataset(df_train, transform=transform)\n",
    "train_data.set_path_to_dataset('..')  # Set the path to the dataset for the training data\n",
    "# Create the testing dataset using the custom dataset class and the defined transformation\n",
    "test_data = CustomDataset(df_test, transform=transform)\n",
    "test_data.set_path_to_dataset('..')  # Set the path to the dataset for the testing data\n",
    "# Create data loaders for training, validation, and testing datasets\n",
    "train_loader, valid_loader, test_loader = create_data_loaders(batch_size, valid_size, train_data, test_data)"
   ]
  },
  {
   "cell_type": "code",
   "execution_count": 71,
   "metadata": {},
   "outputs": [
    {
     "name": "stdout",
     "output_type": "stream",
     "text": [
      "tensor([[[0.0021, 0.0008, 0.0039,  ..., 0.1301, 0.0080, 0.0068],\n",
      "         [0.0017, 0.0022, 0.0071,  ..., 0.2547, 0.0157, 0.0079],\n",
      "         [0.0028, 0.0068, 0.0121,  ..., 0.3191, 0.0210, 0.0072],\n",
      "         ...,\n",
      "         [0.0021, 0.0052, 0.0036,  ..., 0.0078, 0.0213, 0.0273],\n",
      "         [0.0031, 0.0043, 0.0034,  ..., 0.0050, 0.0036, 0.0082],\n",
      "         [0.0029, 0.0037, 0.0023,  ..., 0.0089, 0.0094, 0.0134]]])\n"
     ]
    },
    {
     "data": {
      "text/plain": [
       "tensor(0.8643)"
      ]
     },
     "execution_count": 71,
     "metadata": {},
     "output_type": "execute_result"
    }
   ],
   "source": [
    "print(train_data.__getitem__(100)[0])\n",
    "torch.max(train_data.__getitem__(100)[0])"
   ]
  },
  {
   "cell_type": "markdown",
   "metadata": {},
   "source": [
    "**Training Function for Neural Network**"
   ]
  },
  {
   "cell_type": "code",
   "execution_count": 72,
   "metadata": {},
   "outputs": [],
   "source": [
    "\n",
    "\n",
    "def training(n_epochs, train_loader, valid_loader, model, criterion, optimizer, name):\n",
    "  \"\"\"\n",
    "    Train and validate the model.\n",
    "\n",
    "    Parameters:\n",
    "    n_epochs (int): Number of epochs to train the model.\n",
    "    train_loader (DataLoader): DataLoader for the training data.\n",
    "    valid_loader (DataLoader): DataLoader for the validation data.\n",
    "    model (nn.Module): The neural network model to train.\n",
    "    criterion (nn.Module): The loss function.\n",
    "    optimizer (torch.optim.Optimizer): The optimizer.\n",
    "\n",
    "    Returns:\n",
    "    train_losses (list): List of training losses for each epoch.\n",
    "    valid_losses (list): List of validation losses for each epoch.\n",
    "    \"\"\"\n",
    "  train_losses, valid_losses = [], []\n",
    "  # initialize tracker for minimum validation loss\n",
    "  valid_loss_min = np.inf  # set initial \"min\" to infinity\n",
    "\n",
    "  for epoch in range(n_epochs):\n",
    "      \n",
    "      train_loss, valid_loss = 0, 0 # monitor losses\n",
    "\n",
    "      # train the model\n",
    "      model.train() # prep model for training\n",
    "      for data, label in train_loader:\n",
    "          \n",
    "          data = data.to(device=device, dtype=torch.float32)\n",
    "          label = label.to(device=device, dtype=torch.float32)\n",
    "          \n",
    "          optimizer.zero_grad()\n",
    "          output=model(data)\n",
    "          #print('label=',label,'\\n','output=',output)\n",
    "          output= output.view(-1)\n",
    "          loss=criterion(output,label)\n",
    "          loss.backward()\n",
    "          optimizer.step()\n",
    "          train_loss += loss.item() * data.size(0) # update running training loss\n",
    "      \n",
    "      # validate the model\n",
    "      model.eval()\n",
    "      for data, label in valid_loader:\n",
    "        data = data.to(device=device, dtype=torch.float32)\n",
    "        label = label.to(device=device, dtype=torch.float32)\n",
    "\n",
    "        with torch.no_grad():\n",
    "          output=model( data)\n",
    "          \n",
    "        output= output.view(-1)\n",
    "        loss=criterion(label,output)\n",
    "        valid_loss += loss.item() * data.size(0)\n",
    "    \n",
    "      # calculate average loss over an epoch\n",
    "      train_loss /= len(train_loader.sampler)\n",
    "      valid_loss /= len(valid_loader.sampler)\n",
    "      train_losses.append(train_loss)\n",
    "      valid_losses.append(valid_loss)\n",
    "\n",
    "      print('epoch: {} \\ttraining Loss: {:.6f} \\tvalidation Loss: {:.6f}'.format(epoch+1, train_loss, valid_loss))\n",
    "      \n",
    "      # save model if validation loss has decreased\n",
    "      if valid_loss <= valid_loss_min:\n",
    "          print('validation loss decreased ({:.6f} --> {:.6f}).  Saving model ...'.format(\n",
    "          valid_loss_min,\n",
    "          valid_loss))\n",
    "          torch.save(model.state_dict(), name)\n",
    "          valid_loss_min = valid_loss\n",
    "\n",
    "  return train_losses, valid_losses"
   ]
  },
  {
   "cell_type": "markdown",
   "metadata": {},
   "source": [
    "**Evaluation Function for Neural Network**"
   ]
  },
  {
   "cell_type": "code",
   "execution_count": 73,
   "metadata": {},
   "outputs": [],
   "source": [
    "def evaluation(model, test_loader, criterion):\n",
    "\n",
    "  # initialize lists to monitor test loss and accuracy\n",
    "  test_loss = 0.0\n",
    "  class_correct = list(0. for i in range(101))\n",
    "  class_total = list(0. for i in range(101))\n",
    "  #creat a empty dict of 101 elements\n",
    "  dict={}\n",
    "  for i in range(1,101):\n",
    "      dict[i]=[]\n",
    "  model.eval() # prep model for evaluation\n",
    "  for data, label in test_loader:\n",
    "      data = data.to(device=device, dtype=torch.float32)\n",
    "      label = label.to(device=device, dtype=torch.float32)\n",
    "      \n",
    "      with torch.no_grad():\n",
    "          output = model(data) # forward pass: compute predicted outputs by passing inputs to the model\n",
    "      \n",
    "      loss = criterion(output, label)\n",
    "\n",
    "      test_loss += loss.item()*data.size(0)\n",
    "      \n",
    "      pred = (output*std_label+mean_label) # convert output probabilities to predicted class\n",
    "      \n",
    "      correct = np.squeeze(pred.eq(label.data.view_as(pred))) # compare predictions to true label\n",
    "      # calculate test accuracy for each object class\n",
    "      for i in range(len(label)):\n",
    "          number_expected = int(label.data[i]*std_label+mean_label)\n",
    "          \n",
    "          class_correct[number_expected] += correct[i].item()\n",
    "          class_total[number_expected] += 1\n",
    "          \n",
    "          \n",
    "          \n",
    "          dict[number_expected].append(int(pred[i]))\n",
    "      \n",
    "  \n",
    "  #print and return the results\n",
    "  for i in range(100):\n",
    "     if class_total[i] > 0 : \n",
    "        print( 'For the true value ', i, 'the predicted values are ', dict[i])\n",
    "  # calculate and print avg test loss\n",
    "  test_loss = test_loss/len(test_loader.sampler)\n",
    "  print('test Loss: {:.6f}\\n'.format(test_loss))\n",
    "  for i in range(100):\n",
    "      if class_total[i] > 0:\n",
    "        accuracy = 100 * class_correct[i] / class_total[i]\n",
    "        print('Test accuracy of %1s: %2.2f%% (%2d/%2d)' % (str(i), accuracy, np.sum(class_correct[i]), np.sum(class_total[i])))\n",
    "      #else: \n",
    "        #print('Test accuracy of %1s: N/A (0/0)' % str(i))\n",
    "\n",
    "  print('\\ntest accuracy (overall): %2.2f%% (%2d/%2d)' % (100. * np.sum(class_correct) / np.sum(class_total), np.sum(class_correct), np.sum(class_total)))"
   ]
  },
  {
   "cell_type": "markdown",
   "metadata": {},
   "source": [
    "**KAGGLE_CNN Class Overview**"
   ]
  },
  {
   "cell_type": "code",
   "execution_count": 74,
   "metadata": {},
   "outputs": [],
   "source": [
    "import torch\n",
    "import torch.nn as nn\n",
    "import torch.nn.functional as F\n",
    "\n",
    "class SimpleResNet(nn.Module):\n",
    "    def __init__(self, img_height=128, img_width=128, img_channels=1, num_classes=100):\n",
    "        super(SimpleResNet, self).__init__()\n",
    "        \n",
    "        \n",
    "    \n",
    "\n",
    "    \n",
    "    def forward(self, x):\n",
    "        \n",
    "        \n",
    "        return x\n"
   ]
  },
  {
   "cell_type": "code",
   "execution_count": null,
   "metadata": {},
   "outputs": [],
   "source": [
    "import torch\n",
    "import torch.nn as nn\n",
    "import torch.nn.functional as F\n",
    "\n",
    "class SimpleResNet(nn.Module):\n",
    "    def __init__(self, img_height=128, img_width=128, img_channels=1, num_classes=100):\n",
    "        super(SimpleResNet, self).__init__()\n",
    "        \n",
    "        # Initial convolutional layer\n",
    "        self.conv1 = nn.Conv2d(img_channels, 64, kernel_size=7, stride=2, padding=3)\n",
    "        self.bn1 = nn.BatchNorm2d(64)\n",
    "        self.pool1 = nn.MaxPool2d(kernel_size=3, stride=2, padding=1)\n",
    "        \n",
    "        # Residual layers\n",
    "        self.layer1 = self._make_layer(64, 64, 2)\n",
    "        self.layer2 = self._make_layer(64, 128, 2, stride=2)\n",
    "        self.layer3 = self._make_layer(128, 256, 2, stride=2)\n",
    "        self.layer4 = self._make_layer(256, 512, 2, stride=2)\n",
    "        \n",
    "        # Calculate flattened size for fully connected layers\n",
    "        self.flattened_size = self._calculate_flattened_size(img_height, img_width)\n",
    "        \n",
    "        # Fully connected layers\n",
    "        self.fc1 = nn.Linear(512, 512) #self.flattened_size, 512)\n",
    "        self.fc2 = nn.Linear(512, num_classes)\n",
    "        self.fc3 = nn.Linear(num_classes, 1)\n",
    "    \n",
    "    def _make_layer(self, in_channels, out_channels, num_blocks, stride=1):\n",
    "        layers = []\n",
    "        layers.append(self._residual_block(in_channels, out_channels, stride))\n",
    "        for _ in range(1, num_blocks):\n",
    "            layers.append(self._residual_block(out_channels, out_channels))\n",
    "        return nn.Sequential(*layers)\n",
    "    \n",
    "    def _residual_block(self, in_channels, out_channels, stride=1):\n",
    "        downsample = None\n",
    "        if stride != 1 or in_channels != out_channels:\n",
    "            downsample = nn.Sequential(\n",
    "                nn.Conv2d( in_channels,out_channels, kernel_size=1, stride=stride),\n",
    "                nn.BatchNorm2d(out_channels)\n",
    "            )\n",
    "        \n",
    "        \n",
    "        \n",
    "        if downsample:\n",
    "            layers=[]\n",
    "            layers.append(downsample)\n",
    "            layers.extend([\n",
    "            nn.Conv2d(out_channels, out_channels, kernel_size=3, stride=stride, padding=1),\n",
    "            nn.BatchNorm2d(out_channels),\n",
    "            nn.ReLU(inplace=True),\n",
    "            nn.Conv2d(out_channels, out_channels, kernel_size=3, stride=1, padding=1),\n",
    "            nn.BatchNorm2d(out_channels)])\n",
    "            \n",
    "        else: \n",
    "            layers = [\n",
    "            nn.Conv2d(in_channels, out_channels, kernel_size=3, stride=stride, padding=1),\n",
    "            nn.BatchNorm2d(out_channels),\n",
    "            nn.ReLU(inplace=True),\n",
    "            nn.Conv2d(out_channels, out_channels, kernel_size=3, stride=1, padding=1),\n",
    "            nn.BatchNorm2d(out_channels)]\n",
    "        \n",
    "        return nn.Sequential(*layers)\n",
    "    \n",
    "    def _calculate_flattened_size(self, height, width):\n",
    "        # Applying 4 downsampling layers in the network, each reducing size by roughly half\n",
    "        for _ in range(4):\n",
    "            height = (height + 1) // 2\n",
    "            width = (width + 1) // 2\n",
    "        return height * width * 512  # `512` is the output channels from the last residual layer\n",
    "\n",
    "    def forward(self, x):\n",
    "        x = F.relu(self.bn1(self.conv1(x)))\n",
    "        \n",
    "        x = self.pool1(x)\n",
    "        \n",
    "        print(x.shape)\n",
    "        x = self.layer1(x)\n",
    "        print(x.shape)\n",
    "        x = self.layer2(x)\n",
    "        \n",
    "        x = self.layer3(x)\n",
    "        x = self.layer4(x)\n",
    "        \n",
    "        #x = F.adaptive_avg_pool2d(x, (1, 1))  # Global average pooling\n",
    "        \n",
    "        x = x.view(x.size(0), -1)  \n",
    "\n",
    "       \n",
    "        \n",
    "        x = F.relu(self.fc1(x))\n",
    "        x = F.relu(self.fc2(x))\n",
    "        x = self.fc3(x)\n",
    "        \n",
    "        return x\n"
   ]
  },
  {
   "cell_type": "markdown",
   "metadata": {},
   "source": [
    "**Device Setup for PyTorch**"
   ]
  },
  {
   "cell_type": "code",
   "execution_count": 109,
   "metadata": {},
   "outputs": [
    {
     "name": "stdout",
     "output_type": "stream",
     "text": [
      "Using device cpu\n"
     ]
    }
   ],
   "source": [
    "device = torch.device('cuda' if torch.cuda.is_available() else 'cpu')\n",
    "print('Using device '+str(device))"
   ]
  },
  {
   "cell_type": "markdown",
   "metadata": {},
   "source": [
    "**Initialisation et transfert du modèle CNN**"
   ]
  },
  {
   "cell_type": "code",
   "execution_count": 110,
   "metadata": {},
   "outputs": [
    {
     "name": "stdout",
     "output_type": "stream",
     "text": [
      "32768\n"
     ]
    },
    {
     "data": {
      "text/plain": [
       "SimpleResNet(\n",
       "  (conv1): Conv2d(1, 64, kernel_size=(7, 7), stride=(2, 2), padding=(3, 3))\n",
       "  (bn1): BatchNorm2d(64, eps=1e-05, momentum=0.1, affine=True, track_running_stats=True)\n",
       "  (pool1): MaxPool2d(kernel_size=3, stride=2, padding=1, dilation=1, ceil_mode=False)\n",
       "  (layer1): Sequential(\n",
       "    (0): Sequential(\n",
       "      (0): Conv2d(64, 64, kernel_size=(3, 3), stride=(1, 1), padding=(1, 1))\n",
       "      (1): BatchNorm2d(64, eps=1e-05, momentum=0.1, affine=True, track_running_stats=True)\n",
       "      (2): ReLU(inplace=True)\n",
       "      (3): Conv2d(64, 64, kernel_size=(3, 3), stride=(1, 1), padding=(1, 1))\n",
       "      (4): BatchNorm2d(64, eps=1e-05, momentum=0.1, affine=True, track_running_stats=True)\n",
       "    )\n",
       "    (1): Sequential(\n",
       "      (0): Conv2d(64, 64, kernel_size=(3, 3), stride=(1, 1), padding=(1, 1))\n",
       "      (1): BatchNorm2d(64, eps=1e-05, momentum=0.1, affine=True, track_running_stats=True)\n",
       "      (2): ReLU(inplace=True)\n",
       "      (3): Conv2d(64, 64, kernel_size=(3, 3), stride=(1, 1), padding=(1, 1))\n",
       "      (4): BatchNorm2d(64, eps=1e-05, momentum=0.1, affine=True, track_running_stats=True)\n",
       "    )\n",
       "  )\n",
       "  (layer2): Sequential(\n",
       "    (0): Sequential(\n",
       "      (0): Sequential(\n",
       "        (0): Conv2d(64, 128, kernel_size=(1, 1), stride=(2, 2))\n",
       "        (1): BatchNorm2d(128, eps=1e-05, momentum=0.1, affine=True, track_running_stats=True)\n",
       "      )\n",
       "      (1): Conv2d(128, 128, kernel_size=(3, 3), stride=(2, 2), padding=(1, 1))\n",
       "      (2): BatchNorm2d(128, eps=1e-05, momentum=0.1, affine=True, track_running_stats=True)\n",
       "      (3): ReLU(inplace=True)\n",
       "      (4): Conv2d(128, 128, kernel_size=(3, 3), stride=(1, 1), padding=(1, 1))\n",
       "      (5): BatchNorm2d(128, eps=1e-05, momentum=0.1, affine=True, track_running_stats=True)\n",
       "    )\n",
       "    (1): Sequential(\n",
       "      (0): Conv2d(128, 128, kernel_size=(3, 3), stride=(1, 1), padding=(1, 1))\n",
       "      (1): BatchNorm2d(128, eps=1e-05, momentum=0.1, affine=True, track_running_stats=True)\n",
       "      (2): ReLU(inplace=True)\n",
       "      (3): Conv2d(128, 128, kernel_size=(3, 3), stride=(1, 1), padding=(1, 1))\n",
       "      (4): BatchNorm2d(128, eps=1e-05, momentum=0.1, affine=True, track_running_stats=True)\n",
       "    )\n",
       "  )\n",
       "  (layer3): Sequential(\n",
       "    (0): Sequential(\n",
       "      (0): Sequential(\n",
       "        (0): Conv2d(128, 256, kernel_size=(1, 1), stride=(2, 2))\n",
       "        (1): BatchNorm2d(256, eps=1e-05, momentum=0.1, affine=True, track_running_stats=True)\n",
       "      )\n",
       "      (1): Conv2d(256, 256, kernel_size=(3, 3), stride=(2, 2), padding=(1, 1))\n",
       "      (2): BatchNorm2d(256, eps=1e-05, momentum=0.1, affine=True, track_running_stats=True)\n",
       "      (3): ReLU(inplace=True)\n",
       "      (4): Conv2d(256, 256, kernel_size=(3, 3), stride=(1, 1), padding=(1, 1))\n",
       "      (5): BatchNorm2d(256, eps=1e-05, momentum=0.1, affine=True, track_running_stats=True)\n",
       "    )\n",
       "    (1): Sequential(\n",
       "      (0): Conv2d(256, 256, kernel_size=(3, 3), stride=(1, 1), padding=(1, 1))\n",
       "      (1): BatchNorm2d(256, eps=1e-05, momentum=0.1, affine=True, track_running_stats=True)\n",
       "      (2): ReLU(inplace=True)\n",
       "      (3): Conv2d(256, 256, kernel_size=(3, 3), stride=(1, 1), padding=(1, 1))\n",
       "      (4): BatchNorm2d(256, eps=1e-05, momentum=0.1, affine=True, track_running_stats=True)\n",
       "    )\n",
       "  )\n",
       "  (layer4): Sequential(\n",
       "    (0): Sequential(\n",
       "      (0): Sequential(\n",
       "        (0): Conv2d(256, 512, kernel_size=(1, 1), stride=(2, 2))\n",
       "        (1): BatchNorm2d(512, eps=1e-05, momentum=0.1, affine=True, track_running_stats=True)\n",
       "      )\n",
       "      (1): Conv2d(512, 512, kernel_size=(3, 3), stride=(2, 2), padding=(1, 1))\n",
       "      (2): BatchNorm2d(512, eps=1e-05, momentum=0.1, affine=True, track_running_stats=True)\n",
       "      (3): ReLU(inplace=True)\n",
       "      (4): Conv2d(512, 512, kernel_size=(3, 3), stride=(1, 1), padding=(1, 1))\n",
       "      (5): BatchNorm2d(512, eps=1e-05, momentum=0.1, affine=True, track_running_stats=True)\n",
       "    )\n",
       "    (1): Sequential(\n",
       "      (0): Conv2d(512, 512, kernel_size=(3, 3), stride=(1, 1), padding=(1, 1))\n",
       "      (1): BatchNorm2d(512, eps=1e-05, momentum=0.1, affine=True, track_running_stats=True)\n",
       "      (2): ReLU(inplace=True)\n",
       "      (3): Conv2d(512, 512, kernel_size=(3, 3), stride=(1, 1), padding=(1, 1))\n",
       "      (4): BatchNorm2d(512, eps=1e-05, momentum=0.1, affine=True, track_running_stats=True)\n",
       "    )\n",
       "  )\n",
       "  (fc1): Linear(in_features=512, out_features=512, bias=True)\n",
       "  (fc2): Linear(in_features=512, out_features=100, bias=True)\n",
       "  (fc3): Linear(in_features=100, out_features=1, bias=True)\n",
       ")"
      ]
     },
     "execution_count": 110,
     "metadata": {},
     "output_type": "execute_result"
    }
   ],
   "source": [
    "CNN_2 = SimpleResNet( img_height=128, img_width=128, img_channels=1, num_classes=100 )\n",
    "CNN_2.to(device=device)  "
   ]
  },
  {
   "cell_type": "markdown",
   "metadata": {},
   "source": [
    "**Visualizing the First Image and Its Label in the Training Dataset**"
   ]
  },
  {
   "cell_type": "code",
   "execution_count": 111,
   "metadata": {},
   "outputs": [
    {
     "data": {
      "image/png": "[encoded data removed]",
      "text/plain": [
       "<Figure size 640x480 with 1 Axes>"
      ]
     },
     "metadata": {},
     "output_type": "display_data"
    }
   ],
   "source": [
    "# Visualize the item\n",
    "image, label = train_data.__getitem__(0)\n",
    "plt.imshow(image.permute(1, 2, 0), cmap='gray')\n",
    "plt.title(f'Label: {label*std_label+mean_label}')\n",
    "plt.show()"
   ]
  },
  {
   "cell_type": "markdown",
   "metadata": {},
   "source": [
    "**Model Summary for CNN_2**"
   ]
  },
  {
   "cell_type": "code",
   "execution_count": 112,
   "metadata": {},
   "outputs": [
    {
     "name": "stdout",
     "output_type": "stream",
     "text": [
      "----------------------------------------------------------------\n",
      "        Layer (type)               Output Shape         Param #\n",
      "================================================================\n",
      "            Conv2d-1           [-1, 64, 64, 64]           3,200\n",
      "       BatchNorm2d-2           [-1, 64, 64, 64]             128\n",
      "         MaxPool2d-3           [-1, 64, 32, 32]               0\n",
      "            Conv2d-4           [-1, 64, 32, 32]          36,928\n",
      "       BatchNorm2d-5           [-1, 64, 32, 32]             128\n",
      "              ReLU-6           [-1, 64, 32, 32]               0\n",
      "            Conv2d-7           [-1, 64, 32, 32]          36,928\n",
      "       BatchNorm2d-8           [-1, 64, 32, 32]             128\n",
      "            Conv2d-9           [-1, 64, 32, 32]          36,928\n",
      "      BatchNorm2d-10           [-1, 64, 32, 32]             128\n",
      "             ReLU-11           [-1, 64, 32, 32]               0\n",
      "           Conv2d-12           [-1, 64, 32, 32]          36,928\n",
      "      BatchNorm2d-13           [-1, 64, 32, 32]             128\n",
      "           Conv2d-14          [-1, 128, 16, 16]           8,320\n",
      "      BatchNorm2d-15          [-1, 128, 16, 16]             256\n",
      "           Conv2d-16            [-1, 128, 8, 8]         147,584\n",
      "      BatchNorm2d-17            [-1, 128, 8, 8]             256\n",
      "             ReLU-18            [-1, 128, 8, 8]               0\n",
      "           Conv2d-19            [-1, 128, 8, 8]         147,584\n",
      "      BatchNorm2d-20            [-1, 128, 8, 8]             256\n",
      "           Conv2d-21            [-1, 128, 8, 8]         147,584\n",
      "      BatchNorm2d-22            [-1, 128, 8, 8]             256\n",
      "             ReLU-23            [-1, 128, 8, 8]               0\n",
      "           Conv2d-24            [-1, 128, 8, 8]         147,584\n",
      "      BatchNorm2d-25            [-1, 128, 8, 8]             256\n",
      "           Conv2d-26            [-1, 256, 4, 4]          33,024\n",
      "      BatchNorm2d-27            [-1, 256, 4, 4]             512\n",
      "           Conv2d-28            [-1, 256, 2, 2]         590,080\n",
      "      BatchNorm2d-29            [-1, 256, 2, 2]             512\n",
      "             ReLU-30            [-1, 256, 2, 2]               0\n",
      "           Conv2d-31            [-1, 256, 2, 2]         590,080\n",
      "      BatchNorm2d-32            [-1, 256, 2, 2]             512\n",
      "           Conv2d-33            [-1, 256, 2, 2]         590,080\n",
      "      BatchNorm2d-34            [-1, 256, 2, 2]             512\n",
      "             ReLU-35            [-1, 256, 2, 2]               0\n",
      "           Conv2d-36            [-1, 256, 2, 2]         590,080\n",
      "      BatchNorm2d-37            [-1, 256, 2, 2]             512\n",
      "           Conv2d-38            [-1, 512, 1, 1]         131,584\n",
      "      BatchNorm2d-39            [-1, 512, 1, 1]           1,024\n",
      "           Conv2d-40            [-1, 512, 1, 1]       2,359,808\n",
      "      BatchNorm2d-41            [-1, 512, 1, 1]           1,024\n",
      "             ReLU-42            [-1, 512, 1, 1]               0\n",
      "           Conv2d-43            [-1, 512, 1, 1]       2,359,808\n",
      "      BatchNorm2d-44            [-1, 512, 1, 1]           1,024\n",
      "           Conv2d-45            [-1, 512, 1, 1]       2,359,808\n",
      "      BatchNorm2d-46            [-1, 512, 1, 1]           1,024\n",
      "             ReLU-47            [-1, 512, 1, 1]               0\n",
      "           Conv2d-48            [-1, 512, 1, 1]       2,359,808\n",
      "      BatchNorm2d-49            [-1, 512, 1, 1]           1,024\n",
      "           Linear-50                  [-1, 512]         262,656\n",
      "           Linear-51                  [-1, 100]          51,300\n",
      "           Linear-52                    [-1, 1]             101\n",
      "================================================================\n",
      "Total params: 13,037,385\n",
      "Trainable params: 13,037,385\n",
      "Non-trainable params: 0\n",
      "----------------------------------------------------------------\n",
      "Input size (MB): 0.06\n",
      "Forward/backward pass size (MB): 10.82\n",
      "Params size (MB): 49.73\n",
      "Estimated Total Size (MB): 60.61\n",
      "----------------------------------------------------------------\n"
     ]
    }
   ],
   "source": [
    "#get the sumamry \n",
    "summary(CNN_2, input_size=(1, IMG_HEIGHT, IMG_WIDTH))  # Explicitly set batch_size=1 # channels, height, width )"
   ]
  },
  {
   "cell_type": "markdown",
   "metadata": {},
   "source": [
    "**Define Loss Function and Optimizer**"
   ]
  },
  {
   "cell_type": "code",
   "execution_count": 113,
   "metadata": {},
   "outputs": [],
   "source": [
    "# Define the loss function as Mean Squared Error Loss\n",
    "criterion = nn.MSELoss()\n",
    "\n",
    "# Alternatively, you can use Smooth L1 Loss by uncommenting the following line\n",
    "# criterion = nn.SmoothL1Loss()\n",
    "\n",
    "# Define the optimizer as Adam with a learning rate of 0.001\n",
    "optimizer = torch.optim.Adam(CNN_2.parameters(), lr=0.001)"
   ]
  },
  {
   "cell_type": "markdown",
   "metadata": {},
   "source": [
    "**Define Training Loop with Validation**"
   ]
  },
  {
   "cell_type": "code",
   "execution_count": 114,
   "metadata": {},
   "outputs": [],
   "source": [
    "\n",
    "def training(n_epochs, train_loader, valid_loader, model, criterion, optimizer, name):\n",
    "\n",
    "  train_losses, valid_losses = [], []\n",
    "  # initialize tracker for minimum validation loss\n",
    "  valid_loss_min = np.inf  # set initial \"min\" to infinity\n",
    "\n",
    "  for epoch in range(n_epochs):\n",
    "      \n",
    "      train_loss, valid_loss = 0, 0 # monitor losses\n",
    "\n",
    "      # train the model\n",
    "      model.train() # prep model for training\n",
    "      for data, label in train_loader:\n",
    "          \n",
    "          data = data.to(device=device, dtype=torch.float32)\n",
    "          label = label.to(device=device, dtype=torch.float32)\n",
    "          optimizer.zero_grad()\n",
    "          output=model(data)\n",
    "          output= output.view(-1)\n",
    "          loss=criterion(output,label)\n",
    "          loss.backward()\n",
    "          optimizer.step()\n",
    "          train_loss += loss.item() * data.size(0) # update running training loss\n",
    "      \n",
    "      # validate the model\n",
    "      model.eval()\n",
    "      for data, label in valid_loader:\n",
    "          \n",
    "          \n",
    "          data = data.to(device=device, dtype=torch.float32)\n",
    "          label = label.to(device=device, dtype=torch.float32)\n",
    "          with torch.no_grad():\n",
    "              output=model( data)\n",
    "              output= output.view(-1)\n",
    "          loss=criterion(output,label)\n",
    "          valid_loss += loss.item() * data.size(0)\n",
    "    \n",
    "      # calculate average loss over an epoch\n",
    "      train_loss /= len(train_loader.sampler)\n",
    "      valid_loss /= len(valid_loader.sampler)\n",
    "      train_losses.append(train_loss)\n",
    "      valid_losses.append(valid_loss)\n",
    "\n",
    "      print('epoch: {} \\ttraining Loss: {:.6f} \\tvalidation Loss: {:.6f}'.format(epoch+1, train_loss, valid_loss))\n",
    "\n",
    "      # save model if validation loss has decreased\n",
    "      if valid_loss <= valid_loss_min:\n",
    "          print('validation loss decreased ({:.6f} --> {:.6f}).  Saving model ...'.format(\n",
    "          valid_loss_min,\n",
    "          valid_loss))\n",
    "          torch.save(model.state_dict(), name)\n",
    "          valid_loss_min = valid_loss\n",
    "\n",
    "  return train_losses, valid_losses"
   ]
  },
  {
   "cell_type": "markdown",
   "metadata": {},
   "source": [
    "**Training and Evaluation with Different Learning Rates and Dropout Settings**"
   ]
  },
  {
   "cell_type": "code",
   "execution_count": 115,
   "metadata": {},
   "outputs": [
    {
     "name": "stdout",
     "output_type": "stream",
     "text": [
      "For the dataset mask, start the experience for the learning rate 0.001, for the dropout_conv 0.3   :\n",
      "32768\n",
      "epoch: 1 \ttraining Loss: 0.316890 \tvalidation Loss: 5.853975\n",
      "validation loss decreased (inf --> 5.853975).  Saving model ...\n",
      "epoch: 2 \ttraining Loss: 0.149636 \tvalidation Loss: 0.119485\n",
      "validation loss decreased (5.853975 --> 0.119485).  Saving model ...\n",
      "epoch: 3 \ttraining Loss: 0.155696 \tvalidation Loss: 0.213969\n",
      "epoch: 4 \ttraining Loss: 0.142856 \tvalidation Loss: 0.220748\n",
      "epoch: 5 \ttraining Loss: 0.122861 \tvalidation Loss: 0.141790\n",
      "epoch: 6 \ttraining Loss: 0.126935 \tvalidation Loss: 0.142234\n",
      "epoch: 7 \ttraining Loss: 0.132841 \tvalidation Loss: 0.439471\n",
      "epoch: 8 \ttraining Loss: 0.125156 \tvalidation Loss: 13.576638\n",
      "epoch: 9 \ttraining Loss: 0.168244 \tvalidation Loss: 0.064175\n",
      "validation loss decreased (0.119485 --> 0.064175).  Saving model ...\n",
      "epoch: 10 \ttraining Loss: 0.118696 \tvalidation Loss: 0.047761\n",
      "validation loss decreased (0.064175 --> 0.047761).  Saving model ...\n",
      "epoch: 11 \ttraining Loss: 0.117596 \tvalidation Loss: 0.027723\n",
      "validation loss decreased (0.047761 --> 0.027723).  Saving model ...\n",
      "epoch: 12 \ttraining Loss: 0.106233 \tvalidation Loss: 0.117794\n",
      "epoch: 13 \ttraining Loss: 0.119171 \tvalidation Loss: 0.062703\n",
      "epoch: 14 \ttraining Loss: 0.110371 \tvalidation Loss: 0.167417\n",
      "epoch: 15 \ttraining Loss: 0.104897 \tvalidation Loss: 0.348334\n",
      "epoch: 16 \ttraining Loss: 0.124095 \tvalidation Loss: 0.094841\n",
      "epoch: 17 \ttraining Loss: 0.127940 \tvalidation Loss: 0.109503\n",
      "epoch: 18 \ttraining Loss: 0.132146 \tvalidation Loss: 0.039473\n",
      "epoch: 19 \ttraining Loss: 0.091796 \tvalidation Loss: 0.171382\n",
      "epoch: 20 \ttraining Loss: 0.099592 \tvalidation Loss: 0.085051\n"
     ]
    },
    {
     "name": "stderr",
     "output_type": "stream",
     "text": [
      "C:\\Users\\LENOVO\\AppData\\Local\\Packages\\PythonSoftwareFoundation.Python.3.11_qbz5n2kfra8p0\\LocalCache\\local-packages\\Python311\\site-packages\\torch\\nn\\modules\\loss.py:608: UserWarning: Using a target size (torch.Size([20])) that is different to the input size (torch.Size([20, 1])). This will likely lead to incorrect results due to broadcasting. Please ensure they have the same size.\n",
      "  return F.mse_loss(input, target, reduction=self.reduction)\n"
     ]
    },
    {
     "name": "stdout",
     "output_type": "stream",
     "text": [
      "For the true value  1 the predicted values are  [15, 14, 15, 15, 15, 14, 14, 15, 15, 15, 15, 14, 14, 14, 14]\n",
      "For the true value  5 the predicted values are  [17, 18, 18, 17, 17, 17, 17, 18, 17, 18, 17, 17, 18, 17, 18, 18, 18]\n",
      "For the true value  10 the predicted values are  [21, 20, 22, 20, 23, 20, 21, 21, 22, 22, 21, 22, 20, 21, 22]\n",
      "For the true value  14 the predicted values are  [24, 25, 25, 23, 23, 25, 22, 25, 24, 23, 24, 24]\n",
      "For the true value  18 the predicted values are  [29, 28, 27, 26, 28, 28, 27, 27, 26, 27, 28, 27, 28, 27, 27, 25, 27]\n",
      "For the true value  23 the predicted values are  [28, 27, 31, 31, 29, 28, 30, 28, 31, 32, 33, 30, 29, 32, 29, 29, 33, 32]\n",
      "For the true value  27 the predicted values are  [34, 34, 34, 32, 33, 34, 35, 32, 32, 30, 34, 36, 34, 32, 34, 32, 34]\n",
      "For the true value  31 the predicted values are  [37, 35, 37, 41, 39, 38, 35, 42, 38, 39, 36, 35, 41, 40, 37, 37, 35]\n",
      "For the true value  35 the predicted values are  [39, 38, 40, 40, 38, 41, 39, 43, 41, 40, 41, 39, 39, 40, 43, 36, 38]\n",
      "For the true value  40 the predicted values are  [43, 43, 39, 47, 47, 46, 43, 44, 45, 42, 43, 46, 51]\n",
      "For the true value  44 the predicted values are  [49, 46, 46, 49, 46, 45, 47, 45, 47, 42, 42, 44, 50, 48]\n",
      "For the true value  48 the predicted values are  [50, 49, 44, 47, 44, 54, 49, 49, 50, 48, 50, 48, 49]\n",
      "For the true value  53 the predicted values are  [54, 53, 57, 51, 51, 51, 54, 53, 52, 52, 54, 56, 52, 52, 50]\n",
      "For the true value  57 the predicted values are  [56, 54, 48, 57, 54, 49, 59, 50, 54, 58, 53, 57, 50, 57, 49]\n",
      "For the true value  61 the predicted values are  [59, 55, 60, 57, 57, 58, 58, 66, 58, 54, 61, 57, 61, 53, 64]\n",
      "For the true value  66 the predicted values are  [69, 58, 61, 64, 72, 69, 62, 64, 68, 60, 70, 66, 63, 61]\n",
      "For the true value  70 the predicted values are  [73, 61, 66, 72, 75, 65, 69, 67, 66, 67, 67, 60, 75, 66, 67, 68, 66, 68]\n",
      "For the true value  74 the predicted values are  [67, 62, 77, 77, 67, 65, 72, 69, 65, 69, 75, 66, 76, 72, 75]\n",
      "For the true value  78 the predicted values are  [81, 73, 73, 78, 76, 77, 63, 74, 82, 76, 78, 71, 76, 83]\n",
      "For the true value  83 the predicted values are  [80, 78, 84, 75, 74, 76, 69, 79, 82, 67, 79, 76, 88, 73]\n",
      "For the true value  87 the predicted values are  [69, 91, 88, 77, 75, 69, 74, 84, 79, 79, 75, 78, 75, 72, 75, 78, 79]\n",
      "For the true value  91 the predicted values are  [76, 82, 77, 75, 84, 83, 84, 89, 76]\n",
      "For the true value  96 the predicted values are  [88, 92, 72, 84, 81, 86, 95, 90, 80, 90, 91, 87, 77, 83]\n",
      "test Loss: 1.464263\n",
      "\n",
      "Test accuracy of 1: 0.00% ( 0/15)\n",
      "Test accuracy of 5: 0.00% ( 0/17)\n",
      "Test accuracy of 10: 0.00% ( 0/15)\n",
      "Test accuracy of 14: 0.00% ( 0/12)\n",
      "Test accuracy of 18: 0.00% ( 0/17)\n",
      "Test accuracy of 23: 0.00% ( 0/18)\n",
      "Test accuracy of 27: 0.00% ( 0/17)\n",
      "Test accuracy of 31: 0.00% ( 0/17)\n",
      "Test accuracy of 35: 0.00% ( 0/17)\n",
      "Test accuracy of 40: 0.00% ( 0/13)\n",
      "Test accuracy of 44: 0.00% ( 0/14)\n",
      "Test accuracy of 48: 0.00% ( 0/13)\n",
      "Test accuracy of 53: 0.00% ( 0/15)\n",
      "Test accuracy of 57: 0.00% ( 0/15)\n",
      "Test accuracy of 61: 0.00% ( 0/15)\n",
      "Test accuracy of 66: 0.00% ( 0/14)\n",
      "Test accuracy of 70: 0.00% ( 0/18)\n",
      "Test accuracy of 74: 0.00% ( 0/15)\n",
      "Test accuracy of 78: 0.00% ( 0/14)\n",
      "Test accuracy of 83: 0.00% ( 0/14)\n",
      "Test accuracy of 87: 0.00% ( 0/17)\n",
      "Test accuracy of 91: 0.00% ( 0/ 9)\n",
      "Test accuracy of 96: 0.00% ( 0/14)\n",
      "\n",
      "test accuracy (overall): 0.00% ( 0/360)\n"
     ]
    }
   ],
   "source": [
    "n_epochs = 20 # number of epochs to train the model\n",
    "lr_values=[0.001]\n",
    "dropout_conv=[ 0.3]\n",
    "results={}\n",
    "for dc in dropout_conv:\n",
    "    for lr in lr_values:\n",
    "        train_loader, valid_loader, test_loader = create_data_loaders(batch_size, valid_size, train_data, test_data) \n",
    "        print(f'For the dataset {mask_or_image}, start the experience for the learning rate {lr}, for the dropout_conv {dc}   :')\n",
    "        name= f'kagglemodel_lr_{lr}_dc_{dc}.pt'\n",
    "        CNN_2 = SimpleResNet(img_height=128, img_width=128, img_channels=1, num_classes=100)\n",
    "        CNN_2.to(device=device) \n",
    "        criterion = nn.MSELoss()\n",
    "        optimizer = torch.optim.Adam(CNN_2.parameters(), lr=lr)\n",
    "        train_losses_k, valid_losses_k=training(n_epochs, train_loader, valid_loader, CNN_2, criterion, optimizer, name )\n",
    "        evaluation( CNN_2, test_loader, criterion)\n",
    "        results[(lr, dc, mask_or_image)]= train_losses_k , valid_losses_k\n",
    "        \n"
   ]
  },
  {
   "cell_type": "markdown",
   "metadata": {},
   "source": [
    "**Plotting Training and Validation Loss over Epochs**"
   ]
  },
  {
   "cell_type": "code",
   "execution_count": 83,
   "metadata": {},
   "outputs": [
    {
     "data": {
      "text/plain": [
       "Text(0, 0.5, 'loss value')"
      ]
     },
     "execution_count": 83,
     "metadata": {},
     "output_type": "execute_result"
    },
    {
     "data": {
      "image/png": "[encoded data removed]",
      "text/plain": [
       "<Figure size 640x480 with 1 Axes>"
      ]
     },
     "metadata": {},
     "output_type": "display_data"
    }
   ],
   "source": [
    "plt.plot(range(n_epochs), train_losses_k)\n",
    "plt.plot(range(n_epochs), valid_losses_k)\n",
    "plt.legend(['train', 'validation'], prop={'size': 10})\n",
    "plt.title('loss function', size=10)\n",
    "plt.xlabel('epoch', size=10)\n",
    "plt.ylabel('loss value', size=10)"
   ]
  }
 ],
 "metadata": {
  "kernelspec": {
   "display_name": "LAB_3.11",
   "language": "python",
   "name": "python3"
  },
  "language_info": {
   "codemirror_mode": {
    "name": "ipython",
    "version": 3
   },
   "file_extension": ".py",
   "mimetype": "text/x-python",
   "name": "python",
   "nbconvert_exporter": "python",
   "pygments_lexer": "ipython3",
   "version": "3.11.9"
  }
 },
 "nbformat": 4,
 "nbformat_minor": 2
}
