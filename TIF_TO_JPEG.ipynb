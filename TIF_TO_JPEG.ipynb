{
 "cells": [
  {
   "cell_type": "code",
   "execution_count": 1,
   "metadata": {},
   "outputs": [
    {
     "name": "stdout",
     "output_type": "stream",
     "text": [
      "Requirement already satisfied: pillow in /Users/faberra/anaconda3/lib/python3.10/site-packages (9.4.0)\n",
      "Note: you may need to restart the kernel to use updated packages.\n"
     ]
    }
   ],
   "source": [
    "pip install pillow"
   ]
  },
  {
   "cell_type": "code",
   "execution_count": 3,
   "metadata": {},
   "outputs": [
    {
     "name": "stdout",
     "output_type": "stream",
     "text": [
      "L'image a été convertie en JPEG et sauvegardée sous archive/jpeg/SIMCEPImages_A01_C1_F1_s01_w1.jpeg\n"
     ]
    }
   ],
   "source": [
    "from PIL import Image\n",
    "\n",
    "# Charger l'image TIFF\n",
    "# input_image = \"archive/BBBC005_v1_ground_truth/BBBC005_v1_ground_truth/SIMCEPImages_A01_C1_F1_s01_w1.TIF\"\n",
    "# output_image = \"archive/jpeg/SIMCEPImages_A01_C1_F1_s01_w1.jpeg\"\n",
    "\n",
    "def convert_to_jpeg(input_image, output_image):\n",
    "    with Image.open(input_image) as img:\n",
    "        # Convertir en RGB si ce n'est pas déjà le cas (les JPEG ne supportent pas le mode CMYK ou RGBA)\n",
    "        if img.mode in (\"RGBA\", \"LA\", \"P\"):  \n",
    "            img = img.convert(\"RGB\")\n",
    "        \n",
    "        # Sauvegarder l'image en format JPEG\n",
    "        img.save(output_image, \"JPEG\")\n",
    "\n",
    "# print(f\"L'image a été convertie en JPEG et sauvegardée sous {output_image}\")"
   ]
  }
 ],
 "metadata": {
  "kernelspec": {
   "display_name": "base",
   "language": "python",
   "name": "python3"
  },
  "language_info": {
   "codemirror_mode": {
    "name": "ipython",
    "version": 3
   },
   "file_extension": ".py",
   "mimetype": "text/x-python",
   "name": "python",
   "nbconvert_exporter": "python",
   "pygments_lexer": "ipython3",
   "version": "3.10.9"
  }
 },
 "nbformat": 4,
 "nbformat_minor": 2
}
