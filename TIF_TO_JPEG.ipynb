{
 "cells": [
  {
   "cell_type": "code",
   "execution_count": 55,
   "metadata": {},
   "outputs": [
    {
     "name": "stdout",
     "output_type": "stream",
     "text": [
      "Requirement already satisfied: pillow in c:\\users\\noahs\\appdata\\local\\programs\\python\\python312\\lib\\site-packages (10.3.0)\n",
      "Note: you may need to restart the kernel to use updated packages.\n"
     ]
    }
   ],
   "source": [
    "pip install pillow"
   ]
  },
  {
   "cell_type": "code",
   "execution_count": 56,
   "metadata": {},
   "outputs": [],
   "source": [
    "from PIL import Image\n",
    "\n",
    "# Charger l'image TIFF\n",
    "# input_image = \"archive/BBBC005_v1_ground_truth/BBBC005_v1_ground_truth/SIMCEPImages_A01_C1_F1_s01_w1.TIF\"\n",
    "# output_image = \"archive/jpeg/SIMCEPImages_A01_C1_F1_s01_w1.jpeg\"\n",
    "\n",
    "def convert_to_jpeg(input_image, output_image):\n",
    "    with Image.open(input_image) as img:\n",
    "        # Convertir en RGB si ce n'est pas déjà le cas (les JPEG ne supportent pas le mode CMYK ou RGBA)\n",
    "        if img.mode in (\"RGBA\", \"LA\", \"P\"):  \n",
    "            img = img.convert(\"RGB\")\n",
    "        \n",
    "        # Sauvegarder l'image en format JPEG\n",
    "        img.save(output_image, \"JPEG\")\n",
    "\n",
    "# print(f\"L'image a été convertie en JPEG et sauvegardée sous {output_image}\")"
   ]
  },
  {
   "cell_type": "markdown",
   "metadata": {},
   "source": [
    "## Import de toutes les images "
   ]
  },
  {
   "cell_type": "code",
   "execution_count": 57,
   "metadata": {},
   "outputs": [],
   "source": [
    "## Import des bibliothèques \n",
    "import os \n",
    "import tkinter as tk # Bibliothèque pour le file dialog \n",
    "from tkinter import filedialog \n",
    "import time "
   ]
  },
  {
   "cell_type": "code",
   "execution_count": 58,
   "metadata": {},
   "outputs": [],
   "source": [
    "## Fonction nous premettant de choisir le dossier que l'on voudra traiter \n",
    "\n",
    "def folder_to_convert_choice() -> str :\n",
    "    '''\n",
    "    IN : \n",
    "    * NONE\n",
    "\n",
    "    OUT : \n",
    "    * Adresse du dossier dans lequel il y aura les images à traiter (str) \n",
    "\n",
    "    WARNING : choisir le dossier direct (pas de sous dossier autorisé dans ce programme)\n",
    "    '''\n",
    "\n",
    "    print(\"Choisissez un dossier à traiter \") # On annonce l'étape à réaliser \n",
    "    time.sleep(5) # On attend 5sec le temps de la lecture \n",
    "    \n",
    "    fenetre_dialogue = tk.Tk() # Ouverture de la fenêtre d'enregistrement \n",
    "    fenetre_dialogue.withdraw() # On ferme notre fenêtre actuelle pour éviter des bug supplémentaires \n",
    "\n",
    "    dossier_choisi = filedialog.askdirectory() # On enregistre le nom du dossier choisi\n",
    "\n",
    "    fenetre_dialogue.destroy() # On quitte la fenêtre \n",
    "\n",
    "    print(f\"Le dossier choisi pour le traitement est le suivant :{dossier_choisi}\") # On affiche le nom de ce dossier\n",
    "\n",
    "    if dossier_choisi : # Si on a choisi un dossier \n",
    "        user_input =input(\"Cela vous convient (1 pour accepter) ? :\") # On demande à l'utilisateur s'il est satisfait du dossier choisi (il doit taper \"1\" pour accepter)\n",
    "\n",
    "        if str(user_input) == \"1\" : # S'il a tapé 1 (accepté)\n",
    "            return dossier_choisi # Alors on renvoie le nom du dossier \n",
    "\n",
    "    else : print(\"Le dossier choisi n'est pas convenable...\") # S'il y a un problème : on le signale \n",
    "\n",
    "    return None # On ne retourne rien \n",
    "\n",
    "    "
   ]
  },
  {
   "cell_type": "code",
   "execution_count": 59,
   "metadata": {},
   "outputs": [],
   "source": [
    "## Fonction nous premettant de choisir le dossier dans lequel sera enregistrée l'image  \n",
    "\n",
    "def folder_to_save_choice() -> str :\n",
    "    '''\n",
    "    IN : \n",
    "    * NONE\n",
    "\n",
    "    OUT : \n",
    "    * Adresse du dossier dans lequel il y aura les images traitées seront sauvegardées (str) \n",
    "\n",
    "    WARNING : choisir le dossier direct (pas de sous dossier autorisé dans ce programme)\n",
    "    '''\n",
    "\n",
    "    print(\"Choisissez un dossier pour la sauvegarde des images traitées \") # On annonce l'étape à réaliser \n",
    "    time.sleep(5) # On attend 5sec le temps de la lecture \n",
    "\n",
    "    fenetre_dialogue = tk.Tk() # Ouverture de la fenêtre d'enregistrement \n",
    "    fenetre_dialogue.withdraw() # On ferme notre fenêtre actuelle pour éviter des bug supplémentaires \n",
    "\n",
    "    dossier_choisi = filedialog.askdirectory() # On enregistre le nom du dossier choisi\n",
    "\n",
    "    fenetre_dialogue.destroy() # On quitte la fenêtre \n",
    "\n",
    "    print(f\"Le dossier choisi pour la sauvegarde est le suivant :{dossier_choisi}\") # On affiche le nom de ce dossier\n",
    "\n",
    "    if dossier_choisi : # Si on a choisi un dossier \n",
    "        user_input = input(\"Cela vous convient (1 pour accepter) ? :\") # On demande à l'utilisateur s'il est satisfait du dossier choisi (il doit taper \"1\" pour accepter)\n",
    "\n",
    "        if str(user_input) == \"1\" : # S'il a tapé 1 (accepté)\n",
    "            return dossier_choisi # Alors on renvoie le nom du dossier \n",
    "\n",
    "    else : print(\"Le dossier choisi n'est pas convenable...\") # S'il y a un problème : on le signale \n",
    "\n",
    "    return None # On ne retourne rien "
   ]
  },
  {
   "cell_type": "code",
   "execution_count": 60,
   "metadata": {},
   "outputs": [],
   "source": [
    "## Fonction d'ouverture du dossier contenant les images \n",
    "\n",
    "def files_bringer(dossier : str) -> list[list[str]] :\n",
    "    '''\n",
    "    IN : \n",
    "    * Nom du dossier (str)\n",
    "\n",
    "    OUT : \n",
    "    * Liste de liste adresse et nom de toutes les images à convertir (list[str,str])\n",
    "    '''\n",
    "\n",
    "    ## Initialisation\n",
    "    Filepath_List = [] # Liste vide dans laquelle sera stockée les adresses \n",
    "\n",
    "    ## PROCESSING : Recherche des nom d'images \n",
    "    for image in os.listdir(dossier) : # Boucle sur toutes les images trouvées dans le dossier demandé \n",
    "\n",
    "        image_path = os.path.join(dossier, image) # On récupère l'adresse de chaque image \n",
    "\n",
    "        if image_path.endswith('.TIF') : # Si elles sont bien sous format tif \n",
    "            Filepath_List.append([image_path, image]) # Alors notre liste pour la convertion va l'apprendre \n",
    "    \n",
    "    print(Filepath_List)\n",
    "    \n",
    "    return Filepath_List\n",
    "\n"
   ]
  },
  {
   "cell_type": "code",
   "execution_count": 61,
   "metadata": {},
   "outputs": [],
   "source": [
    "## Boucle de traitement des images \n",
    "\n",
    "def CONVERSION_RUNNER() -> None : \n",
    "    \n",
    "    '''\n",
    "    IN : \n",
    "    * None\n",
    "\n",
    "    OUT : \n",
    "    * None \n",
    "    '''\n",
    "\n",
    "    ## PROCESSING RUNS \n",
    "\n",
    "    dossier_sauvegarde = folder_to_save_choice() # On prend le nom du dossier de sauvegarde \n",
    "    dossier_a_traiter = folder_to_convert_choice() # On prend le nom du dossier où sont stockées les images à convertir \n",
    "\n",
    "    if dossier_sauvegarde != None and dossier_a_traiter !=None : # Si les dossiers sont satisfaisant \n",
    "\n",
    "        Listes_adresses = files_bringer(dossier=dossier_a_traiter) # On récupère toutes les images\n",
    "        n = len(Listes_adresses)\n",
    "\n",
    "        for image in Listes_adresses : # On effectue une boucle sur chaque image \n",
    "            \n",
    "            save_name_pre = image[1][:-4] # on enlève les 4 derniers caractères i.e. : \".TIF\"\n",
    "            save_name_jpeg = save_name_pre+\".jpeg\"\n",
    "            nom_de_sauvegarde = os.path.join(dossier_sauvegarde, save_name_jpeg) # On détermine le nom de sauvegarde \n",
    "            convert_to_jpeg(image[0], nom_de_sauvegarde) # On la convertit \n",
    "        \n",
    "        print(f\"Traitement de {n} images terminé, les images sont sauvegardées dans le dossier {dossier_sauvegarde} !\") # On confime la bonne sauvegarde \n",
    "        \n",
    "        return None\n",
    "    \n",
    "    print(\"Le traitement n'a pas eu lieu\") # Sinon on annonce que le traitement n'a pas eu lieu \n"
   ]
  },
  {
   "cell_type": "markdown",
   "metadata": {},
   "source": [
    "# INFORMATIONS\n",
    "* La section ci-dessous fera run le programme (a condition d'avoir les librairies et d'avoir precompil les fonctions définies plus haut)\n",
    "* Le programme va ouvrir au bout de 5 sec une fenêtre de dialogue si elle ne saffiche pas devant la fenêtre actuelle, elle s'affichera derrière\n",
    "* Il faudra alors choisir le DOSSIER DIRECT DE SAUVEGARDE\n",
    "* Revenir sur le notebook et taper \"1\" (sans les guillemets ni espace) dans la barre de dialogue du notebook pour valider (n'importe quoi d'autre pour refuser)\n",
    "* Le programme va ouvrir au bout de 5 sec une nouvelle fenêtre de dialogue si elle ne saffiche pas devant la fenêtre actuelle, idem\n",
    "* Il faudra alors choisir le DOSSIER DIRECT CONTENANT LES IMAGES A CONVERTIR\n",
    "* Revenir sur le notebook et taper \"1\" (sans les guillemets ni espace) dans la barre de dialogue du notebook pour valider (n'importe quoi d'autre pour refuser)\n",
    "* Puis la fonction va convertir toutes les images \".TIF\" en \".jpeg\" du dossier initial dans le dossier choisi. \n",
    "* Enfin sera affiché combien de photos seront converties et dans quel dossier "
   ]
  },
  {
   "cell_type": "code",
   "execution_count": 62,
   "metadata": {},
   "outputs": [
    {
     "name": "stdout",
     "output_type": "stream",
     "text": [
      "Choisissez un dossier pour la sauvegarde des images traitées \n",
      "Le dossier choisi pour la sauvegarde est le suivant :C:/Users/noahs/Desktop/Cours/PROJET COMMANDE ENTREPRISE/Programmes/traitement image/test_init_traitement_image\n",
      "Choisissez un dossier à traiter \n",
      "Le dossier choisi pour le traitement est le suivant :C:/Users/noahs/Desktop/Cours/PROJET COMMANDE ENTREPRISE/Programmes/traitement image/test\n",
      "[['C:/Users/noahs/Desktop/Cours/PROJET COMMANDE ENTREPRISE/Programmes/traitement image/test\\\\SIMCEPImages_A03_C10_F1_s01_w1.TIF', 'SIMCEPImages_A03_C10_F1_s01_w1.TIF'], ['C:/Users/noahs/Desktop/Cours/PROJET COMMANDE ENTREPRISE/Programmes/traitement image/test\\\\SIMCEPImages_A04_C14_F1_s19_w1.TIF', 'SIMCEPImages_A04_C14_F1_s19_w1.TIF'], ['C:/Users/noahs/Desktop/Cours/PROJET COMMANDE ENTREPRISE/Programmes/traitement image/test\\\\SIMCEPImages_A05_C18_F1_s14_w2.TIF', 'SIMCEPImages_A05_C18_F1_s14_w2.TIF'], ['C:/Users/noahs/Desktop/Cours/PROJET COMMANDE ENTREPRISE/Programmes/traitement image/test\\\\SIMCEPImages_A17_C70_F1_s16_w1.TIF', 'SIMCEPImages_A17_C70_F1_s16_w1.TIF'], ['C:/Users/noahs/Desktop/Cours/PROJET COMMANDE ENTREPRISE/Programmes/traitement image/test\\\\SIMCEPImages_A19_C78_F1_s16_w1.TIF', 'SIMCEPImages_A19_C78_F1_s16_w1.TIF'], ['C:/Users/noahs/Desktop/Cours/PROJET COMMANDE ENTREPRISE/Programmes/traitement image/test\\\\SIMCEPImages_A21_C87_F1_s12_w1.TIF', 'SIMCEPImages_A21_C87_F1_s12_w1.TIF']]\n",
      "Traitement de 6 images terminé, les images sont sauvegardées dans le dossier C:/Users/noahs/Desktop/Cours/PROJET COMMANDE ENTREPRISE/Programmes/traitement image/test_init_traitement_image !\n"
     ]
    }
   ],
   "source": [
    "## RUNNER \n",
    "\n",
    "CONVERSION_RUNNER() # Effectuation du programme, les intructions seront en dessous"
   ]
  }
 ],
 "metadata": {
  "kernelspec": {
   "display_name": "base",
   "language": "python",
   "name": "python3"
  },
  "language_info": {
   "codemirror_mode": {
    "name": "ipython",
    "version": 3
   },
   "file_extension": ".py",
   "mimetype": "text/x-python",
   "name": "python",
   "nbconvert_exporter": "python",
   "pygments_lexer": "ipython3",
   "version": "3.12.3"
  }
 },
 "nbformat": 4,
 "nbformat_minor": 2
}
